{
  "nbformat": 4,
  "nbformat_minor": 0,
  "metadata": {
    "colab": {
      "provenance": [],
      "collapsed_sections": [],
      "include_colab_link": true
    },
    "kernelspec": {
      "name": "python3",
      "display_name": "Python 3"
    },
    "language_info": {
      "name": "python"
    }
  },
  "cells": [
    {
      "cell_type": "markdown",
      "metadata": {
        "id": "view-in-github",
        "colab_type": "text"
      },
      "source": [
        "<a href=\"https://colab.research.google.com/github/vapaul10/bank_marketing_analysis/blob/main/Bank_Marketing_Analysis_by_Valeri.ipynb\" target=\"_parent\"><img src=\"https://colab.research.google.com/assets/colab-badge.svg\" alt=\"Open In Colab\"/></a>"
      ]
    },
    {
      "cell_type": "markdown",
      "metadata": {
        "id": "uiEsdpBULqWz"
      },
      "source": [
        "###**Bank Marketing Analysis**###\n",
        "######Valeri Paul, Ed.D###\n",
        "######DESC624 Class**###\n"
      ]
    },
    {
      "cell_type": "markdown",
      "metadata": {
        "id": "RgcSPnoafO2o"
      },
      "source": [
        "######**DESC 624**### \n",
        "###### Use of Logistic Regression and Random Forest######\n",
        "\n"
      ]
    },
    {
      "cell_type": "code",
      "metadata": {
        "id": "BNOQq6DSEX3N"
      },
      "source": [
        "#!pip3 install rpy2\n",
        "%load_ext rpy2.ipython"
      ],
      "execution_count": null,
      "outputs": []
    },
    {
      "cell_type": "code",
      "metadata": {
        "id": "7cNC4iuudIj_",
        "colab": {
          "base_uri": "https://localhost:8080/"
        },
        "outputId": "d0ddbeb7-09be-44f9-f521-51bc49ff3deb"
      },
      "source": [
        "!apt-get install default-jre\n",
        "!java -version"
      ],
      "execution_count": null,
      "outputs": [
        {
          "output_type": "stream",
          "text": [
            "Reading package lists... Done\n",
            "Building dependency tree       \n",
            "Reading state information... Done\n",
            "default-jre is already the newest version (2:1.11-68ubuntu1~18.04.1).\n",
            "default-jre set to manually installed.\n",
            "0 upgraded, 0 newly installed, 0 to remove and 39 not upgraded.\n",
            "openjdk version \"11.0.11\" 2021-04-20\n",
            "OpenJDK Runtime Environment (build 11.0.11+9-Ubuntu-0ubuntu2.18.04)\n",
            "OpenJDK 64-Bit Server VM (build 11.0.11+9-Ubuntu-0ubuntu2.18.04, mixed mode, sharing)\n"
          ],
          "name": "stdout"
        }
      ]
    },
    {
      "cell_type": "markdown",
      "metadata": {
        "id": "iJvKgu44LLn2"
      },
      "source": [
        "#**I. Python Setup Section**\n",
        "\n",
        "---\n",
        "\n"
      ]
    },
    {
      "cell_type": "code",
      "metadata": {
        "id": "kygGrrqgyfrZ"
      },
      "source": [
        "##Python Packages\n",
        "import pandas as pd\n",
        "from sklearn import tree\n",
        "import pydotplus\n",
        "from sklearn.tree import DecisionTreeClassifier\n",
        "import matplotlib.pyplot as plt\n",
        "import matplotlib.image as pltimg\n",
        "import seaborn as sns\n",
        "import numpy as np\n",
        "from scipy import stats"
      ],
      "execution_count": null,
      "outputs": []
    },
    {
      "cell_type": "code",
      "metadata": {
        "id": "LYcHvAlX0Cru",
        "colab": {
          "base_uri": "https://localhost:8080/"
        },
        "outputId": "29acaa31-e266-4c09-8793-8bba33482fdf"
      },
      "source": [
        "#Install python datatable which is the same as data.table() in R\n",
        "!pip install datatable\n",
        "import datatable as dt\n",
        "\n",
        "from datatable import (dt, f, by, ifelse, update, sort,\n",
        "                       count, min, max, mean, sum, rowsum)"
      ],
      "execution_count": null,
      "outputs": [
        {
          "output_type": "stream",
          "text": [
            "Collecting datatable\n",
            "\u001b[?25l  Downloading https://files.pythonhosted.org/packages/26/fc/d780b150eeae26e0a14b964f27eefcf9fad746f16e0b05c40098d84913d7/datatable-0.11.1-cp37-cp37m-manylinux2010_x86_64.whl (83.9MB)\n",
            "\u001b[K     |████████████████████████████████| 83.9MB 37kB/s \n",
            "\u001b[?25hInstalling collected packages: datatable\n",
            "Successfully installed datatable-0.11.1\n"
          ],
          "name": "stdout"
        }
      ]
    },
    {
      "cell_type": "code",
      "metadata": {
        "id": "crFvhSnv1EdB",
        "colab": {
          "base_uri": "https://localhost:8080/"
        },
        "outputId": "433e9c63-58bc-4c87-e1fa-cddd95f984f6"
      },
      "source": [
        "#Python h2o\n",
        "\n",
        "#h2o is the Machine Learning package we will be using.\n",
        "# It has both an R implementation and a Python implemenation. \n",
        "#The h2o.init() is commented out below because we are \n",
        "#not going to use it for this HW.  You can only have on instance (either Python or R)\n",
        "#of h2o running in any one session. \n",
        "\n",
        "! pip install h2o\n",
        "\n",
        "import h2o\n",
        "\n",
        "#h2o.init()\n",
        "#h2o.shutdown()"
      ],
      "execution_count": null,
      "outputs": [
        {
          "output_type": "stream",
          "text": [
            "Collecting h2o\n",
            "\u001b[?25l  Downloading https://files.pythonhosted.org/packages/23/c9/f24bbb8e7a57097f12c7bef3d277641eddf5160688e442d0eb1b41bf6a67/h2o-3.32.1.3.tar.gz (164.8MB)\n",
            "\u001b[K     |████████████████████████████████| 164.8MB 86kB/s \n",
            "\u001b[?25hRequirement already satisfied: requests in /usr/local/lib/python3.7/dist-packages (from h2o) (2.23.0)\n",
            "Requirement already satisfied: tabulate in /usr/local/lib/python3.7/dist-packages (from h2o) (0.8.9)\n",
            "Requirement already satisfied: future in /usr/local/lib/python3.7/dist-packages (from h2o) (0.16.0)\n",
            "Collecting colorama>=0.3.8\n",
            "  Downloading https://files.pythonhosted.org/packages/44/98/5b86278fbbf250d239ae0ecb724f8572af1c91f4a11edf4d36a206189440/colorama-0.4.4-py2.py3-none-any.whl\n",
            "Requirement already satisfied: urllib3!=1.25.0,!=1.25.1,<1.26,>=1.21.1 in /usr/local/lib/python3.7/dist-packages (from requests->h2o) (1.24.3)\n",
            "Requirement already satisfied: idna<3,>=2.5 in /usr/local/lib/python3.7/dist-packages (from requests->h2o) (2.10)\n",
            "Requirement already satisfied: chardet<4,>=3.0.2 in /usr/local/lib/python3.7/dist-packages (from requests->h2o) (3.0.4)\n",
            "Requirement already satisfied: certifi>=2017.4.17 in /usr/local/lib/python3.7/dist-packages (from requests->h2o) (2021.5.30)\n",
            "Building wheels for collected packages: h2o\n",
            "  Building wheel for h2o (setup.py) ... \u001b[?25l\u001b[?25hdone\n",
            "  Created wheel for h2o: filename=h2o-3.32.1.3-py2.py3-none-any.whl size=164854343 sha256=43daad45af4b7d3c8b05c2cddb5915290e737131ea85f860ddb8980abff270e3\n",
            "  Stored in directory: /root/.cache/pip/wheels/4f/bb/82/0988682f9abd0b5e95109a4aae6793dd427173b6dc671d9252\n",
            "Successfully built h2o\n",
            "Installing collected packages: colorama, h2o\n",
            "Successfully installed colorama-0.4.4 h2o-3.32.1.3\n"
          ],
          "name": "stdout"
        }
      ]
    },
    {
      "cell_type": "markdown",
      "metadata": {
        "id": "c7OL8ssaMG-N"
      },
      "source": [
        "#**II. Python Data Loading**"
      ]
    },
    {
      "cell_type": "code",
      "metadata": {
        "id": "UiS2yuvi0Awz",
        "colab": {
          "base_uri": "https://localhost:8080/"
        },
        "outputId": "740737a5-b2d8-42cd-fa44-230966894992"
      },
      "source": [
        "#Data Load in Python\n",
        "bank_p = dt.fread(\"https://raw.githubusercontent.com/jjghockey/DESC624/main/bank-full.csv\")\n",
        "###  bank_p = dt.fread(\"https://raw.githubusercontent.com/vapaul10/DESC624PredictiveAnalytics/Datasets/bank-full.csv\")  #incase prof jjg link doesn't work.  This a backup link to same data on my github.\n",
        "print(bank_p.head())\n",
        "print(bank_p.shape)\n"
      ],
      "execution_count": null,
      "outputs": [
        {
          "output_type": "stream",
          "text": [
            "   | age  job           marital   education  default  balance  housing  loan  contact  day  …  campaign  pdays  previous  poutcome  y \n",
            "-- + ---  ------------  --------  ---------  -------  -------  -------  ----  -------  ---     --------  -----  --------  --------  --\n",
            " 0 |  58  management    married   tertiary   no          2143  yes      no    unknown    5  …         1     -1         0  unknown   no\n",
            " 1 |  44  technician    single    secondary  no            29  yes      no    unknown    5  …         1     -1         0  unknown   no\n",
            " 2 |  33  entrepreneur  married   secondary  no             2  yes      yes   unknown    5  …         1     -1         0  unknown   no\n",
            " 3 |  47  blue-collar   married   unknown    no          1506  yes      no    unknown    5  …         1     -1         0  unknown   no\n",
            " 4 |  33  unknown       single    unknown    no             1  no       no    unknown    5  …         1     -1         0  unknown   no\n",
            " 5 |  35  management    married   tertiary   no           231  yes      no    unknown    5  …         1     -1         0  unknown   no\n",
            " 6 |  28  management    single    tertiary   no           447  yes      yes   unknown    5  …         1     -1         0  unknown   no\n",
            " 7 |  42  entrepreneur  divorced  tertiary   yes            2  yes      no    unknown    5  …         1     -1         0  unknown   no\n",
            " 8 |  58  retired       married   primary    no           121  yes      no    unknown    5  …         1     -1         0  unknown   no\n",
            " 9 |  43  technician    single    secondary  no           593  yes      no    unknown    5  …         1     -1         0  unknown   no\n",
            "\n",
            "[10 rows x 17 columns]\n",
            "\n",
            "(45211, 17)\n"
          ],
          "name": "stdout"
        }
      ]
    },
    {
      "cell_type": "markdown",
      "metadata": {
        "id": "8FWhABonMiUI"
      },
      "source": [
        "#**III. Python Data Exploration**"
      ]
    },
    {
      "cell_type": "markdown",
      "metadata": {
        "id": "ATWf9oEV8PYh"
      },
      "source": [
        "Pythons function for summary() only uses numeric values, so you will have to build categorical tables on your own."
      ]
    },
    {
      "cell_type": "code",
      "metadata": {
        "id": "1sFvlpsM_Gef",
        "colab": {
          "base_uri": "https://localhost:8080/"
        },
        "outputId": "7e8294ac-203e-4865-a453-75f97a1146dc"
      },
      "source": [
        "bank_p.names"
      ],
      "execution_count": null,
      "outputs": [
        {
          "output_type": "execute_result",
          "data": {
            "text/plain": [
              "('age',\n",
              " 'job',\n",
              " 'marital',\n",
              " 'education',\n",
              " 'default',\n",
              " 'balance',\n",
              " 'housing',\n",
              " 'loan',\n",
              " 'contact',\n",
              " 'day',\n",
              " 'month',\n",
              " 'duration',\n",
              " 'campaign',\n",
              " 'pdays',\n",
              " 'previous',\n",
              " 'poutcome',\n",
              " 'y')"
            ]
          },
          "metadata": {
            "tags": []
          },
          "execution_count": 8
        }
      ]
    },
    {
      "cell_type": "markdown",
      "metadata": {
        "id": "W5v-36OO_35Y"
      },
      "source": [
        "Categorical tables using python"
      ]
    },
    {
      "cell_type": "code",
      "metadata": {
        "id": "3dftnVrP8cTH",
        "colab": {
          "base_uri": "https://localhost:8080/"
        },
        "outputId": "a3f2cfab-0443-4a7d-f28c-5fa211cf372b"
      },
      "source": [
        "bank_p['count'] = 1  #Build a new variable in order to count rows in the data\n",
        "bank_p[f.y==\"yes\",'y1']=1\n",
        "bank_p[f.y==\"no\",'y1']=0\n",
        "\n",
        "bank_p[:, sum(f.count), by('y', 'y1')]  #Recode y into a 0/1 dummy variable. this is for classification later."
      ],
      "execution_count": null,
      "outputs": [
        {
          "output_type": "stream",
          "text": [
            "   | y    y1  count\n",
            "-- + ---  --  -----\n",
            " 0 | no    0  39922\n",
            " 1 | yes   1   5289\n",
            "\n",
            "[2 rows x 3 columns]\n"
          ],
          "name": "stdout"
        },
        {
          "output_type": "execute_result",
          "data": {
            "text/html": [
              "<div class='datatable'>\n",
              "  <table class='frame'>\n",
              "  <thead>\n",
              "    <tr class='colnames'><td class='row_index'></td><th>y</th><th>y1</th><th>count</th></tr>\n",
              "    <tr class='coltypes'><td class='row_index'></td><td class='str' title='str32'>&#x25AA;&#x25AA;&#x25AA;&#x25AA;</td><td class='int' title='int32'>&#x25AA;&#x25AA;&#x25AA;&#x25AA;</td><td class='int' title='int64'>&#x25AA;&#x25AA;&#x25AA;&#x25AA;&#x25AA;&#x25AA;&#x25AA;&#x25AA;</td></tr>\n",
              "  </thead>\n",
              "  <tbody>\n",
              "    <tr><td class='row_index'>0</td><td>no</td><td>0</td><td>39922</td></tr>\n",
              "    <tr><td class='row_index'>1</td><td>yes</td><td>1</td><td>5289</td></tr>\n",
              "  </tbody>\n",
              "  </table>\n",
              "  <div class='footer'>\n",
              "    <div class='frame_dimensions'>2 rows &times; 3 columns</div>\n",
              "  </div>\n",
              "</div>\n"
            ],
            "text/plain": [
              ""
            ]
          },
          "metadata": {
            "tags": []
          },
          "execution_count": 9
        }
      ]
    },
    {
      "cell_type": "code",
      "metadata": {
        "id": "K1xxQe4I42uv",
        "colab": {
          "base_uri": "https://localhost:8080/",
          "height": 328
        },
        "outputId": "4f20aa8e-0fda-4c85-b8c0-13d66952a59a"
      },
      "source": [
        "bank_pd=bank_p.to_pandas()  #Use this to convert a datatable object into a pandas object. \n",
        "summary = bank_pd.describe()\n",
        "summary = summary.transpose()\n",
        "summary"
      ],
      "execution_count": null,
      "outputs": [
        {
          "output_type": "execute_result",
          "data": {
            "text/html": [
              "<div>\n",
              "<style scoped>\n",
              "    .dataframe tbody tr th:only-of-type {\n",
              "        vertical-align: middle;\n",
              "    }\n",
              "\n",
              "    .dataframe tbody tr th {\n",
              "        vertical-align: top;\n",
              "    }\n",
              "\n",
              "    .dataframe thead th {\n",
              "        text-align: right;\n",
              "    }\n",
              "</style>\n",
              "<table border=\"1\" class=\"dataframe\">\n",
              "  <thead>\n",
              "    <tr style=\"text-align: right;\">\n",
              "      <th></th>\n",
              "      <th>count</th>\n",
              "      <th>mean</th>\n",
              "      <th>std</th>\n",
              "      <th>min</th>\n",
              "      <th>25%</th>\n",
              "      <th>50%</th>\n",
              "      <th>75%</th>\n",
              "      <th>max</th>\n",
              "    </tr>\n",
              "  </thead>\n",
              "  <tbody>\n",
              "    <tr>\n",
              "      <th>age</th>\n",
              "      <td>45211.0</td>\n",
              "      <td>40.936210</td>\n",
              "      <td>10.618762</td>\n",
              "      <td>18.0</td>\n",
              "      <td>33.0</td>\n",
              "      <td>39.0</td>\n",
              "      <td>48.0</td>\n",
              "      <td>95.0</td>\n",
              "    </tr>\n",
              "    <tr>\n",
              "      <th>balance</th>\n",
              "      <td>45211.0</td>\n",
              "      <td>1362.272058</td>\n",
              "      <td>3044.765829</td>\n",
              "      <td>-8019.0</td>\n",
              "      <td>72.0</td>\n",
              "      <td>448.0</td>\n",
              "      <td>1428.0</td>\n",
              "      <td>102127.0</td>\n",
              "    </tr>\n",
              "    <tr>\n",
              "      <th>day</th>\n",
              "      <td>45211.0</td>\n",
              "      <td>15.806419</td>\n",
              "      <td>8.322476</td>\n",
              "      <td>1.0</td>\n",
              "      <td>8.0</td>\n",
              "      <td>16.0</td>\n",
              "      <td>21.0</td>\n",
              "      <td>31.0</td>\n",
              "    </tr>\n",
              "    <tr>\n",
              "      <th>duration</th>\n",
              "      <td>45211.0</td>\n",
              "      <td>258.163080</td>\n",
              "      <td>257.527812</td>\n",
              "      <td>0.0</td>\n",
              "      <td>103.0</td>\n",
              "      <td>180.0</td>\n",
              "      <td>319.0</td>\n",
              "      <td>4918.0</td>\n",
              "    </tr>\n",
              "    <tr>\n",
              "      <th>campaign</th>\n",
              "      <td>45211.0</td>\n",
              "      <td>2.763841</td>\n",
              "      <td>3.098021</td>\n",
              "      <td>1.0</td>\n",
              "      <td>1.0</td>\n",
              "      <td>2.0</td>\n",
              "      <td>3.0</td>\n",
              "      <td>63.0</td>\n",
              "    </tr>\n",
              "    <tr>\n",
              "      <th>pdays</th>\n",
              "      <td>45211.0</td>\n",
              "      <td>40.197828</td>\n",
              "      <td>100.128746</td>\n",
              "      <td>-1.0</td>\n",
              "      <td>-1.0</td>\n",
              "      <td>-1.0</td>\n",
              "      <td>-1.0</td>\n",
              "      <td>871.0</td>\n",
              "    </tr>\n",
              "    <tr>\n",
              "      <th>previous</th>\n",
              "      <td>45211.0</td>\n",
              "      <td>0.580323</td>\n",
              "      <td>2.303441</td>\n",
              "      <td>0.0</td>\n",
              "      <td>0.0</td>\n",
              "      <td>0.0</td>\n",
              "      <td>0.0</td>\n",
              "      <td>275.0</td>\n",
              "    </tr>\n",
              "    <tr>\n",
              "      <th>count</th>\n",
              "      <td>45211.0</td>\n",
              "      <td>1.000000</td>\n",
              "      <td>0.000000</td>\n",
              "      <td>1.0</td>\n",
              "      <td>1.0</td>\n",
              "      <td>1.0</td>\n",
              "      <td>1.0</td>\n",
              "      <td>1.0</td>\n",
              "    </tr>\n",
              "    <tr>\n",
              "      <th>y1</th>\n",
              "      <td>45211.0</td>\n",
              "      <td>0.116985</td>\n",
              "      <td>0.321406</td>\n",
              "      <td>0.0</td>\n",
              "      <td>0.0</td>\n",
              "      <td>0.0</td>\n",
              "      <td>0.0</td>\n",
              "      <td>1.0</td>\n",
              "    </tr>\n",
              "  </tbody>\n",
              "</table>\n",
              "</div>"
            ],
            "text/plain": [
              "            count         mean          std  ...    50%     75%       max\n",
              "age       45211.0    40.936210    10.618762  ...   39.0    48.0      95.0\n",
              "balance   45211.0  1362.272058  3044.765829  ...  448.0  1428.0  102127.0\n",
              "day       45211.0    15.806419     8.322476  ...   16.0    21.0      31.0\n",
              "duration  45211.0   258.163080   257.527812  ...  180.0   319.0    4918.0\n",
              "campaign  45211.0     2.763841     3.098021  ...    2.0     3.0      63.0\n",
              "pdays     45211.0    40.197828   100.128746  ...   -1.0    -1.0     871.0\n",
              "previous  45211.0     0.580323     2.303441  ...    0.0     0.0     275.0\n",
              "count     45211.0     1.000000     0.000000  ...    1.0     1.0       1.0\n",
              "y1        45211.0     0.116985     0.321406  ...    0.0     0.0       1.0\n",
              "\n",
              "[9 rows x 8 columns]"
            ]
          },
          "metadata": {
            "tags": []
          },
          "execution_count": 10
        }
      ]
    },
    {
      "cell_type": "code",
      "metadata": {
        "id": "WH0DqPLNCQA_",
        "colab": {
          "base_uri": "https://localhost:8080/",
          "height": 202
        },
        "outputId": "9fb3db1d-b017-4de1-9d21-30a0e97faeda"
      },
      "source": [
        "bank_pd.head()"
      ],
      "execution_count": null,
      "outputs": [
        {
          "output_type": "execute_result",
          "data": {
            "text/html": [
              "<div>\n",
              "<style scoped>\n",
              "    .dataframe tbody tr th:only-of-type {\n",
              "        vertical-align: middle;\n",
              "    }\n",
              "\n",
              "    .dataframe tbody tr th {\n",
              "        vertical-align: top;\n",
              "    }\n",
              "\n",
              "    .dataframe thead th {\n",
              "        text-align: right;\n",
              "    }\n",
              "</style>\n",
              "<table border=\"1\" class=\"dataframe\">\n",
              "  <thead>\n",
              "    <tr style=\"text-align: right;\">\n",
              "      <th></th>\n",
              "      <th>age</th>\n",
              "      <th>job</th>\n",
              "      <th>marital</th>\n",
              "      <th>education</th>\n",
              "      <th>default</th>\n",
              "      <th>balance</th>\n",
              "      <th>housing</th>\n",
              "      <th>loan</th>\n",
              "      <th>contact</th>\n",
              "      <th>day</th>\n",
              "      <th>month</th>\n",
              "      <th>duration</th>\n",
              "      <th>campaign</th>\n",
              "      <th>pdays</th>\n",
              "      <th>previous</th>\n",
              "      <th>poutcome</th>\n",
              "      <th>y</th>\n",
              "      <th>count</th>\n",
              "      <th>y1</th>\n",
              "    </tr>\n",
              "  </thead>\n",
              "  <tbody>\n",
              "    <tr>\n",
              "      <th>0</th>\n",
              "      <td>58</td>\n",
              "      <td>management</td>\n",
              "      <td>married</td>\n",
              "      <td>tertiary</td>\n",
              "      <td>no</td>\n",
              "      <td>2143</td>\n",
              "      <td>yes</td>\n",
              "      <td>no</td>\n",
              "      <td>unknown</td>\n",
              "      <td>5</td>\n",
              "      <td>may</td>\n",
              "      <td>261</td>\n",
              "      <td>1</td>\n",
              "      <td>-1</td>\n",
              "      <td>0</td>\n",
              "      <td>unknown</td>\n",
              "      <td>no</td>\n",
              "      <td>1</td>\n",
              "      <td>0</td>\n",
              "    </tr>\n",
              "    <tr>\n",
              "      <th>1</th>\n",
              "      <td>44</td>\n",
              "      <td>technician</td>\n",
              "      <td>single</td>\n",
              "      <td>secondary</td>\n",
              "      <td>no</td>\n",
              "      <td>29</td>\n",
              "      <td>yes</td>\n",
              "      <td>no</td>\n",
              "      <td>unknown</td>\n",
              "      <td>5</td>\n",
              "      <td>may</td>\n",
              "      <td>151</td>\n",
              "      <td>1</td>\n",
              "      <td>-1</td>\n",
              "      <td>0</td>\n",
              "      <td>unknown</td>\n",
              "      <td>no</td>\n",
              "      <td>1</td>\n",
              "      <td>0</td>\n",
              "    </tr>\n",
              "    <tr>\n",
              "      <th>2</th>\n",
              "      <td>33</td>\n",
              "      <td>entrepreneur</td>\n",
              "      <td>married</td>\n",
              "      <td>secondary</td>\n",
              "      <td>no</td>\n",
              "      <td>2</td>\n",
              "      <td>yes</td>\n",
              "      <td>yes</td>\n",
              "      <td>unknown</td>\n",
              "      <td>5</td>\n",
              "      <td>may</td>\n",
              "      <td>76</td>\n",
              "      <td>1</td>\n",
              "      <td>-1</td>\n",
              "      <td>0</td>\n",
              "      <td>unknown</td>\n",
              "      <td>no</td>\n",
              "      <td>1</td>\n",
              "      <td>0</td>\n",
              "    </tr>\n",
              "    <tr>\n",
              "      <th>3</th>\n",
              "      <td>47</td>\n",
              "      <td>blue-collar</td>\n",
              "      <td>married</td>\n",
              "      <td>unknown</td>\n",
              "      <td>no</td>\n",
              "      <td>1506</td>\n",
              "      <td>yes</td>\n",
              "      <td>no</td>\n",
              "      <td>unknown</td>\n",
              "      <td>5</td>\n",
              "      <td>may</td>\n",
              "      <td>92</td>\n",
              "      <td>1</td>\n",
              "      <td>-1</td>\n",
              "      <td>0</td>\n",
              "      <td>unknown</td>\n",
              "      <td>no</td>\n",
              "      <td>1</td>\n",
              "      <td>0</td>\n",
              "    </tr>\n",
              "    <tr>\n",
              "      <th>4</th>\n",
              "      <td>33</td>\n",
              "      <td>unknown</td>\n",
              "      <td>single</td>\n",
              "      <td>unknown</td>\n",
              "      <td>no</td>\n",
              "      <td>1</td>\n",
              "      <td>no</td>\n",
              "      <td>no</td>\n",
              "      <td>unknown</td>\n",
              "      <td>5</td>\n",
              "      <td>may</td>\n",
              "      <td>198</td>\n",
              "      <td>1</td>\n",
              "      <td>-1</td>\n",
              "      <td>0</td>\n",
              "      <td>unknown</td>\n",
              "      <td>no</td>\n",
              "      <td>1</td>\n",
              "      <td>0</td>\n",
              "    </tr>\n",
              "  </tbody>\n",
              "</table>\n",
              "</div>"
            ],
            "text/plain": [
              "   age           job  marital  education  ... poutcome   y count y1\n",
              "0   58    management  married   tertiary  ...  unknown  no     1  0\n",
              "1   44    technician   single  secondary  ...  unknown  no     1  0\n",
              "2   33  entrepreneur  married  secondary  ...  unknown  no     1  0\n",
              "3   47   blue-collar  married    unknown  ...  unknown  no     1  0\n",
              "4   33       unknown   single    unknown  ...  unknown  no     1  0\n",
              "\n",
              "[5 rows x 19 columns]"
            ]
          },
          "metadata": {
            "tags": []
          },
          "execution_count": 519
        }
      ]
    },
    {
      "cell_type": "code",
      "metadata": {
        "id": "K7D_FgD8_kgb",
        "colab": {
          "base_uri": "https://localhost:8080/",
          "height": 260
        },
        "outputId": "b4281706-4551-4174-f64c-ca2252e5382b"
      },
      "source": [
        "bank_p[:, sum(f.count), by('marital') ]  #Summary table of Marital Status"
      ],
      "execution_count": null,
      "outputs": [
        {
          "output_type": "stream",
          "text": [
            "   | marital   count\n",
            "-- + --------  -----\n",
            " 0 | divorced   5207\n",
            " 1 | married   27214\n",
            " 2 | single    12790\n",
            "\n",
            "[3 rows x 2 columns]\n"
          ],
          "name": "stdout"
        },
        {
          "output_type": "execute_result",
          "data": {
            "text/html": [
              "<div class='datatable'>\n",
              "  <table class='frame'>\n",
              "  <thead>\n",
              "    <tr class='colnames'><td class='row_index'></td><th>marital</th><th>count</th></tr>\n",
              "    <tr class='coltypes'><td class='row_index'></td><td class='str' title='str32'>&#x25AA;&#x25AA;&#x25AA;&#x25AA;</td><td class='int' title='int64'>&#x25AA;&#x25AA;&#x25AA;&#x25AA;&#x25AA;&#x25AA;&#x25AA;&#x25AA;</td></tr>\n",
              "  </thead>\n",
              "  <tbody>\n",
              "    <tr><td class='row_index'>0</td><td>divorced</td><td>5207</td></tr>\n",
              "    <tr><td class='row_index'>1</td><td>married</td><td>27214</td></tr>\n",
              "    <tr><td class='row_index'>2</td><td>single</td><td>12790</td></tr>\n",
              "  </tbody>\n",
              "  </table>\n",
              "  <div class='footer'>\n",
              "    <div class='frame_dimensions'>3 rows &times; 2 columns</div>\n",
              "  </div>\n",
              "</div>\n"
            ],
            "text/plain": [
              ""
            ]
          },
          "metadata": {
            "tags": []
          },
          "execution_count": 11
        }
      ]
    },
    {
      "cell_type": "code",
      "metadata": {
        "id": "U5b7IrN-_l_a",
        "colab": {
          "base_uri": "https://localhost:8080/",
          "height": 583
        },
        "outputId": "22a29e77-8216-48e0-b718-750f74f92b58"
      },
      "source": [
        "bank_p[:, sum(f.count), by('job') ] #Summary table of job/work "
      ],
      "execution_count": null,
      "outputs": [
        {
          "output_type": "stream",
          "text": [
            "   | job            count\n",
            "-- + -------------  -----\n",
            " 0 | admin.          5171\n",
            " 1 | blue-collar     9732\n",
            " 2 | entrepreneur    1487\n",
            " 3 | housemaid       1240\n",
            " 4 | management      9458\n",
            " 5 | retired         2264\n",
            " 6 | self-employed   1579\n",
            " 7 | services        4154\n",
            " 8 | student          938\n",
            " 9 | technician      7597\n",
            "10 | unemployed      1303\n",
            "11 | unknown          288\n",
            "\n",
            "[12 rows x 2 columns]\n"
          ],
          "name": "stdout"
        },
        {
          "output_type": "execute_result",
          "data": {
            "text/html": [
              "<div class='datatable'>\n",
              "  <table class='frame'>\n",
              "  <thead>\n",
              "    <tr class='colnames'><td class='row_index'></td><th>job</th><th>count</th></tr>\n",
              "    <tr class='coltypes'><td class='row_index'></td><td class='str' title='str32'>&#x25AA;&#x25AA;&#x25AA;&#x25AA;</td><td class='int' title='int64'>&#x25AA;&#x25AA;&#x25AA;&#x25AA;&#x25AA;&#x25AA;&#x25AA;&#x25AA;</td></tr>\n",
              "  </thead>\n",
              "  <tbody>\n",
              "    <tr><td class='row_index'>0</td><td>admin.</td><td>5171</td></tr>\n",
              "    <tr><td class='row_index'>1</td><td>blue-collar</td><td>9732</td></tr>\n",
              "    <tr><td class='row_index'>2</td><td>entrepreneur</td><td>1487</td></tr>\n",
              "    <tr><td class='row_index'>3</td><td>housemaid</td><td>1240</td></tr>\n",
              "    <tr><td class='row_index'>4</td><td>management</td><td>9458</td></tr>\n",
              "    <tr><td class='row_index'>5</td><td>retired</td><td>2264</td></tr>\n",
              "    <tr><td class='row_index'>6</td><td>self-employed</td><td>1579</td></tr>\n",
              "    <tr><td class='row_index'>7</td><td>services</td><td>4154</td></tr>\n",
              "    <tr><td class='row_index'>8</td><td>student</td><td>938</td></tr>\n",
              "    <tr><td class='row_index'>9</td><td>technician</td><td>7597</td></tr>\n",
              "    <tr><td class='row_index'>10</td><td>unemployed</td><td>1303</td></tr>\n",
              "    <tr><td class='row_index'>11</td><td>unknown</td><td>288</td></tr>\n",
              "  </tbody>\n",
              "  </table>\n",
              "  <div class='footer'>\n",
              "    <div class='frame_dimensions'>12 rows &times; 2 columns</div>\n",
              "  </div>\n",
              "</div>\n"
            ],
            "text/plain": [
              ""
            ]
          },
          "metadata": {
            "tags": []
          },
          "execution_count": 521
        }
      ]
    },
    {
      "cell_type": "code",
      "metadata": {
        "id": "cqKRaFom_ni9",
        "colab": {
          "base_uri": "https://localhost:8080/",
          "height": 289
        },
        "outputId": "5c919606-a916-4608-976f-6366439feac8"
      },
      "source": [
        "bank_p[:, sum(f.count), by('education') ] #Summary table of education "
      ],
      "execution_count": null,
      "outputs": [
        {
          "output_type": "stream",
          "text": [
            "   | education  count\n",
            "-- + ---------  -----\n",
            " 0 | primary     6851\n",
            " 1 | secondary  23202\n",
            " 2 | tertiary   13301\n",
            " 3 | unknown     1857\n",
            "\n",
            "[4 rows x 2 columns]\n"
          ],
          "name": "stdout"
        },
        {
          "output_type": "execute_result",
          "data": {
            "text/html": [
              "<div class='datatable'>\n",
              "  <table class='frame'>\n",
              "  <thead>\n",
              "    <tr class='colnames'><td class='row_index'></td><th>education</th><th>count</th></tr>\n",
              "    <tr class='coltypes'><td class='row_index'></td><td class='str' title='str32'>&#x25AA;&#x25AA;&#x25AA;&#x25AA;</td><td class='int' title='int64'>&#x25AA;&#x25AA;&#x25AA;&#x25AA;&#x25AA;&#x25AA;&#x25AA;&#x25AA;</td></tr>\n",
              "  </thead>\n",
              "  <tbody>\n",
              "    <tr><td class='row_index'>0</td><td>primary</td><td>6851</td></tr>\n",
              "    <tr><td class='row_index'>1</td><td>secondary</td><td>23202</td></tr>\n",
              "    <tr><td class='row_index'>2</td><td>tertiary</td><td>13301</td></tr>\n",
              "    <tr><td class='row_index'>3</td><td>unknown</td><td>1857</td></tr>\n",
              "  </tbody>\n",
              "  </table>\n",
              "  <div class='footer'>\n",
              "    <div class='frame_dimensions'>4 rows &times; 2 columns</div>\n",
              "  </div>\n",
              "</div>\n"
            ],
            "text/plain": [
              ""
            ]
          },
          "metadata": {
            "tags": []
          },
          "execution_count": 522
        }
      ]
    },
    {
      "cell_type": "code",
      "metadata": {
        "id": "Gn1KXHSw_o2H",
        "colab": {
          "base_uri": "https://localhost:8080/",
          "height": 216
        },
        "outputId": "13e81bad-fd77-4aa3-ef62-4f3dfd442cd3"
      },
      "source": [
        "bank_p[:, sum(f.count), by('default') ] #Summary table of default"
      ],
      "execution_count": null,
      "outputs": [
        {
          "output_type": "stream",
          "text": [
            "   | default  count\n",
            "-- + -------  -----\n",
            " 0 | no       44396\n",
            " 1 | yes        815\n",
            "\n",
            "[2 rows x 2 columns]\n"
          ],
          "name": "stdout"
        },
        {
          "output_type": "execute_result",
          "data": {
            "text/html": [
              "<div class='datatable'>\n",
              "  <table class='frame'>\n",
              "  <thead>\n",
              "    <tr class='colnames'><td class='row_index'></td><th>default</th><th>count</th></tr>\n",
              "    <tr class='coltypes'><td class='row_index'></td><td class='str' title='str32'>&#x25AA;&#x25AA;&#x25AA;&#x25AA;</td><td class='int' title='int64'>&#x25AA;&#x25AA;&#x25AA;&#x25AA;&#x25AA;&#x25AA;&#x25AA;&#x25AA;</td></tr>\n",
              "  </thead>\n",
              "  <tbody>\n",
              "    <tr><td class='row_index'>0</td><td>no</td><td>44396</td></tr>\n",
              "    <tr><td class='row_index'>1</td><td>yes</td><td>815</td></tr>\n",
              "  </tbody>\n",
              "  </table>\n",
              "  <div class='footer'>\n",
              "    <div class='frame_dimensions'>2 rows &times; 2 columns</div>\n",
              "  </div>\n",
              "</div>\n"
            ],
            "text/plain": [
              ""
            ]
          },
          "metadata": {
            "tags": []
          },
          "execution_count": 523
        }
      ]
    },
    {
      "cell_type": "code",
      "metadata": {
        "id": "JPrVLneQ_qAO",
        "colab": {
          "base_uri": "https://localhost:8080/",
          "height": 216
        },
        "outputId": "29ad3429-d9c2-49e2-8626-e4c82d032816"
      },
      "source": [
        "bank_p[:, sum(f.count), by('housing') ] #Summary table of housing"
      ],
      "execution_count": null,
      "outputs": [
        {
          "output_type": "stream",
          "text": [
            "   | housing  count\n",
            "-- + -------  -----\n",
            " 0 | no       20081\n",
            " 1 | yes      25130\n",
            "\n",
            "[2 rows x 2 columns]\n"
          ],
          "name": "stdout"
        },
        {
          "output_type": "execute_result",
          "data": {
            "text/html": [
              "<div class='datatable'>\n",
              "  <table class='frame'>\n",
              "  <thead>\n",
              "    <tr class='colnames'><td class='row_index'></td><th>housing</th><th>count</th></tr>\n",
              "    <tr class='coltypes'><td class='row_index'></td><td class='str' title='str32'>&#x25AA;&#x25AA;&#x25AA;&#x25AA;</td><td class='int' title='int64'>&#x25AA;&#x25AA;&#x25AA;&#x25AA;&#x25AA;&#x25AA;&#x25AA;&#x25AA;</td></tr>\n",
              "  </thead>\n",
              "  <tbody>\n",
              "    <tr><td class='row_index'>0</td><td>no</td><td>20081</td></tr>\n",
              "    <tr><td class='row_index'>1</td><td>yes</td><td>25130</td></tr>\n",
              "  </tbody>\n",
              "  </table>\n",
              "  <div class='footer'>\n",
              "    <div class='frame_dimensions'>2 rows &times; 2 columns</div>\n",
              "  </div>\n",
              "</div>\n"
            ],
            "text/plain": [
              ""
            ]
          },
          "metadata": {
            "tags": []
          },
          "execution_count": 524
        }
      ]
    },
    {
      "cell_type": "code",
      "metadata": {
        "id": "Q6K8-yQg_rR5",
        "colab": {
          "base_uri": "https://localhost:8080/",
          "height": 216
        },
        "outputId": "62e08058-a6b8-4bf9-b4c7-8d8c0eaf5919"
      },
      "source": [
        "bank_p[:, sum(f.count), by('loan') ] #Summary table of loan"
      ],
      "execution_count": null,
      "outputs": [
        {
          "output_type": "stream",
          "text": [
            "   | loan  count\n",
            "-- + ----  -----\n",
            " 0 | no    37967\n",
            " 1 | yes    7244\n",
            "\n",
            "[2 rows x 2 columns]\n"
          ],
          "name": "stdout"
        },
        {
          "output_type": "execute_result",
          "data": {
            "text/html": [
              "<div class='datatable'>\n",
              "  <table class='frame'>\n",
              "  <thead>\n",
              "    <tr class='colnames'><td class='row_index'></td><th>loan</th><th>count</th></tr>\n",
              "    <tr class='coltypes'><td class='row_index'></td><td class='str' title='str32'>&#x25AA;&#x25AA;&#x25AA;&#x25AA;</td><td class='int' title='int64'>&#x25AA;&#x25AA;&#x25AA;&#x25AA;&#x25AA;&#x25AA;&#x25AA;&#x25AA;</td></tr>\n",
              "  </thead>\n",
              "  <tbody>\n",
              "    <tr><td class='row_index'>0</td><td>no</td><td>37967</td></tr>\n",
              "    <tr><td class='row_index'>1</td><td>yes</td><td>7244</td></tr>\n",
              "  </tbody>\n",
              "  </table>\n",
              "  <div class='footer'>\n",
              "    <div class='frame_dimensions'>2 rows &times; 2 columns</div>\n",
              "  </div>\n",
              "</div>\n"
            ],
            "text/plain": [
              ""
            ]
          },
          "metadata": {
            "tags": []
          },
          "execution_count": 525
        }
      ]
    },
    {
      "cell_type": "code",
      "metadata": {
        "id": "RLuGoGUt_sTF",
        "colab": {
          "base_uri": "https://localhost:8080/",
          "height": 252
        },
        "outputId": "f17c417a-3e01-4e54-d2e0-d16f68726bea"
      },
      "source": [
        "bank_p[:, sum(f.count), by('contact') ] #Summary table of contact "
      ],
      "execution_count": null,
      "outputs": [
        {
          "output_type": "stream",
          "text": [
            "   | contact    count\n",
            "-- + ---------  -----\n",
            " 0 | cellular   29285\n",
            " 1 | telephone   2906\n",
            " 2 | unknown    13020\n",
            "\n",
            "[3 rows x 2 columns]\n"
          ],
          "name": "stdout"
        },
        {
          "output_type": "execute_result",
          "data": {
            "text/html": [
              "<div class='datatable'>\n",
              "  <table class='frame'>\n",
              "  <thead>\n",
              "    <tr class='colnames'><td class='row_index'></td><th>contact</th><th>count</th></tr>\n",
              "    <tr class='coltypes'><td class='row_index'></td><td class='str' title='str32'>&#x25AA;&#x25AA;&#x25AA;&#x25AA;</td><td class='int' title='int64'>&#x25AA;&#x25AA;&#x25AA;&#x25AA;&#x25AA;&#x25AA;&#x25AA;&#x25AA;</td></tr>\n",
              "  </thead>\n",
              "  <tbody>\n",
              "    <tr><td class='row_index'>0</td><td>cellular</td><td>29285</td></tr>\n",
              "    <tr><td class='row_index'>1</td><td>telephone</td><td>2906</td></tr>\n",
              "    <tr><td class='row_index'>2</td><td>unknown</td><td>13020</td></tr>\n",
              "  </tbody>\n",
              "  </table>\n",
              "  <div class='footer'>\n",
              "    <div class='frame_dimensions'>3 rows &times; 2 columns</div>\n",
              "  </div>\n",
              "</div>\n"
            ],
            "text/plain": [
              ""
            ]
          },
          "metadata": {
            "tags": []
          },
          "execution_count": 526
        }
      ]
    },
    {
      "cell_type": "code",
      "metadata": {
        "id": "JOA5sWXX_taB",
        "colab": {
          "base_uri": "https://localhost:8080/",
          "height": 914
        },
        "outputId": "9ba2e22e-c4cf-47a1-b953-0f1e6e09f00b"
      },
      "source": [
        "bank_p[:, sum(f.count), by('day') ] #Summary table of month"
      ],
      "execution_count": null,
      "outputs": [
        {
          "output_type": "stream",
          "text": [
            "   | day  count\n",
            "-- + ---  -----\n",
            " 0 |   1    322\n",
            " 1 |   2   1293\n",
            " 2 |   3   1079\n",
            " 3 |   4   1445\n",
            " 4 |   5   1910\n",
            " 5 |   6   1932\n",
            " 6 |   7   1817\n",
            " 7 |   8   1842\n",
            " 8 |   9   1561\n",
            " 9 |  10    524\n",
            "10 |  11   1479\n",
            "11 |  12   1603\n",
            "12 |  13   1585\n",
            "13 |  14   1848\n",
            "14 |  15   1703\n",
            " … |   …      …\n",
            "26 |  27   1121\n",
            "27 |  28   1830\n",
            "28 |  29   1745\n",
            "29 |  30   1566\n",
            "30 |  31    643\n",
            "\n",
            "[31 rows x 2 columns]\n"
          ],
          "name": "stdout"
        },
        {
          "output_type": "execute_result",
          "data": {
            "text/html": [
              "<div class='datatable'>\n",
              "  <table class='frame'>\n",
              "  <thead>\n",
              "    <tr class='colnames'><td class='row_index'></td><th>day</th><th>count</th></tr>\n",
              "    <tr class='coltypes'><td class='row_index'></td><td class='int' title='int32'>&#x25AA;&#x25AA;&#x25AA;&#x25AA;</td><td class='int' title='int64'>&#x25AA;&#x25AA;&#x25AA;&#x25AA;&#x25AA;&#x25AA;&#x25AA;&#x25AA;</td></tr>\n",
              "  </thead>\n",
              "  <tbody>\n",
              "    <tr><td class='row_index'>0</td><td>1</td><td>322</td></tr>\n",
              "    <tr><td class='row_index'>1</td><td>2</td><td>1293</td></tr>\n",
              "    <tr><td class='row_index'>2</td><td>3</td><td>1079</td></tr>\n",
              "    <tr><td class='row_index'>3</td><td>4</td><td>1445</td></tr>\n",
              "    <tr><td class='row_index'>4</td><td>5</td><td>1910</td></tr>\n",
              "    <tr><td class='row_index'>5</td><td>6</td><td>1932</td></tr>\n",
              "    <tr><td class='row_index'>6</td><td>7</td><td>1817</td></tr>\n",
              "    <tr><td class='row_index'>7</td><td>8</td><td>1842</td></tr>\n",
              "    <tr><td class='row_index'>8</td><td>9</td><td>1561</td></tr>\n",
              "    <tr><td class='row_index'>9</td><td>10</td><td>524</td></tr>\n",
              "    <tr><td class='row_index'>10</td><td>11</td><td>1479</td></tr>\n",
              "    <tr><td class='row_index'>11</td><td>12</td><td>1603</td></tr>\n",
              "    <tr><td class='row_index'>12</td><td>13</td><td>1585</td></tr>\n",
              "    <tr><td class='row_index'>13</td><td>14</td><td>1848</td></tr>\n",
              "    <tr><td class='row_index'>14</td><td>15</td><td>1703</td></tr>\n",
              "    <tr><td class='row_index'>&#x22EE;</td><td class='hellipsis'>&#x22EE;</td><td class='hellipsis'>&#x22EE;</td></tr>\n",
              "    <tr><td class='row_index'>26</td><td>27</td><td>1121</td></tr>\n",
              "    <tr><td class='row_index'>27</td><td>28</td><td>1830</td></tr>\n",
              "    <tr><td class='row_index'>28</td><td>29</td><td>1745</td></tr>\n",
              "    <tr><td class='row_index'>29</td><td>30</td><td>1566</td></tr>\n",
              "    <tr><td class='row_index'>30</td><td>31</td><td>643</td></tr>\n",
              "  </tbody>\n",
              "  </table>\n",
              "  <div class='footer'>\n",
              "    <div class='frame_dimensions'>31 rows &times; 2 columns</div>\n",
              "  </div>\n",
              "</div>\n"
            ],
            "text/plain": [
              ""
            ]
          },
          "metadata": {
            "tags": []
          },
          "execution_count": 527
        }
      ]
    },
    {
      "cell_type": "code",
      "metadata": {
        "id": "VmnKfhjveaAn",
        "colab": {
          "base_uri": "https://localhost:8080/",
          "height": 583
        },
        "outputId": "e926cf51-beef-4b0b-e346-9c8cbcfd9bef"
      },
      "source": [
        "bank_p[:, sum(f.count), by('month') ] #Summary table of month"
      ],
      "execution_count": null,
      "outputs": [
        {
          "output_type": "stream",
          "text": [
            "   | month  count\n",
            "-- + -----  -----\n",
            " 0 | apr     2932\n",
            " 1 | aug     6247\n",
            " 2 | dec      214\n",
            " 3 | feb     2649\n",
            " 4 | jan     1403\n",
            " 5 | jul     6895\n",
            " 6 | jun     5341\n",
            " 7 | mar      477\n",
            " 8 | may    13766\n",
            " 9 | nov     3970\n",
            "10 | oct      738\n",
            "11 | sep      579\n",
            "\n",
            "[12 rows x 2 columns]\n"
          ],
          "name": "stdout"
        },
        {
          "output_type": "execute_result",
          "data": {
            "text/html": [
              "<div class='datatable'>\n",
              "  <table class='frame'>\n",
              "  <thead>\n",
              "    <tr class='colnames'><td class='row_index'></td><th>month</th><th>count</th></tr>\n",
              "    <tr class='coltypes'><td class='row_index'></td><td class='str' title='str32'>&#x25AA;&#x25AA;&#x25AA;&#x25AA;</td><td class='int' title='int64'>&#x25AA;&#x25AA;&#x25AA;&#x25AA;&#x25AA;&#x25AA;&#x25AA;&#x25AA;</td></tr>\n",
              "  </thead>\n",
              "  <tbody>\n",
              "    <tr><td class='row_index'>0</td><td>apr</td><td>2932</td></tr>\n",
              "    <tr><td class='row_index'>1</td><td>aug</td><td>6247</td></tr>\n",
              "    <tr><td class='row_index'>2</td><td>dec</td><td>214</td></tr>\n",
              "    <tr><td class='row_index'>3</td><td>feb</td><td>2649</td></tr>\n",
              "    <tr><td class='row_index'>4</td><td>jan</td><td>1403</td></tr>\n",
              "    <tr><td class='row_index'>5</td><td>jul</td><td>6895</td></tr>\n",
              "    <tr><td class='row_index'>6</td><td>jun</td><td>5341</td></tr>\n",
              "    <tr><td class='row_index'>7</td><td>mar</td><td>477</td></tr>\n",
              "    <tr><td class='row_index'>8</td><td>may</td><td>13766</td></tr>\n",
              "    <tr><td class='row_index'>9</td><td>nov</td><td>3970</td></tr>\n",
              "    <tr><td class='row_index'>10</td><td>oct</td><td>738</td></tr>\n",
              "    <tr><td class='row_index'>11</td><td>sep</td><td>579</td></tr>\n",
              "  </tbody>\n",
              "  </table>\n",
              "  <div class='footer'>\n",
              "    <div class='frame_dimensions'>12 rows &times; 2 columns</div>\n",
              "  </div>\n",
              "</div>\n"
            ],
            "text/plain": [
              ""
            ]
          },
          "metadata": {
            "tags": []
          },
          "execution_count": 528
        }
      ]
    },
    {
      "cell_type": "code",
      "metadata": {
        "id": "B4vXOMVB_ugx",
        "colab": {
          "base_uri": "https://localhost:8080/",
          "height": 289
        },
        "outputId": "0a846016-ba44-4460-8564-a3a472f0f567"
      },
      "source": [
        "bank_p[:, sum(f.count), by('poutcome') ] #Summary table of month"
      ],
      "execution_count": null,
      "outputs": [
        {
          "output_type": "stream",
          "text": [
            "   | poutcome  count\n",
            "-- + --------  -----\n",
            " 0 | failure    4901\n",
            " 1 | other      1840\n",
            " 2 | success    1511\n",
            " 3 | unknown   36959\n",
            "\n",
            "[4 rows x 2 columns]\n"
          ],
          "name": "stdout"
        },
        {
          "output_type": "execute_result",
          "data": {
            "text/html": [
              "<div class='datatable'>\n",
              "  <table class='frame'>\n",
              "  <thead>\n",
              "    <tr class='colnames'><td class='row_index'></td><th>poutcome</th><th>count</th></tr>\n",
              "    <tr class='coltypes'><td class='row_index'></td><td class='str' title='str32'>&#x25AA;&#x25AA;&#x25AA;&#x25AA;</td><td class='int' title='int64'>&#x25AA;&#x25AA;&#x25AA;&#x25AA;&#x25AA;&#x25AA;&#x25AA;&#x25AA;</td></tr>\n",
              "  </thead>\n",
              "  <tbody>\n",
              "    <tr><td class='row_index'>0</td><td>failure</td><td>4901</td></tr>\n",
              "    <tr><td class='row_index'>1</td><td>other</td><td>1840</td></tr>\n",
              "    <tr><td class='row_index'>2</td><td>success</td><td>1511</td></tr>\n",
              "    <tr><td class='row_index'>3</td><td>unknown</td><td>36959</td></tr>\n",
              "  </tbody>\n",
              "  </table>\n",
              "  <div class='footer'>\n",
              "    <div class='frame_dimensions'>4 rows &times; 2 columns</div>\n",
              "  </div>\n",
              "</div>\n"
            ],
            "text/plain": [
              ""
            ]
          },
          "metadata": {
            "tags": []
          },
          "execution_count": 529
        }
      ]
    },
    {
      "cell_type": "code",
      "metadata": {
        "id": "Tt234X7qteOg"
      },
      "source": [
        "#bank_pd=bank_p.to_pandas()  #Use this to convert datatable into Pandas\n",
        "#bank_p=dt.Frame(bank_pd) #Use this to convert Pandas into datatable"
      ],
      "execution_count": null,
      "outputs": []
    },
    {
      "cell_type": "markdown",
      "metadata": {
        "id": "hxzEq2cye3pi"
      },
      "source": [
        "I want you to describe two additional features you think are useful for the model and why you think they are useful. Bring in outside research if necessary.  You need to create the features in either R or Python.  These features should be included in your models.\n",
        "\n",
        "**Feature 1**\n",
        "\n",
        "\n",
        "\n",
        "**Feature 2**\n",
        "\n",
        "\n",
        "\n",
        "\n",
        "\n"
      ]
    },
    {
      "cell_type": "code",
      "metadata": {
        "id": "5VXTaLbQsO5s"
      },
      "source": [
        "## Feature 1\n",
        "###  See below in Sections A and C.  "
      ],
      "execution_count": null,
      "outputs": []
    },
    {
      "cell_type": "code",
      "metadata": {
        "id": "2jvX3TCKKvbg"
      },
      "source": [
        "## Feature 2\n",
        "###  See below in Sections A and C."
      ],
      "execution_count": null,
      "outputs": []
    },
    {
      "cell_type": "markdown",
      "metadata": {
        "id": "vdPGN6GoM_yE"
      },
      "source": [
        "#**IV. Python Data Processing**"
      ]
    },
    {
      "cell_type": "code",
      "metadata": {
        "id": "dlsJzXRLC-hF",
        "colab": {
          "base_uri": "https://localhost:8080/",
          "height": 202
        },
        "outputId": "4e8549b2-d66a-40bf-d4bf-cdfd13a91577"
      },
      "source": [
        "#IV. Data Processing --------------------------------------------\n",
        "#A. Adjust values based on the review of the data\n",
        "import numpy as np\n",
        "bank_pd = bank_p.to_pandas()\n",
        "bank_pd['pdays'] = bank_pd['pdays'].replace({999: np.NaN})\n",
        "bank_pd.head()\n"
      ],
      "execution_count": null,
      "outputs": [
        {
          "output_type": "execute_result",
          "data": {
            "text/html": [
              "<div>\n",
              "<style scoped>\n",
              "    .dataframe tbody tr th:only-of-type {\n",
              "        vertical-align: middle;\n",
              "    }\n",
              "\n",
              "    .dataframe tbody tr th {\n",
              "        vertical-align: top;\n",
              "    }\n",
              "\n",
              "    .dataframe thead th {\n",
              "        text-align: right;\n",
              "    }\n",
              "</style>\n",
              "<table border=\"1\" class=\"dataframe\">\n",
              "  <thead>\n",
              "    <tr style=\"text-align: right;\">\n",
              "      <th></th>\n",
              "      <th>age</th>\n",
              "      <th>job</th>\n",
              "      <th>marital</th>\n",
              "      <th>education</th>\n",
              "      <th>default</th>\n",
              "      <th>balance</th>\n",
              "      <th>housing</th>\n",
              "      <th>loan</th>\n",
              "      <th>contact</th>\n",
              "      <th>day</th>\n",
              "      <th>month</th>\n",
              "      <th>duration</th>\n",
              "      <th>campaign</th>\n",
              "      <th>pdays</th>\n",
              "      <th>previous</th>\n",
              "      <th>poutcome</th>\n",
              "      <th>y</th>\n",
              "      <th>count</th>\n",
              "      <th>y1</th>\n",
              "    </tr>\n",
              "  </thead>\n",
              "  <tbody>\n",
              "    <tr>\n",
              "      <th>0</th>\n",
              "      <td>58</td>\n",
              "      <td>management</td>\n",
              "      <td>married</td>\n",
              "      <td>tertiary</td>\n",
              "      <td>no</td>\n",
              "      <td>2143</td>\n",
              "      <td>yes</td>\n",
              "      <td>no</td>\n",
              "      <td>unknown</td>\n",
              "      <td>5</td>\n",
              "      <td>may</td>\n",
              "      <td>261</td>\n",
              "      <td>1</td>\n",
              "      <td>-1</td>\n",
              "      <td>0</td>\n",
              "      <td>unknown</td>\n",
              "      <td>no</td>\n",
              "      <td>1</td>\n",
              "      <td>0</td>\n",
              "    </tr>\n",
              "    <tr>\n",
              "      <th>1</th>\n",
              "      <td>44</td>\n",
              "      <td>technician</td>\n",
              "      <td>single</td>\n",
              "      <td>secondary</td>\n",
              "      <td>no</td>\n",
              "      <td>29</td>\n",
              "      <td>yes</td>\n",
              "      <td>no</td>\n",
              "      <td>unknown</td>\n",
              "      <td>5</td>\n",
              "      <td>may</td>\n",
              "      <td>151</td>\n",
              "      <td>1</td>\n",
              "      <td>-1</td>\n",
              "      <td>0</td>\n",
              "      <td>unknown</td>\n",
              "      <td>no</td>\n",
              "      <td>1</td>\n",
              "      <td>0</td>\n",
              "    </tr>\n",
              "    <tr>\n",
              "      <th>2</th>\n",
              "      <td>33</td>\n",
              "      <td>entrepreneur</td>\n",
              "      <td>married</td>\n",
              "      <td>secondary</td>\n",
              "      <td>no</td>\n",
              "      <td>2</td>\n",
              "      <td>yes</td>\n",
              "      <td>yes</td>\n",
              "      <td>unknown</td>\n",
              "      <td>5</td>\n",
              "      <td>may</td>\n",
              "      <td>76</td>\n",
              "      <td>1</td>\n",
              "      <td>-1</td>\n",
              "      <td>0</td>\n",
              "      <td>unknown</td>\n",
              "      <td>no</td>\n",
              "      <td>1</td>\n",
              "      <td>0</td>\n",
              "    </tr>\n",
              "    <tr>\n",
              "      <th>3</th>\n",
              "      <td>47</td>\n",
              "      <td>blue-collar</td>\n",
              "      <td>married</td>\n",
              "      <td>unknown</td>\n",
              "      <td>no</td>\n",
              "      <td>1506</td>\n",
              "      <td>yes</td>\n",
              "      <td>no</td>\n",
              "      <td>unknown</td>\n",
              "      <td>5</td>\n",
              "      <td>may</td>\n",
              "      <td>92</td>\n",
              "      <td>1</td>\n",
              "      <td>-1</td>\n",
              "      <td>0</td>\n",
              "      <td>unknown</td>\n",
              "      <td>no</td>\n",
              "      <td>1</td>\n",
              "      <td>0</td>\n",
              "    </tr>\n",
              "    <tr>\n",
              "      <th>4</th>\n",
              "      <td>33</td>\n",
              "      <td>unknown</td>\n",
              "      <td>single</td>\n",
              "      <td>unknown</td>\n",
              "      <td>no</td>\n",
              "      <td>1</td>\n",
              "      <td>no</td>\n",
              "      <td>no</td>\n",
              "      <td>unknown</td>\n",
              "      <td>5</td>\n",
              "      <td>may</td>\n",
              "      <td>198</td>\n",
              "      <td>1</td>\n",
              "      <td>-1</td>\n",
              "      <td>0</td>\n",
              "      <td>unknown</td>\n",
              "      <td>no</td>\n",
              "      <td>1</td>\n",
              "      <td>0</td>\n",
              "    </tr>\n",
              "  </tbody>\n",
              "</table>\n",
              "</div>"
            ],
            "text/plain": [
              "   age           job  marital  education  ... poutcome   y count y1\n",
              "0   58    management  married   tertiary  ...  unknown  no     1  0\n",
              "1   44    technician   single  secondary  ...  unknown  no     1  0\n",
              "2   33  entrepreneur  married  secondary  ...  unknown  no     1  0\n",
              "3   47   blue-collar  married    unknown  ...  unknown  no     1  0\n",
              "4   33       unknown   single    unknown  ...  unknown  no     1  0\n",
              "\n",
              "[5 rows x 19 columns]"
            ]
          },
          "metadata": {
            "tags": []
          },
          "execution_count": 533
        }
      ]
    },
    {
      "cell_type": "code",
      "metadata": {
        "colab": {
          "base_uri": "https://localhost:8080/",
          "height": 510
        },
        "id": "Czc2F43jvRSX",
        "outputId": "22118428-d95d-4ff1-9a16-546c812a0fe3"
      },
      "source": [
        "bank_p=dt.Frame(bank_pd)\n",
        "bank_p.head()"
      ],
      "execution_count": null,
      "outputs": [
        {
          "output_type": "stream",
          "text": [
            "   | age  job           marital   education  default  balance  housing  loan  contact  …  prev…  poutcome  y   count  y1\n",
            "-- + ---  ------------  --------  ---------  -------  -------  -------  ----  -------     -----  --------  --  -----  --\n",
            " 0 |  58  management    married   tertiary   no          2143  yes      no    unknown  …      0  unknown   no      1   0\n",
            " 1 |  44  technician    single    secondary  no            29  yes      no    unknown  …      0  unknown   no      1   0\n",
            " 2 |  33  entrepreneur  married   secondary  no             2  yes      yes   unknown  …      0  unknown   no      1   0\n",
            " 3 |  47  blue-collar   married   unknown    no          1506  yes      no    unknown  …      0  unknown   no      1   0\n",
            " 4 |  33  unknown       single    unknown    no             1  no       no    unknown  …      0  unknown   no      1   0\n",
            " 5 |  35  management    married   tertiary   no           231  yes      no    unknown  …      0  unknown   no      1   0\n",
            " 6 |  28  management    single    tertiary   no           447  yes      yes   unknown  …      0  unknown   no      1   0\n",
            " 7 |  42  entrepreneur  divorced  tertiary   yes            2  yes      no    unknown  …      0  unknown   no      1   0\n",
            " 8 |  58  retired       married   primary    no           121  yes      no    unknown  …      0  unknown   no      1   0\n",
            " 9 |  43  technician    single    secondary  no           593  yes      no    unknown  …      0  unknown   no      1   0\n",
            "\n",
            "[10 rows x 19 columns]\n"
          ],
          "name": "stdout"
        },
        {
          "output_type": "execute_result",
          "data": {
            "text/html": [
              "<div class='datatable'>\n",
              "  <table class='frame'>\n",
              "  <thead>\n",
              "    <tr class='colnames'><td class='row_index'></td><th>age</th><th>job</th><th>marital</th><th>education</th><th>default</th><th>balance</th><th>housing</th><th>loan</th><th>contact</th><th>day</th><th class='vellipsis'>&hellip;</th><th>previous</th><th>poutcome</th><th>y</th><th>count</th><th>y1</th></tr>\n",
              "    <tr class='coltypes'><td class='row_index'></td><td class='int' title='int32'>&#x25AA;&#x25AA;&#x25AA;&#x25AA;</td><td class='str' title='str32'>&#x25AA;&#x25AA;&#x25AA;&#x25AA;</td><td class='str' title='str32'>&#x25AA;&#x25AA;&#x25AA;&#x25AA;</td><td class='str' title='str32'>&#x25AA;&#x25AA;&#x25AA;&#x25AA;</td><td class='str' title='str32'>&#x25AA;&#x25AA;&#x25AA;&#x25AA;</td><td class='int' title='int32'>&#x25AA;&#x25AA;&#x25AA;&#x25AA;</td><td class='str' title='str32'>&#x25AA;&#x25AA;&#x25AA;&#x25AA;</td><td class='str' title='str32'>&#x25AA;&#x25AA;&#x25AA;&#x25AA;</td><td class='str' title='str32'>&#x25AA;&#x25AA;&#x25AA;&#x25AA;</td><td class='int' title='int32'>&#x25AA;&#x25AA;&#x25AA;&#x25AA;</td><td></td><td class='int' title='int32'>&#x25AA;&#x25AA;&#x25AA;&#x25AA;</td><td class='str' title='str32'>&#x25AA;&#x25AA;&#x25AA;&#x25AA;</td><td class='str' title='str32'>&#x25AA;&#x25AA;&#x25AA;&#x25AA;</td><td class='int' title='int32'>&#x25AA;&#x25AA;&#x25AA;&#x25AA;</td><td class='int' title='int32'>&#x25AA;&#x25AA;&#x25AA;&#x25AA;</td></tr>\n",
              "  </thead>\n",
              "  <tbody>\n",
              "    <tr><td class='row_index'>0</td><td>58</td><td>management</td><td>married</td><td>tertiary</td><td>no</td><td>2143</td><td>yes</td><td>no</td><td>unknown</td><td>5</td><td class=vellipsis>&hellip;</td><td>0</td><td>unknown</td><td>no</td><td>1</td><td>0</td></tr>\n",
              "    <tr><td class='row_index'>1</td><td>44</td><td>technician</td><td>single</td><td>secondary</td><td>no</td><td>29</td><td>yes</td><td>no</td><td>unknown</td><td>5</td><td class=vellipsis>&hellip;</td><td>0</td><td>unknown</td><td>no</td><td>1</td><td>0</td></tr>\n",
              "    <tr><td class='row_index'>2</td><td>33</td><td>entrepreneur</td><td>married</td><td>secondary</td><td>no</td><td>2</td><td>yes</td><td>yes</td><td>unknown</td><td>5</td><td class=vellipsis>&hellip;</td><td>0</td><td>unknown</td><td>no</td><td>1</td><td>0</td></tr>\n",
              "    <tr><td class='row_index'>3</td><td>47</td><td>blue-collar</td><td>married</td><td>unknown</td><td>no</td><td>1506</td><td>yes</td><td>no</td><td>unknown</td><td>5</td><td class=vellipsis>&hellip;</td><td>0</td><td>unknown</td><td>no</td><td>1</td><td>0</td></tr>\n",
              "    <tr><td class='row_index'>4</td><td>33</td><td>unknown</td><td>single</td><td>unknown</td><td>no</td><td>1</td><td>no</td><td>no</td><td>unknown</td><td>5</td><td class=vellipsis>&hellip;</td><td>0</td><td>unknown</td><td>no</td><td>1</td><td>0</td></tr>\n",
              "    <tr><td class='row_index'>5</td><td>35</td><td>management</td><td>married</td><td>tertiary</td><td>no</td><td>231</td><td>yes</td><td>no</td><td>unknown</td><td>5</td><td class=vellipsis>&hellip;</td><td>0</td><td>unknown</td><td>no</td><td>1</td><td>0</td></tr>\n",
              "    <tr><td class='row_index'>6</td><td>28</td><td>management</td><td>single</td><td>tertiary</td><td>no</td><td>447</td><td>yes</td><td>yes</td><td>unknown</td><td>5</td><td class=vellipsis>&hellip;</td><td>0</td><td>unknown</td><td>no</td><td>1</td><td>0</td></tr>\n",
              "    <tr><td class='row_index'>7</td><td>42</td><td>entrepreneur</td><td>divorced</td><td>tertiary</td><td>yes</td><td>2</td><td>yes</td><td>no</td><td>unknown</td><td>5</td><td class=vellipsis>&hellip;</td><td>0</td><td>unknown</td><td>no</td><td>1</td><td>0</td></tr>\n",
              "    <tr><td class='row_index'>8</td><td>58</td><td>retired</td><td>married</td><td>primary</td><td>no</td><td>121</td><td>yes</td><td>no</td><td>unknown</td><td>5</td><td class=vellipsis>&hellip;</td><td>0</td><td>unknown</td><td>no</td><td>1</td><td>0</td></tr>\n",
              "    <tr><td class='row_index'>9</td><td>43</td><td>technician</td><td>single</td><td>secondary</td><td>no</td><td>593</td><td>yes</td><td>no</td><td>unknown</td><td>5</td><td class=vellipsis>&hellip;</td><td>0</td><td>unknown</td><td>no</td><td>1</td><td>0</td></tr>\n",
              "  </tbody>\n",
              "  </table>\n",
              "  <div class='footer'>\n",
              "    <div class='frame_dimensions'>10 rows &times; 19 columns</div>\n",
              "  </div>\n",
              "</div>\n"
            ],
            "text/plain": [
              ""
            ]
          },
          "metadata": {
            "tags": []
          },
          "execution_count": 534
        }
      ]
    },
    {
      "cell_type": "markdown",
      "metadata": {
        "id": "vphljot8dQD9"
      },
      "source": [
        "#### ##  a) College Education\n",
        "b) OnTimePayer, c) Age, d) Married2, e) Savings"
      ]
    },
    {
      "cell_type": "code",
      "metadata": {
        "colab": {
          "base_uri": "https://localhost:8080/"
        },
        "id": "sy5hGFZD_2gl",
        "outputId": "30ba8efc-a292-4648-becd-938b8446de20"
      },
      "source": [
        "#IVa. Data Processing -----------------------------------\n",
        "#A. Clean Data Education  (different than last time)\n",
        "bank_p[f.education== 'tertiary', 'CollegeEducation']= 'Yes'\n",
        "bank_p[f.education== 'secondary', 'CollegeEducation']= 'No'\n",
        "bank_p[f.education== 'unknown', 'CollegeEducation'] = 'No'\n",
        "bank_p[f.education== 'primary', 'CollegeEducation'] = 'No'\n",
        "print(bank_p[:, sum(f.count), by (['CollegeEducation'])])"
      ],
      "execution_count": null,
      "outputs": [
        {
          "output_type": "stream",
          "text": [
            "   | CollegeEducation  count\n",
            "-- + ----------------  -----\n",
            " 0 | No                31910\n",
            " 1 | Yes               13301\n",
            "\n",
            "[2 rows x 2 columns]\n",
            "\n"
          ],
          "name": "stdout"
        }
      ]
    },
    {
      "cell_type": "code",
      "metadata": {
        "colab": {
          "base_uri": "https://localhost:8080/",
          "height": 289
        },
        "id": "tjVO_2R1ibZR",
        "outputId": "8c541b66-a168-4d4c-db06-0b6495eb7d1a"
      },
      "source": [
        "bank_p[:, sum(f.count), by(['education', 'CollegeEducation'])]"
      ],
      "execution_count": null,
      "outputs": [
        {
          "output_type": "stream",
          "text": [
            "   | education  CollegeEducation  count\n",
            "-- + ---------  ----------------  -----\n",
            " 0 | primary    No                 6851\n",
            " 1 | secondary  No                23202\n",
            " 2 | tertiary   Yes               13301\n",
            " 3 | unknown    No                 1857\n",
            "\n",
            "[4 rows x 3 columns]\n"
          ],
          "name": "stdout"
        },
        {
          "output_type": "execute_result",
          "data": {
            "text/html": [
              "<div class='datatable'>\n",
              "  <table class='frame'>\n",
              "  <thead>\n",
              "    <tr class='colnames'><td class='row_index'></td><th>education</th><th>CollegeEducation</th><th>count</th></tr>\n",
              "    <tr class='coltypes'><td class='row_index'></td><td class='str' title='str32'>&#x25AA;&#x25AA;&#x25AA;&#x25AA;</td><td class='str' title='str32'>&#x25AA;&#x25AA;&#x25AA;&#x25AA;</td><td class='int' title='int64'>&#x25AA;&#x25AA;&#x25AA;&#x25AA;&#x25AA;&#x25AA;&#x25AA;&#x25AA;</td></tr>\n",
              "  </thead>\n",
              "  <tbody>\n",
              "    <tr><td class='row_index'>0</td><td>primary</td><td>No</td><td>6851</td></tr>\n",
              "    <tr><td class='row_index'>1</td><td>secondary</td><td>No</td><td>23202</td></tr>\n",
              "    <tr><td class='row_index'>2</td><td>tertiary</td><td>Yes</td><td>13301</td></tr>\n",
              "    <tr><td class='row_index'>3</td><td>unknown</td><td>No</td><td>1857</td></tr>\n",
              "  </tbody>\n",
              "  </table>\n",
              "  <div class='footer'>\n",
              "    <div class='frame_dimensions'>4 rows &times; 3 columns</div>\n",
              "  </div>\n",
              "</div>\n"
            ],
            "text/plain": [
              ""
            ]
          },
          "metadata": {
            "tags": []
          },
          "execution_count": 536
        }
      ]
    },
    {
      "cell_type": "markdown",
      "metadata": {
        "id": "WmW4t_3-dceY"
      },
      "source": [
        "#### ## b) OnTimePayer\n",
        "a) College Education, c) Age, d) Married2, e) Savings"
      ]
    },
    {
      "cell_type": "code",
      "metadata": {
        "id": "53DPMVMscW7D",
        "colab": {
          "base_uri": "https://localhost:8080/"
        },
        "outputId": "93345188-1116-4426-902b-0c7000022e06"
      },
      "source": [
        "#IV. Data Processing -----------------------------------\n",
        "#A. Clean Data default to OnTimePayer (it is same as default, I just trial & error. )\n",
        "bank_p[f.default==\"yes\", 'OnTimePayer']= 'Yes'\n",
        "bank_p[f.default==\"no\", 'OnTimePayer']= 'No'\n",
        "\n",
        "print(bank_p[:, sum(f.count), by(['OnTimePayer'])])\n",
        "bank_p.shape"
      ],
      "execution_count": null,
      "outputs": [
        {
          "output_type": "stream",
          "text": [
            "   | OnTimePayer  count\n",
            "-- + -----------  -----\n",
            " 0 | No           44396\n",
            " 1 | Yes            815\n",
            "\n",
            "[2 rows x 2 columns]\n",
            "\n"
          ],
          "name": "stdout"
        },
        {
          "output_type": "execute_result",
          "data": {
            "text/plain": [
              "(45211, 21)"
            ]
          },
          "metadata": {
            "tags": []
          },
          "execution_count": 537
        }
      ]
    },
    {
      "cell_type": "markdown",
      "metadata": {
        "id": "X9Aa1TsOeE-1"
      },
      "source": [
        "#### ## c) Age\n",
        "a) College Education b) OnTimePayer, d) Married2, e) Savings"
      ]
    },
    {
      "cell_type": "code",
      "metadata": {
        "colab": {
          "base_uri": "https://localhost:8080/",
          "height": 289
        },
        "id": "c5Bf7j2Fvj_g",
        "outputId": "2f95229f-8ea4-4577-9caa-298a7ca6285b"
      },
      "source": [
        "#C. Build Additional Features\n",
        "#Feature C2c - Age (UPDATED from last time)\n",
        "bank_p[f.age<=17, 'Age'] = '<=17'\n",
        "bank_p[(f.age>=18) & (f.age<=29), 'Age'] = ' 1)  18 to 29'\n",
        "bank_p[(f.age>=30) & (f.age<=49), 'Age'] = ' 2)  30 to 49'\n",
        "bank_p[(f.age>=50) & (f.age<=64), 'Age'] = ' 3)  50 to 64'\n",
        "bank_p[f.age>=65, 'Age']  = ' 5)  >= 65'\n",
        "bank_p[:, sum(f.count), by('Age') ]"
      ],
      "execution_count": null,
      "outputs": [
        {
          "output_type": "stream",
          "text": [
            "   | Age            count\n",
            "-- + -------------  -----\n",
            " 0 |  1)  18 to 29   5273\n",
            " 1 |  2)  30 to 49  29744\n",
            " 2 |  3)  50 to 64   9384\n",
            " 3 |  5)  >= 65       810\n",
            "\n",
            "[4 rows x 2 columns]\n"
          ],
          "name": "stdout"
        },
        {
          "output_type": "execute_result",
          "data": {
            "text/html": [
              "<div class='datatable'>\n",
              "  <table class='frame'>\n",
              "  <thead>\n",
              "    <tr class='colnames'><td class='row_index'></td><th>Age</th><th>count</th></tr>\n",
              "    <tr class='coltypes'><td class='row_index'></td><td class='str' title='str32'>&#x25AA;&#x25AA;&#x25AA;&#x25AA;</td><td class='int' title='int64'>&#x25AA;&#x25AA;&#x25AA;&#x25AA;&#x25AA;&#x25AA;&#x25AA;&#x25AA;</td></tr>\n",
              "  </thead>\n",
              "  <tbody>\n",
              "    <tr><td class='row_index'>0</td><td> 1)  18 to 29</td><td>5273</td></tr>\n",
              "    <tr><td class='row_index'>1</td><td> 2)  30 to 49</td><td>29744</td></tr>\n",
              "    <tr><td class='row_index'>2</td><td> 3)  50 to 64</td><td>9384</td></tr>\n",
              "    <tr><td class='row_index'>3</td><td> 5)  &gt;= 65</td><td>810</td></tr>\n",
              "  </tbody>\n",
              "  </table>\n",
              "  <div class='footer'>\n",
              "    <div class='frame_dimensions'>4 rows &times; 2 columns</div>\n",
              "  </div>\n",
              "</div>\n"
            ],
            "text/plain": [
              ""
            ]
          },
          "metadata": {
            "tags": []
          },
          "execution_count": 538
        }
      ]
    },
    {
      "cell_type": "markdown",
      "metadata": {
        "id": "zhaE8SVudwn9"
      },
      "source": [
        "#### ## b) OnTimePayer\n",
        "a) College Education, c) Age, d) Married2, e) Savings"
      ]
    },
    {
      "cell_type": "markdown",
      "metadata": {
        "id": "unPOIGT0e3Id"
      },
      "source": [
        "#### ##  d) Married2\n",
        "a) College Education b) OnTimePayer, c) Age, e) Savings"
      ]
    },
    {
      "cell_type": "code",
      "metadata": {
        "colab": {
          "base_uri": "https://localhost:8080/"
        },
        "id": "SF_0K85lQuH1",
        "outputId": "e3849ca3-194f-4286-cf29-13bda9a203ae"
      },
      "source": [
        "#IVd. Data Processing -----------------------------------\n",
        "#A. Clean Data Martial \n",
        "bank_p[f.marital==\"divorced\", 'Married2']= 'No'\n",
        "bank_p[f.marital==\"single\", 'Married2']= 'No'\n",
        "bank_p[f.marital==\"married\", 'Married2']= 'Yes'\n",
        "\n",
        "print(bank_p[:, sum(f.count), by(['Married2'])])\n",
        "bank_p.shape"
      ],
      "execution_count": null,
      "outputs": [
        {
          "output_type": "stream",
          "text": [
            "   | Married2  count\n",
            "-- + --------  -----\n",
            " 0 | No        17997\n",
            " 1 | Yes       27214\n",
            "\n",
            "[2 rows x 2 columns]\n",
            "\n"
          ],
          "name": "stdout"
        },
        {
          "output_type": "execute_result",
          "data": {
            "text/plain": [
              "(45211, 23)"
            ]
          },
          "metadata": {
            "tags": []
          },
          "execution_count": 539
        }
      ]
    },
    {
      "cell_type": "markdown",
      "metadata": {
        "id": "lanIGCUjee8B"
      },
      "source": [
        "#### ## d) Married2 (extra)\n",
        "a) College Education b) OnTimePayer, c) Age, e) Savings"
      ]
    },
    {
      "cell_type": "code",
      "metadata": {
        "colab": {
          "base_uri": "https://localhost:8080/"
        },
        "id": "IPMopmG5yWUJ",
        "outputId": "37a55658-bd12-4606-9b79-b5d1000ef2a4"
      },
      "source": [
        "#IVb. Data Processing -----------------------------------\n",
        "#A. Clean Data Martial <seeking to be binary >\n",
        "bank_p[f.marital== 'married', 'Married']= 'Yes'\n",
        "bank_p[f.marital== 'single', 'Not Married']= 'No'\n",
        "bank_p[f.marital== 'divorced', 'Not Married']= 'No'\n",
        "print(bank_p[:, sum(f.count), by (['Married', 'Not Married'])])\n",
        "bank_p.shape"
      ],
      "execution_count": null,
      "outputs": [
        {
          "output_type": "stream",
          "text": [
            "   | Married  Not Married  count\n",
            "-- + -------  -----------  -----\n",
            " 0 | NA       No           17997\n",
            " 1 | Yes      NA           27214\n",
            "\n",
            "[2 rows x 3 columns]\n",
            "\n"
          ],
          "name": "stdout"
        },
        {
          "output_type": "execute_result",
          "data": {
            "text/plain": [
              "(45211, 25)"
            ]
          },
          "metadata": {
            "tags": []
          },
          "execution_count": 540
        }
      ]
    },
    {
      "cell_type": "markdown",
      "metadata": {
        "id": "ARLnO7JaevKh"
      },
      "source": [
        "#### ## e) Savings\n",
        "a) College Education b) OnTimePayer, c) Age, d) Married2\n"
      ]
    },
    {
      "cell_type": "code",
      "metadata": {
        "colab": {
          "base_uri": "https://localhost:8080/"
        },
        "id": "yxwtmGSuIFsu",
        "outputId": "098f26ae-c9ad-464f-a8f5-acfcea444058"
      },
      "source": [
        "## #IVd. Data Processing -----------------------------------\n",
        "#A. Clean Data account to Savings\n",
        "# Holding a balance in their Account\n",
        "bank_p[f.balance <=999, 'Savings']= 'No'\n",
        "bank_p[f.balance  >=1000, 'Savings']= 'Yes'\n",
        "\n",
        "print(bank_p[:, sum(f.count), by(['Savings'])])\n",
        "bank_p.shape"
      ],
      "execution_count": null,
      "outputs": [
        {
          "output_type": "stream",
          "text": [
            "   | Savings  count\n",
            "-- + -------  -----\n",
            " 0 | No       30569\n",
            " 1 | Yes      14642\n",
            "\n",
            "[2 rows x 2 columns]\n",
            "\n"
          ],
          "name": "stdout"
        },
        {
          "output_type": "execute_result",
          "data": {
            "text/plain": [
              "(45211, 26)"
            ]
          },
          "metadata": {
            "tags": []
          },
          "execution_count": 541
        }
      ]
    },
    {
      "cell_type": "code",
      "metadata": {
        "id": "OB5pMHAhJHnp"
      },
      "source": [
        "# bank_pd = bank_p.to_pandas()  #Use this to convert datatable into Pandas\n",
        "# bank_p = dt.Frame(bank_pd) #Use this to convert Pandas into datatable"
      ],
      "execution_count": null,
      "outputs": []
    },
    {
      "cell_type": "code",
      "metadata": {
        "colab": {
          "base_uri": "https://localhost:8080/",
          "height": 325
        },
        "id": "Qv36oLgN8Zix",
        "outputId": "1ad62f30-6084-4844-cd16-162c50314257"
      },
      "source": [],
      "execution_count": null,
      "outputs": [
        {
          "output_type": "execute_result",
          "data": {
            "text/plain": [
              "<matplotlib.axes._subplots.AxesSubplot at 0x7f0cad549550>"
            ]
          },
          "metadata": {
            "tags": []
          },
          "execution_count": 543
        },
        {
          "output_type": "display_data",
          "data": {
            "image/png": "[encoded data removed]",
            "text/plain": [
              "<Figure size 432x288 with 2 Axes>"
            ]
          },
          "metadata": {
            "tags": [],
            "needs_background": "light"
          }
        }
      ]
    },
    {
      "cell_type": "code",
      "metadata": {
        "id": "DrJ7jYL-8rU5"
      },
      "source": [
        "#C. Build Additional Features\n"
      ],
      "execution_count": null,
      "outputs": []
    },
    {
      "cell_type": "code",
      "metadata": {
        "id": "Z4jWbM689-XF"
      },
      "source": [
        "import numpy as np\n",
        "import matplotlib.pyplot as plt\n",
        "import seaborn as sns\n",
        "\n",
        "from inspect import signature\n",
        "\n",
        "import sklearn\n",
        "from sklearn import linear_model, dummy, metrics\n",
        "from sklearn.linear_model import LogisticRegression\n",
        "from sklearn.dummy import DummyClassifier\n",
        "from sklearn.model_selection import train_test_split\n",
        "from sklearn.metrics import *\n",
        "from sklearn import tree\n",
        "import pydotplus\n",
        "from sklearn.tree import DecisionTreeClassifier\n",
        "import matplotlib.image as pltimg"
      ],
      "execution_count": null,
      "outputs": []
    },
    {
      "cell_type": "code",
      "metadata": {
        "id": "ZRZwmVexJEIg"
      },
      "source": [
        "#B. Filter the data\n"
      ],
      "execution_count": null,
      "outputs": []
    },
    {
      "cell_type": "markdown",
      "metadata": {
        "id": "OoXp8zDq1TxQ"
      },
      "source": [
        "#### ## C.  Build Features\n",
        "####### a) education, b) default, c) age,  d) martial, e) balance\n",
        "#######  a) College Education, b) OnTimePayer, c) Age, d) Married2, e) Savings"
      ]
    },
    {
      "cell_type": "code",
      "metadata": {
        "id": "rjBeOMhAJrrn"
      },
      "source": [
        "#C1. Build additional features\n",
        "from scipy import stats\n",
        "bank_p['previous_norm'] = stats.zscore(bank_p['previous'])\n",
        "bank_p[:,'campaign_norm'] = stats.zscore(bank_p['campaign'])"
      ],
      "execution_count": null,
      "outputs": []
    },
    {
      "cell_type": "code",
      "metadata": {
        "id": "HF-zL0aU9zTy",
        "colab": {
          "base_uri": "https://localhost:8080/",
          "height": 491
        },
        "outputId": "21aabd9f-119c-458d-8ae2-2af6439ab2a6"
      },
      "source": [
        "#bank_p=dt.Frame(bank_pd)\n",
        "bank_pd=bank_p.to_pandas()  #Use this to convert datatable into Pandas\n",
        "bank_pd.head()"
      ],
      "execution_count": null,
      "outputs": [
        {
          "output_type": "execute_result",
          "data": {
            "text/html": [
              "<div>\n",
              "<style scoped>\n",
              "    .dataframe tbody tr th:only-of-type {\n",
              "        vertical-align: middle;\n",
              "    }\n",
              "\n",
              "    .dataframe tbody tr th {\n",
              "        vertical-align: top;\n",
              "    }\n",
              "\n",
              "    .dataframe thead th {\n",
              "        text-align: right;\n",
              "    }\n",
              "</style>\n",
              "<table border=\"1\" class=\"dataframe\">\n",
              "  <thead>\n",
              "    <tr style=\"text-align: right;\">\n",
              "      <th></th>\n",
              "      <th>age</th>\n",
              "      <th>job</th>\n",
              "      <th>marital</th>\n",
              "      <th>education</th>\n",
              "      <th>default</th>\n",
              "      <th>balance</th>\n",
              "      <th>housing</th>\n",
              "      <th>loan</th>\n",
              "      <th>contact</th>\n",
              "      <th>day</th>\n",
              "      <th>month</th>\n",
              "      <th>duration</th>\n",
              "      <th>campaign</th>\n",
              "      <th>pdays</th>\n",
              "      <th>previous</th>\n",
              "      <th>poutcome</th>\n",
              "      <th>y</th>\n",
              "      <th>count</th>\n",
              "      <th>y1</th>\n",
              "      <th>CollegeEducation</th>\n",
              "      <th>OnTimePayer</th>\n",
              "      <th>Age</th>\n",
              "      <th>Married2</th>\n",
              "      <th>Married</th>\n",
              "      <th>Not Married</th>\n",
              "      <th>Savings</th>\n",
              "      <th>previous_norm</th>\n",
              "      <th>campaign_norm</th>\n",
              "    </tr>\n",
              "  </thead>\n",
              "  <tbody>\n",
              "    <tr>\n",
              "      <th>0</th>\n",
              "      <td>58</td>\n",
              "      <td>management</td>\n",
              "      <td>married</td>\n",
              "      <td>tertiary</td>\n",
              "      <td>no</td>\n",
              "      <td>2143</td>\n",
              "      <td>yes</td>\n",
              "      <td>no</td>\n",
              "      <td>unknown</td>\n",
              "      <td>5</td>\n",
              "      <td>may</td>\n",
              "      <td>261</td>\n",
              "      <td>1</td>\n",
              "      <td>-1</td>\n",
              "      <td>0</td>\n",
              "      <td>unknown</td>\n",
              "      <td>no</td>\n",
              "      <td>1</td>\n",
              "      <td>0</td>\n",
              "      <td>Yes</td>\n",
              "      <td>No</td>\n",
              "      <td>3)  50 to 64</td>\n",
              "      <td>Yes</td>\n",
              "      <td>Yes</td>\n",
              "      <td>NaN</td>\n",
              "      <td>Yes</td>\n",
              "      <td>-0.25194</td>\n",
              "      <td>-0.569351</td>\n",
              "    </tr>\n",
              "    <tr>\n",
              "      <th>1</th>\n",
              "      <td>44</td>\n",
              "      <td>technician</td>\n",
              "      <td>single</td>\n",
              "      <td>secondary</td>\n",
              "      <td>no</td>\n",
              "      <td>29</td>\n",
              "      <td>yes</td>\n",
              "      <td>no</td>\n",
              "      <td>unknown</td>\n",
              "      <td>5</td>\n",
              "      <td>may</td>\n",
              "      <td>151</td>\n",
              "      <td>1</td>\n",
              "      <td>-1</td>\n",
              "      <td>0</td>\n",
              "      <td>unknown</td>\n",
              "      <td>no</td>\n",
              "      <td>1</td>\n",
              "      <td>0</td>\n",
              "      <td>No</td>\n",
              "      <td>No</td>\n",
              "      <td>2)  30 to 49</td>\n",
              "      <td>No</td>\n",
              "      <td>NaN</td>\n",
              "      <td>No</td>\n",
              "      <td>No</td>\n",
              "      <td>-0.25194</td>\n",
              "      <td>-0.569351</td>\n",
              "    </tr>\n",
              "    <tr>\n",
              "      <th>2</th>\n",
              "      <td>33</td>\n",
              "      <td>entrepreneur</td>\n",
              "      <td>married</td>\n",
              "      <td>secondary</td>\n",
              "      <td>no</td>\n",
              "      <td>2</td>\n",
              "      <td>yes</td>\n",
              "      <td>yes</td>\n",
              "      <td>unknown</td>\n",
              "      <td>5</td>\n",
              "      <td>may</td>\n",
              "      <td>76</td>\n",
              "      <td>1</td>\n",
              "      <td>-1</td>\n",
              "      <td>0</td>\n",
              "      <td>unknown</td>\n",
              "      <td>no</td>\n",
              "      <td>1</td>\n",
              "      <td>0</td>\n",
              "      <td>No</td>\n",
              "      <td>No</td>\n",
              "      <td>2)  30 to 49</td>\n",
              "      <td>Yes</td>\n",
              "      <td>Yes</td>\n",
              "      <td>NaN</td>\n",
              "      <td>No</td>\n",
              "      <td>-0.25194</td>\n",
              "      <td>-0.569351</td>\n",
              "    </tr>\n",
              "    <tr>\n",
              "      <th>3</th>\n",
              "      <td>47</td>\n",
              "      <td>blue-collar</td>\n",
              "      <td>married</td>\n",
              "      <td>unknown</td>\n",
              "      <td>no</td>\n",
              "      <td>1506</td>\n",
              "      <td>yes</td>\n",
              "      <td>no</td>\n",
              "      <td>unknown</td>\n",
              "      <td>5</td>\n",
              "      <td>may</td>\n",
              "      <td>92</td>\n",
              "      <td>1</td>\n",
              "      <td>-1</td>\n",
              "      <td>0</td>\n",
              "      <td>unknown</td>\n",
              "      <td>no</td>\n",
              "      <td>1</td>\n",
              "      <td>0</td>\n",
              "      <td>No</td>\n",
              "      <td>No</td>\n",
              "      <td>2)  30 to 49</td>\n",
              "      <td>Yes</td>\n",
              "      <td>Yes</td>\n",
              "      <td>NaN</td>\n",
              "      <td>Yes</td>\n",
              "      <td>-0.25194</td>\n",
              "      <td>-0.569351</td>\n",
              "    </tr>\n",
              "    <tr>\n",
              "      <th>4</th>\n",
              "      <td>33</td>\n",
              "      <td>unknown</td>\n",
              "      <td>single</td>\n",
              "      <td>unknown</td>\n",
              "      <td>no</td>\n",
              "      <td>1</td>\n",
              "      <td>no</td>\n",
              "      <td>no</td>\n",
              "      <td>unknown</td>\n",
              "      <td>5</td>\n",
              "      <td>may</td>\n",
              "      <td>198</td>\n",
              "      <td>1</td>\n",
              "      <td>-1</td>\n",
              "      <td>0</td>\n",
              "      <td>unknown</td>\n",
              "      <td>no</td>\n",
              "      <td>1</td>\n",
              "      <td>0</td>\n",
              "      <td>No</td>\n",
              "      <td>No</td>\n",
              "      <td>2)  30 to 49</td>\n",
              "      <td>No</td>\n",
              "      <td>NaN</td>\n",
              "      <td>No</td>\n",
              "      <td>No</td>\n",
              "      <td>-0.25194</td>\n",
              "      <td>-0.569351</td>\n",
              "    </tr>\n",
              "  </tbody>\n",
              "</table>\n",
              "</div>"
            ],
            "text/plain": [
              "   age           job  marital  ... Savings previous_norm  campaign_norm\n",
              "0   58    management  married  ...     Yes      -0.25194      -0.569351\n",
              "1   44    technician   single  ...      No      -0.25194      -0.569351\n",
              "2   33  entrepreneur  married  ...      No      -0.25194      -0.569351\n",
              "3   47   blue-collar  married  ...     Yes      -0.25194      -0.569351\n",
              "4   33       unknown   single  ...      No      -0.25194      -0.569351\n",
              "\n",
              "[5 rows x 28 columns]"
            ]
          },
          "metadata": {
            "tags": []
          },
          "execution_count": 548
        }
      ]
    },
    {
      "cell_type": "markdown",
      "metadata": {
        "id": "vKB1wwsaOMxq"
      },
      "source": [
        "#### ## a) College Education,\n",
        " b) OnTimePayer, c) Age, d) Married2, e) Savings"
      ]
    },
    {
      "cell_type": "code",
      "metadata": {
        "colab": {
          "base_uri": "https://localhost:8080/",
          "height": 368
        },
        "id": "5aQMFN68zFxZ",
        "outputId": "b73345fa-25af-4bf5-d391-5f4c52e40340"
      },
      "source": [
        "#C. Build Additional Features\n",
        "#Feature 2a - College Educated in the Crosstab\n",
        "crosstab_01 = pd.crosstab(bank_pd['CollegeEducation'], bank_pd['y'])\n",
        "crosstab_norm = crosstab_01.div(crosstab_01.sum(1),axis =0)\n",
        "print(crosstab_norm)\n",
        "crosstab_norm.plot(kind='bar', stacked = True)\n",
        "plt.legend(['Response = No','Response = Yes'])\n",
        "plt.title('College Educated')\n",
        "plt.xlabel('No of College Educated'); plt.ylabel('Proportion');plt.show()"
      ],
      "execution_count": null,
      "outputs": [
        {
          "output_type": "stream",
          "text": [
            "y                       no       yes\n",
            "CollegeEducation                    \n",
            "No                0.896804  0.103196\n",
            "Yes               0.849936  0.150064\n"
          ],
          "name": "stdout"
        },
        {
          "output_type": "display_data",
          "data": {
            "image/png": "[encoded data removed]",
            "text/plain": [
              "<Figure size 432x288 with 1 Axes>"
            ]
          },
          "metadata": {
            "tags": [],
            "needs_background": "light"
          }
        }
      ]
    },
    {
      "cell_type": "markdown",
      "metadata": {
        "id": "1cbSu65SOXvI"
      },
      "source": [
        "#### ## b) OnTimePayer\n",
        "##### a) College Education, c) Age, d) Married2, e) Savings"
      ]
    },
    {
      "cell_type": "code",
      "metadata": {
        "colab": {
          "base_uri": "https://localhost:8080/",
          "height": 368
        },
        "id": "8Be7ld9K6aHv",
        "outputId": "eeb34029-4505-41c7-ef1e-f3bd92243e32"
      },
      "source": [
        "#C. Build Additional Features\n",
        "#Feature 2b - OnTimePayers in Crosstabs\n",
        "bank_pd=bank_p.to_pandas()\n",
        "crosstab_02 = pd.crosstab(bank_pd['OnTimePayer'], bank_pd['y'])\n",
        "crosstab_norm = crosstab_02.div(crosstab_02.sum(1),axis =0)\n",
        "print(crosstab_norm)\n",
        "crosstab_norm.plot(kind='bar', stacked = True)\n",
        "plt.legend(['Response = No','Response = Yes'])\n",
        "plt.title('Potential Customers with OnTime Pay Record ')\n",
        "plt.xlabel('OnTimePayer'); plt.ylabel('Propotion');plt.show()"
      ],
      "execution_count": null,
      "outputs": [
        {
          "output_type": "stream",
          "text": [
            "y                  no       yes\n",
            "OnTimePayer                    \n",
            "No           0.882039  0.117961\n",
            "Yes          0.936196  0.063804\n"
          ],
          "name": "stdout"
        },
        {
          "output_type": "display_data",
          "data": {
            "image/png": "[encoded data removed]",
            "text/plain": [
              "<Figure size 432x288 with 1 Axes>"
            ]
          },
          "metadata": {
            "tags": [],
            "needs_background": "light"
          }
        }
      ]
    },
    {
      "cell_type": "markdown",
      "metadata": {
        "id": "bKmds64bOdje"
      },
      "source": [
        "#### ## c) Age\n",
        "##### a) College Education, b) OnTimePayer, d) Married2, e) Savings"
      ]
    },
    {
      "cell_type": "code",
      "metadata": {
        "id": "BM4Tul8Fw8Qi",
        "colab": {
          "base_uri": "https://localhost:8080/",
          "height": 446
        },
        "outputId": "972ebe40-dce6-4db2-9d11-de633a330095"
      },
      "source": [
        "#C. Build Additional Features\n",
        "#Feature 2c - Age in Crosstab\n",
        "bank_pd=bank_p.to_pandas()\n",
        "crosstab_03 = pd.crosstab(bank_pd['Age'], bank_pd['y'])\n",
        "crosstab_norm = crosstab_03.div(crosstab_03.sum(1), axis = 0)\n",
        "print(crosstab_norm)\n",
        "crosstab_norm.plot(kind='bar', stacked = True)\n",
        "#\n",
        "#plt.legend(['Age Range for 'No' Response', 'Age Range for 'Yes' Response'])\n",
        "plt.title('Age & Yes / No Response')\n",
        "plt.xlabel('Age'); plt.ylabel('Yes or No Responses'); plt.show()"
      ],
      "execution_count": null,
      "outputs": [
        {
          "output_type": "stream",
          "text": [
            "y                    no       yes\n",
            "Age                              \n",
            " 1)  18 to 29  0.824009  0.175991\n",
            " 2)  30 to 49  0.899946  0.100054\n",
            " 3)  50 to 64  0.888747  0.111253\n",
            " 5)  >= 65     0.579012  0.420988\n"
          ],
          "name": "stdout"
        },
        {
          "output_type": "display_data",
          "data": {
            "image/png": "[encoded data removed]",
            "text/plain": [
              "<Figure size 432x288 with 1 Axes>"
            ]
          },
          "metadata": {
            "tags": [],
            "needs_background": "light"
          }
        }
      ]
    },
    {
      "cell_type": "markdown",
      "metadata": {
        "id": "bjuiJ0qDOs6s"
      },
      "source": [
        "#### ## d) Married2\n",
        "#### ### a) College Education, b) OnTimePayer, c) Age, e) Savings"
      ]
    },
    {
      "cell_type": "code",
      "metadata": {
        "colab": {
          "base_uri": "https://localhost:8080/"
        },
        "id": "MEP7seVgOr7P",
        "outputId": "faff0e22-c8ef-4609-d502-de81ae0f1667"
      },
      "source": [
        "# C. Build Additional Features\n",
        "# Feature C2d - Married #IVc. Data Processing -----------------------------------\n",
        "#A. Clean Data Martial \n",
        "bank_p[f.marital==\"divorced\", 'Married2']= 'No'\n",
        "bank_p[f.marital==\"single\", 'Married2']= 'No'\n",
        "bank_p[f.marital==\"married\", 'Married2']= 'Yes'\n",
        "\n",
        "print(bank_p[:, sum(f.count), by(['Married2'])])\n",
        "bank_p.shape\n"
      ],
      "execution_count": null,
      "outputs": [
        {
          "output_type": "stream",
          "text": [
            "   | Married2  count\n",
            "-- + --------  -----\n",
            " 0 | No        17997\n",
            " 1 | Yes       27214\n",
            "\n",
            "[2 rows x 2 columns]\n",
            "\n"
          ],
          "name": "stdout"
        },
        {
          "output_type": "execute_result",
          "data": {
            "text/plain": [
              "(45211, 28)"
            ]
          },
          "metadata": {
            "tags": []
          },
          "execution_count": 552
        }
      ]
    },
    {
      "cell_type": "code",
      "metadata": {
        "colab": {
          "base_uri": "https://localhost:8080/",
          "height": 368
        },
        "id": "LrGInWTgS5cE",
        "outputId": "35d34a18-fd1b-4f07-898b-909703d287e5"
      },
      "source": [
        "#C. Build Additional Features\n",
        "#Feature 2d - Married2 in Crosstab\n",
        "bank_pd=bank_p.to_pandas()\n",
        "crosstab_04 = pd.crosstab(bank_pd['Married2'], bank_pd['y'])\n",
        "crosstab_norm = crosstab_04.div(crosstab_04.sum(1), axis = 0)\n",
        "print(crosstab_norm)\n",
        "crosstab_norm.plot(kind='bar', stacked = True)\n",
        "#\n",
        "#plt.legend(['Not Married', 'Married'])\n",
        "plt.title('Married vs Not Married')\n",
        "plt.xlabel('Married'); plt.ylabel(''); plt.show()"
      ],
      "execution_count": null,
      "outputs": [
        {
          "output_type": "stream",
          "text": [
            "y               no       yes\n",
            "Married2                    \n",
            "No        0.859199  0.140801\n",
            "Yes       0.898765  0.101235\n"
          ],
          "name": "stdout"
        },
        {
          "output_type": "display_data",
          "data": {
            "image/png": "[encoded data removed]",
            "text/plain": [
              "<Figure size 432x288 with 1 Axes>"
            ]
          },
          "metadata": {
            "tags": [],
            "needs_background": "light"
          }
        }
      ]
    },
    {
      "cell_type": "markdown",
      "metadata": {
        "id": "7e1O4Bm6Oi4s"
      },
      "source": [
        "#### ## e) Savings\n",
        "#### ## a) College Education, b) OnTimePayer, c) Age, d) Married2"
      ]
    },
    {
      "cell_type": "code",
      "metadata": {
        "colab": {
          "base_uri": "https://localhost:8080/",
          "height": 368
        },
        "id": "HiVEfyALLYEt",
        "outputId": "419fcb84-61b2-4999-8a27-5b8bf0ddd4c6"
      },
      "source": [
        "#C Build additional features\n",
        "#Feature 2d - Savings Crosstab\n",
        "bank_pd=bank_p.to_pandas()\n",
        "crosstab_05 = pd.crosstab(bank_pd['Savings'], bank_pd['y'])\n",
        "crosstab_norm = crosstab_05.div(crosstab_05.sum(1), axis = 0)\n",
        "print(crosstab_norm)\n",
        "crosstab_norm.plot(kind='bar', stacked = True)\n",
        "#\n",
        "#plt.legend(['Savings <=$999', 'Savings >=$1000'])\n",
        "plt.title('Savings > $1000')\n",
        "plt.xlabel('Savings'); plt.ylabel('Savings >$1000'); plt.show()"
      ],
      "execution_count": null,
      "outputs": [
        {
          "output_type": "stream",
          "text": [
            "y              no       yes\n",
            "Savings                    \n",
            "No       0.900684  0.099316\n",
            "Yes      0.846128  0.153872\n"
          ],
          "name": "stdout"
        },
        {
          "output_type": "display_data",
          "data": {
            "image/png": "[encoded data removed]",
            "text/plain": [
              "<Figure size 432x288 with 1 Axes>"
            ]
          },
          "metadata": {
            "tags": [],
            "needs_background": "light"
          }
        }
      ]
    },
    {
      "cell_type": "code",
      "metadata": {
        "id": "a4Ph2a3yLUrb"
      },
      "source": [
        "#bank_pd=bank_p.to_pandas()  #Use this to convert datatable into Pandas\n",
        "#bank_p=dt.Frame(bank_pd) #Use this to convert Pandas into datatable"
      ],
      "execution_count": null,
      "outputs": []
    },
    {
      "cell_type": "markdown",
      "metadata": {
        "id": "9guzsGbPPWia"
      },
      "source": [
        "#**V. Python Data Analysis**"
      ]
    },
    {
      "cell_type": "markdown",
      "metadata": {
        "id": "Y8WTtv6JXlW7"
      },
      "source": [
        "##You need to create and run different models. One for Random Forest and one for Logisitic Regression.##\n",
        "\n",
        "**If your model from HW #1 was not very strong, you need to consider new features and/or additional features for these models.  I will be comparing your results and I am going to want to see improvement in the AUC.  However, if your HW #1 model already had a strong AUC (>0.70), then you no dont need to necessarily consider additional features.**"
      ]
    },
    {
      "cell_type": "code",
      "metadata": {
        "id": "1fEEHpGkf2Q8",
        "colab": {
          "base_uri": "https://localhost:8080/",
          "height": 355
        },
        "outputId": "5a60c898-9859-48a7-b515-fe6e86006321"
      },
      "source": [
        "import h2o\n",
        "\n",
        "h2o.init()\n",
        "#h2o.shutdown()"
      ],
      "execution_count": null,
      "outputs": [
        {
          "output_type": "stream",
          "text": [
            "Checking whether there is an H2O instance running at http://localhost:54321 . connected.\n"
          ],
          "name": "stdout"
        },
        {
          "output_type": "display_data",
          "data": {
            "text/html": [
              "<div style=\"overflow:auto\"><table style=\"width:50%\"><tr><td>H2O_cluster_uptime:</td>\n",
              "<td>4 hours 49 mins</td></tr>\n",
              "<tr><td>H2O_cluster_timezone:</td>\n",
              "<td>Etc/UTC</td></tr>\n",
              "<tr><td>H2O_data_parsing_timezone:</td>\n",
              "<td>UTC</td></tr>\n",
              "<tr><td>H2O_cluster_version:</td>\n",
              "<td>3.32.1.3</td></tr>\n",
              "<tr><td>H2O_cluster_version_age:</td>\n",
              "<td>20 days </td></tr>\n",
              "<tr><td>H2O_cluster_name:</td>\n",
              "<td>H2O_from_python_unknownUser_ouxxz6</td></tr>\n",
              "<tr><td>H2O_cluster_total_nodes:</td>\n",
              "<td>1</td></tr>\n",
              "<tr><td>H2O_cluster_free_memory:</td>\n",
              "<td>3.066 Gb</td></tr>\n",
              "<tr><td>H2O_cluster_total_cores:</td>\n",
              "<td>2</td></tr>\n",
              "<tr><td>H2O_cluster_allowed_cores:</td>\n",
              "<td>2</td></tr>\n",
              "<tr><td>H2O_cluster_status:</td>\n",
              "<td>locked, healthy</td></tr>\n",
              "<tr><td>H2O_connection_url:</td>\n",
              "<td>http://localhost:54321</td></tr>\n",
              "<tr><td>H2O_connection_proxy:</td>\n",
              "<td>{\"http\": null, \"https\": null}</td></tr>\n",
              "<tr><td>H2O_internal_security:</td>\n",
              "<td>False</td></tr>\n",
              "<tr><td>H2O_API_Extensions:</td>\n",
              "<td>Amazon S3, XGBoost, Algos, AutoML, Core V3, TargetEncoder, Core V4</td></tr>\n",
              "<tr><td>Python_version:</td>\n",
              "<td>3.7.10 final</td></tr></table></div>"
            ],
            "text/plain": [
              "--------------------------  ------------------------------------------------------------------\n",
              "H2O_cluster_uptime:         4 hours 49 mins\n",
              "H2O_cluster_timezone:       Etc/UTC\n",
              "H2O_data_parsing_timezone:  UTC\n",
              "H2O_cluster_version:        3.32.1.3\n",
              "H2O_cluster_version_age:    20 days\n",
              "H2O_cluster_name:           H2O_from_python_unknownUser_ouxxz6\n",
              "H2O_cluster_total_nodes:    1\n",
              "H2O_cluster_free_memory:    3.066 Gb\n",
              "H2O_cluster_total_cores:    2\n",
              "H2O_cluster_allowed_cores:  2\n",
              "H2O_cluster_status:         locked, healthy\n",
              "H2O_connection_url:         http://localhost:54321\n",
              "H2O_connection_proxy:       {\"http\": null, \"https\": null}\n",
              "H2O_internal_security:      False\n",
              "H2O_API_Extensions:         Amazon S3, XGBoost, Algos, AutoML, Core V3, TargetEncoder, Core V4\n",
              "Python_version:             3.7.10 final\n",
              "--------------------------  ------------------------------------------------------------------"
            ]
          },
          "metadata": {
            "tags": []
          }
        }
      ]
    },
    {
      "cell_type": "markdown",
      "metadata": {
        "id": "ZnIbGnFpwPQB"
      },
      "source": [
        "### Zone of Trial and Error on y = variable"
      ]
    },
    {
      "cell_type": "code",
      "metadata": {
        "id": "mN20XIHNmid8"
      },
      "source": [
        "# bank_p=dt.Frame(bank_pd)\n",
        "bank_pd = bank_p.to_pandas()  #Use this to convert datatable into Pandas"
      ],
      "execution_count": null,
      "outputs": []
    },
    {
      "cell_type": "code",
      "metadata": {
        "id": "5-XL95X2vBb9"
      },
      "source": [
        "#bank_p.names"
      ],
      "execution_count": null,
      "outputs": []
    },
    {
      "cell_type": "code",
      "metadata": {
        "colab": {
          "base_uri": "https://localhost:8080/",
          "height": 216
        },
        "id": "-pNgqj3vv2oC",
        "outputId": "18470df2-88f1-4d78-c4c5-0dfdaa5d7017"
      },
      "source": [
        "from sklearn.metrics import accuracy_score  #  accuracy is good at 88%.  But it doesn't tell how model will perform\n",
        "from sklearn import metrics\n",
        "\n",
        "bank_p['count'] = 1  #Build a new variable in order to count rows in the data\n",
        "bank_p[f.y==\"yes\",'y1']=1\n",
        "bank_p[f.y==\"no\",'y1']=0\n",
        "\n",
        "bank_p[:, sum(f.count), by('y', 'y1')]  #Recode y into a 0/1 dummy variable. this is for classification later."
      ],
      "execution_count": null,
      "outputs": [
        {
          "output_type": "stream",
          "text": [
            "   | y    y1  count\n",
            "-- + ---  --  -----\n",
            " 0 | no    0  39922\n",
            " 1 | yes   1   5289\n",
            "\n",
            "[2 rows x 3 columns]\n"
          ],
          "name": "stdout"
        },
        {
          "output_type": "execute_result",
          "data": {
            "text/html": [
              "<div class='datatable'>\n",
              "  <table class='frame'>\n",
              "  <thead>\n",
              "    <tr class='colnames'><td class='row_index'></td><th>y</th><th>y1</th><th>count</th></tr>\n",
              "    <tr class='coltypes'><td class='row_index'></td><td class='str' title='str32'>&#x25AA;&#x25AA;&#x25AA;&#x25AA;</td><td class='int' title='int32'>&#x25AA;&#x25AA;&#x25AA;&#x25AA;</td><td class='int' title='int64'>&#x25AA;&#x25AA;&#x25AA;&#x25AA;&#x25AA;&#x25AA;&#x25AA;&#x25AA;</td></tr>\n",
              "  </thead>\n",
              "  <tbody>\n",
              "    <tr><td class='row_index'>0</td><td>no</td><td>0</td><td>39922</td></tr>\n",
              "    <tr><td class='row_index'>1</td><td>yes</td><td>1</td><td>5289</td></tr>\n",
              "  </tbody>\n",
              "  </table>\n",
              "  <div class='footer'>\n",
              "    <div class='frame_dimensions'>2 rows &times; 3 columns</div>\n",
              "  </div>\n",
              "</div>\n"
            ],
            "text/plain": [
              ""
            ]
          },
          "metadata": {
            "tags": []
          },
          "execution_count": 558
        }
      ]
    },
    {
      "cell_type": "markdown",
      "metadata": {
        "id": "qd9FJuliUjEP"
      },
      "source": [
        "### a) College Education, b) OnTimePayer, c) Age, d) Married2, e) Savings"
      ]
    },
    {
      "cell_type": "code",
      "metadata": {
        "id": "l6n_I_TgPaoj",
        "colab": {
          "base_uri": "https://localhost:8080/",
          "height": 315
        },
        "outputId": "30bba1f3-567e-459f-a69e-7c8b848d6c07"
      },
      "source": [
        "#A. Prepare data for h2o\n",
        "bank_pd = bank_p.to_pandas()  # This line of code will convert the bank_p object into a bank_pd\n",
        "                              # object. \n",
        "                              # the rest of the code relies on a bank_pd object. However, \n",
        "                              # if you made changes to a bank_pd object above that you want retained\n",
        "                              # and did not make any changes to the bank_p object.\n",
        "                              #  Comment this line out.\n",
        "                                \n",
        "#Convert variables to factor variables for modeling\n",
        "bank_pd['job'],_=pd.factorize(bank_pd['job'], sort=True)\n",
        "bank_pd['marital'],_=pd.factorize(bank_pd['marital'], sort=True)\n",
        "bank_pd['education'],_=pd.factorize(bank_pd['education'], sort=True)\n",
        "bank_pd['default'],_=pd.factorize(bank_pd['default'], sort=True)\n",
        "bank_pd['housing'],_=pd.factorize(bank_pd['housing'], sort=True)\n",
        "bank_pd['loan'],_=pd.factorize(bank_pd['loan'], sort=True)\n",
        "bank_pd['poutcome'],_=pd.factorize(bank_pd['poutcome'], sort=True)\n",
        "bank_pd['contact'],_=pd.factorize(bank_pd['contact'], sort=True)\n",
        "bank_pd['month'],_=pd.factorize(bank_pd['month'], sort=True)\n",
        "bank_pd['CollegeEducation'],_=pd.factorize(bank_pd['CollegeEducation'], sort=True)  # Made this feature\n",
        "bank_pd['OnTimePayer'],_=pd.factorize(bank_pd['OnTimePayer'], sort=True)  # Made this feature\n",
        "bank_pd['Age'],_=pd.factorize(bank_pd['Age'], sort=True)  #  Made this feature\n",
        "bank_pd['Married2'],_=pd.factorize(bank_pd['Married2'], sort=True)  #  Made this feature\n",
        "bank_pd['Savings'],_=pd.factorize(bank_pd['Savings'], sort=True)  # Made this feature\n",
        "bank_pd['y'],_=pd.factorize(bank_pd['y'], sort=True)\n",
        "\n",
        "# Creating a dataframe with X%\n",
        "# values of original dataframe\n",
        "bank_pd_trn = bank_pd.sample(frac = 0.80)  #Put the percentage split here\n",
        "  \n",
        "# Creating dataframe with \n",
        "# rest of the X% values\n",
        "bank_pd_tst = bank_pd.drop(bank_pd_trn.index)\n",
        "\n",
        "bank_pd_tst.describe()"
      ],
      "execution_count": null,
      "outputs": [
        {
          "output_type": "execute_result",
          "data": {
            "text/html": [
              "<div>\n",
              "<style scoped>\n",
              "    .dataframe tbody tr th:only-of-type {\n",
              "        vertical-align: middle;\n",
              "    }\n",
              "\n",
              "    .dataframe tbody tr th {\n",
              "        vertical-align: top;\n",
              "    }\n",
              "\n",
              "    .dataframe thead th {\n",
              "        text-align: right;\n",
              "    }\n",
              "</style>\n",
              "<table border=\"1\" class=\"dataframe\">\n",
              "  <thead>\n",
              "    <tr style=\"text-align: right;\">\n",
              "      <th></th>\n",
              "      <th>age</th>\n",
              "      <th>job</th>\n",
              "      <th>marital</th>\n",
              "      <th>education</th>\n",
              "      <th>default</th>\n",
              "      <th>balance</th>\n",
              "      <th>housing</th>\n",
              "      <th>loan</th>\n",
              "      <th>contact</th>\n",
              "      <th>day</th>\n",
              "      <th>month</th>\n",
              "      <th>duration</th>\n",
              "      <th>campaign</th>\n",
              "      <th>pdays</th>\n",
              "      <th>previous</th>\n",
              "      <th>poutcome</th>\n",
              "      <th>y</th>\n",
              "      <th>count</th>\n",
              "      <th>y1</th>\n",
              "      <th>CollegeEducation</th>\n",
              "      <th>OnTimePayer</th>\n",
              "      <th>Age</th>\n",
              "      <th>Married2</th>\n",
              "      <th>Savings</th>\n",
              "      <th>previous_norm</th>\n",
              "      <th>campaign_norm</th>\n",
              "    </tr>\n",
              "  </thead>\n",
              "  <tbody>\n",
              "    <tr>\n",
              "      <th>count</th>\n",
              "      <td>9042.000000</td>\n",
              "      <td>9042.000000</td>\n",
              "      <td>9042.000000</td>\n",
              "      <td>9042.000000</td>\n",
              "      <td>9042.000000</td>\n",
              "      <td>9042.000000</td>\n",
              "      <td>9042.000000</td>\n",
              "      <td>9042.000000</td>\n",
              "      <td>9042.000000</td>\n",
              "      <td>9042.000000</td>\n",
              "      <td>9042.000000</td>\n",
              "      <td>9042.000000</td>\n",
              "      <td>9042.000000</td>\n",
              "      <td>9042.000000</td>\n",
              "      <td>9042.00000</td>\n",
              "      <td>9042.000000</td>\n",
              "      <td>9042.000000</td>\n",
              "      <td>9042.0</td>\n",
              "      <td>9042.000000</td>\n",
              "      <td>9042.000000</td>\n",
              "      <td>9042.000000</td>\n",
              "      <td>9042.000000</td>\n",
              "      <td>9042.000000</td>\n",
              "      <td>9042.000000</td>\n",
              "      <td>9042.000000</td>\n",
              "      <td>9042.000000</td>\n",
              "    </tr>\n",
              "    <tr>\n",
              "      <th>mean</th>\n",
              "      <td>40.841075</td>\n",
              "      <td>4.359213</td>\n",
              "      <td>1.173634</td>\n",
              "      <td>1.234904</td>\n",
              "      <td>0.019244</td>\n",
              "      <td>1369.548994</td>\n",
              "      <td>0.555629</td>\n",
              "      <td>0.155386</td>\n",
              "      <td>0.641009</td>\n",
              "      <td>15.976001</td>\n",
              "      <td>5.511723</td>\n",
              "      <td>257.956757</td>\n",
              "      <td>2.763437</td>\n",
              "      <td>41.443818</td>\n",
              "      <td>0.62077</td>\n",
              "      <td>2.549325</td>\n",
              "      <td>0.114134</td>\n",
              "      <td>1.0</td>\n",
              "      <td>0.114134</td>\n",
              "      <td>0.304579</td>\n",
              "      <td>0.019244</td>\n",
              "      <td>1.123313</td>\n",
              "      <td>0.593232</td>\n",
              "      <td>0.324154</td>\n",
              "      <td>0.017559</td>\n",
              "      <td>-0.000130</td>\n",
              "    </tr>\n",
              "    <tr>\n",
              "      <th>std</th>\n",
              "      <td>10.550664</td>\n",
              "      <td>3.261105</td>\n",
              "      <td>0.613727</td>\n",
              "      <td>0.750995</td>\n",
              "      <td>0.137387</td>\n",
              "      <td>3028.731471</td>\n",
              "      <td>0.496923</td>\n",
              "      <td>0.362292</td>\n",
              "      <td>0.899355</td>\n",
              "      <td>8.366691</td>\n",
              "      <td>3.000042</td>\n",
              "      <td>255.652090</td>\n",
              "      <td>3.082162</td>\n",
              "      <td>102.237094</td>\n",
              "      <td>3.44535</td>\n",
              "      <td>0.999641</td>\n",
              "      <td>0.317992</td>\n",
              "      <td>0.0</td>\n",
              "      <td>0.317992</td>\n",
              "      <td>0.460254</td>\n",
              "      <td>0.137387</td>\n",
              "      <td>0.609760</td>\n",
              "      <td>0.491258</td>\n",
              "      <td>0.468084</td>\n",
              "      <td>1.495757</td>\n",
              "      <td>0.994892</td>\n",
              "    </tr>\n",
              "    <tr>\n",
              "      <th>min</th>\n",
              "      <td>18.000000</td>\n",
              "      <td>0.000000</td>\n",
              "      <td>0.000000</td>\n",
              "      <td>0.000000</td>\n",
              "      <td>0.000000</td>\n",
              "      <td>-6847.000000</td>\n",
              "      <td>0.000000</td>\n",
              "      <td>0.000000</td>\n",
              "      <td>0.000000</td>\n",
              "      <td>1.000000</td>\n",
              "      <td>0.000000</td>\n",
              "      <td>2.000000</td>\n",
              "      <td>1.000000</td>\n",
              "      <td>-1.000000</td>\n",
              "      <td>0.00000</td>\n",
              "      <td>0.000000</td>\n",
              "      <td>0.000000</td>\n",
              "      <td>1.0</td>\n",
              "      <td>0.000000</td>\n",
              "      <td>0.000000</td>\n",
              "      <td>0.000000</td>\n",
              "      <td>0.000000</td>\n",
              "      <td>0.000000</td>\n",
              "      <td>0.000000</td>\n",
              "      <td>-0.251940</td>\n",
              "      <td>-0.569351</td>\n",
              "    </tr>\n",
              "    <tr>\n",
              "      <th>25%</th>\n",
              "      <td>33.000000</td>\n",
              "      <td>1.000000</td>\n",
              "      <td>1.000000</td>\n",
              "      <td>1.000000</td>\n",
              "      <td>0.000000</td>\n",
              "      <td>70.000000</td>\n",
              "      <td>0.000000</td>\n",
              "      <td>0.000000</td>\n",
              "      <td>0.000000</td>\n",
              "      <td>8.000000</td>\n",
              "      <td>3.000000</td>\n",
              "      <td>104.000000</td>\n",
              "      <td>1.000000</td>\n",
              "      <td>-1.000000</td>\n",
              "      <td>0.00000</td>\n",
              "      <td>3.000000</td>\n",
              "      <td>0.000000</td>\n",
              "      <td>1.0</td>\n",
              "      <td>0.000000</td>\n",
              "      <td>0.000000</td>\n",
              "      <td>0.000000</td>\n",
              "      <td>1.000000</td>\n",
              "      <td>0.000000</td>\n",
              "      <td>0.000000</td>\n",
              "      <td>-0.251940</td>\n",
              "      <td>-0.569351</td>\n",
              "    </tr>\n",
              "    <tr>\n",
              "      <th>50%</th>\n",
              "      <td>39.000000</td>\n",
              "      <td>4.000000</td>\n",
              "      <td>1.000000</td>\n",
              "      <td>1.000000</td>\n",
              "      <td>0.000000</td>\n",
              "      <td>452.500000</td>\n",
              "      <td>1.000000</td>\n",
              "      <td>0.000000</td>\n",
              "      <td>0.000000</td>\n",
              "      <td>16.000000</td>\n",
              "      <td>6.000000</td>\n",
              "      <td>180.000000</td>\n",
              "      <td>2.000000</td>\n",
              "      <td>-1.000000</td>\n",
              "      <td>0.00000</td>\n",
              "      <td>3.000000</td>\n",
              "      <td>0.000000</td>\n",
              "      <td>1.0</td>\n",
              "      <td>0.000000</td>\n",
              "      <td>0.000000</td>\n",
              "      <td>0.000000</td>\n",
              "      <td>1.000000</td>\n",
              "      <td>1.000000</td>\n",
              "      <td>0.000000</td>\n",
              "      <td>-0.251940</td>\n",
              "      <td>-0.246560</td>\n",
              "    </tr>\n",
              "    <tr>\n",
              "      <th>75%</th>\n",
              "      <td>48.000000</td>\n",
              "      <td>7.000000</td>\n",
              "      <td>2.000000</td>\n",
              "      <td>2.000000</td>\n",
              "      <td>0.000000</td>\n",
              "      <td>1418.250000</td>\n",
              "      <td>1.000000</td>\n",
              "      <td>0.000000</td>\n",
              "      <td>2.000000</td>\n",
              "      <td>22.000000</td>\n",
              "      <td>8.000000</td>\n",
              "      <td>316.750000</td>\n",
              "      <td>3.000000</td>\n",
              "      <td>-1.000000</td>\n",
              "      <td>0.00000</td>\n",
              "      <td>3.000000</td>\n",
              "      <td>0.000000</td>\n",
              "      <td>1.0</td>\n",
              "      <td>0.000000</td>\n",
              "      <td>1.000000</td>\n",
              "      <td>0.000000</td>\n",
              "      <td>1.000000</td>\n",
              "      <td>1.000000</td>\n",
              "      <td>1.000000</td>\n",
              "      <td>-0.251940</td>\n",
              "      <td>0.076230</td>\n",
              "    </tr>\n",
              "    <tr>\n",
              "      <th>max</th>\n",
              "      <td>93.000000</td>\n",
              "      <td>11.000000</td>\n",
              "      <td>2.000000</td>\n",
              "      <td>3.000000</td>\n",
              "      <td>1.000000</td>\n",
              "      <td>102127.000000</td>\n",
              "      <td>1.000000</td>\n",
              "      <td>1.000000</td>\n",
              "      <td>2.000000</td>\n",
              "      <td>31.000000</td>\n",
              "      <td>11.000000</td>\n",
              "      <td>3785.000000</td>\n",
              "      <td>63.000000</td>\n",
              "      <td>854.000000</td>\n",
              "      <td>275.00000</td>\n",
              "      <td>3.000000</td>\n",
              "      <td>1.000000</td>\n",
              "      <td>1.0</td>\n",
              "      <td>1.000000</td>\n",
              "      <td>1.000000</td>\n",
              "      <td>1.000000</td>\n",
              "      <td>3.000000</td>\n",
              "      <td>1.000000</td>\n",
              "      <td>1.000000</td>\n",
              "      <td>119.135982</td>\n",
              "      <td>19.443647</td>\n",
              "    </tr>\n",
              "  </tbody>\n",
              "</table>\n",
              "</div>"
            ],
            "text/plain": [
              "               age          job  ...  previous_norm  campaign_norm\n",
              "count  9042.000000  9042.000000  ...    9042.000000    9042.000000\n",
              "mean     40.841075     4.359213  ...       0.017559      -0.000130\n",
              "std      10.550664     3.261105  ...       1.495757       0.994892\n",
              "min      18.000000     0.000000  ...      -0.251940      -0.569351\n",
              "25%      33.000000     1.000000  ...      -0.251940      -0.569351\n",
              "50%      39.000000     4.000000  ...      -0.251940      -0.246560\n",
              "75%      48.000000     7.000000  ...      -0.251940       0.076230\n",
              "max      93.000000    11.000000  ...     119.135982      19.443647\n",
              "\n",
              "[8 rows x 26 columns]"
            ]
          },
          "metadata": {
            "tags": []
          },
          "execution_count": 559
        }
      ]
    },
    {
      "cell_type": "code",
      "metadata": {
        "id": "MXiRPE5ej5x-",
        "colab": {
          "base_uri": "https://localhost:8080/"
        },
        "outputId": "ef6e4569-e3a6-47c3-ff73-925976756fdf"
      },
      "source": [
        "bank_pd_tst.shape\n",
        "print(bank_pd_tst.describe)"
      ],
      "execution_count": null,
      "outputs": [
        {
          "output_type": "stream",
          "text": [
            "<bound method NDFrame.describe of        age  job  marital  ...  Savings  previous_norm  campaign_norm\n",
            "6       28    4        2  ...        0      -0.251940      -0.569351\n",
            "13      58    9        1  ...        0      -0.251940      -0.569351\n",
            "24      40    5        1  ...        0      -0.251940      -0.569351\n",
            "27      52    2        1  ...        0      -0.251940      -0.569351\n",
            "32      60    0        1  ...        0      -0.251940      -0.569351\n",
            "...    ...  ...      ...  ...      ...            ...            ...\n",
            "45182   34    9        1  ...        0       1.918749      -0.246560\n",
            "45190   32    1        1  ...        0       1.050473      -0.569351\n",
            "45192   29    4        2  ...        0      -0.251940      -0.569351\n",
            "45196   25    8        2  ...        0      -0.251940      -0.569351\n",
            "45202   34    0        2  ...        0      -0.251940      -0.569351\n",
            "\n",
            "[9042 rows x 28 columns]>\n"
          ],
          "name": "stdout"
        }
      ]
    },
    {
      "cell_type": "markdown",
      "source": [],
      "metadata": {
        "id": "791wBISLte7i"
      }
    },
    {
      "cell_type": "code",
      "metadata": {
        "colab": {
          "base_uri": "https://localhost:8080/",
          "height": 315
        },
        "id": "2soEvznQqtMo",
        "outputId": "60a660b1-a150-481a-c5c9-8ba3a260dbef"
      },
      "source": [
        "bank_pd_trn.describe()"
      ],
      "execution_count": null,
      "outputs": [
        {
          "output_type": "execute_result",
          "data": {
            "text/html": [
              "<div>\n",
              "<style scoped>\n",
              "    .dataframe tbody tr th:only-of-type {\n",
              "        vertical-align: middle;\n",
              "    }\n",
              "\n",
              "    .dataframe tbody tr th {\n",
              "        vertical-align: top;\n",
              "    }\n",
              "\n",
              "    .dataframe thead th {\n",
              "        text-align: right;\n",
              "    }\n",
              "</style>\n",
              "<table border=\"1\" class=\"dataframe\">\n",
              "  <thead>\n",
              "    <tr style=\"text-align: right;\">\n",
              "      <th></th>\n",
              "      <th>age</th>\n",
              "      <th>job</th>\n",
              "      <th>marital</th>\n",
              "      <th>education</th>\n",
              "      <th>default</th>\n",
              "      <th>balance</th>\n",
              "      <th>housing</th>\n",
              "      <th>loan</th>\n",
              "      <th>contact</th>\n",
              "      <th>day</th>\n",
              "      <th>month</th>\n",
              "      <th>duration</th>\n",
              "      <th>campaign</th>\n",
              "      <th>pdays</th>\n",
              "      <th>previous</th>\n",
              "      <th>poutcome</th>\n",
              "      <th>y</th>\n",
              "      <th>count</th>\n",
              "      <th>y1</th>\n",
              "      <th>CollegeEducation</th>\n",
              "      <th>OnTimePayer</th>\n",
              "      <th>Age</th>\n",
              "      <th>Married2</th>\n",
              "      <th>Savings</th>\n",
              "      <th>previous_norm</th>\n",
              "      <th>campaign_norm</th>\n",
              "    </tr>\n",
              "  </thead>\n",
              "  <tbody>\n",
              "    <tr>\n",
              "      <th>count</th>\n",
              "      <td>36169.000000</td>\n",
              "      <td>36169.000000</td>\n",
              "      <td>36169.000000</td>\n",
              "      <td>36169.000000</td>\n",
              "      <td>36169.000000</td>\n",
              "      <td>36169.000000</td>\n",
              "      <td>36169.000000</td>\n",
              "      <td>36169.000000</td>\n",
              "      <td>36169.000000</td>\n",
              "      <td>36169.000000</td>\n",
              "      <td>36169.000000</td>\n",
              "      <td>36169.000000</td>\n",
              "      <td>36169.000000</td>\n",
              "      <td>36169.000000</td>\n",
              "      <td>36169.000000</td>\n",
              "      <td>36169.000000</td>\n",
              "      <td>36169.000000</td>\n",
              "      <td>36169.0</td>\n",
              "      <td>36169.000000</td>\n",
              "      <td>36169.000000</td>\n",
              "      <td>36169.000000</td>\n",
              "      <td>36169.000000</td>\n",
              "      <td>36169.000000</td>\n",
              "      <td>36169.000000</td>\n",
              "      <td>36169.000000</td>\n",
              "      <td>36169.000000</td>\n",
              "    </tr>\n",
              "    <tr>\n",
              "      <th>mean</th>\n",
              "      <td>40.959993</td>\n",
              "      <td>4.334900</td>\n",
              "      <td>1.166247</td>\n",
              "      <td>1.222290</td>\n",
              "      <td>0.017722</td>\n",
              "      <td>1360.452874</td>\n",
              "      <td>0.555890</td>\n",
              "      <td>0.161437</td>\n",
              "      <td>0.640051</td>\n",
              "      <td>15.764024</td>\n",
              "      <td>5.525837</td>\n",
              "      <td>258.214659</td>\n",
              "      <td>2.763941</td>\n",
              "      <td>39.886339</td>\n",
              "      <td>0.570212</td>\n",
              "      <td>2.562637</td>\n",
              "      <td>0.117697</td>\n",
              "      <td>1.0</td>\n",
              "      <td>0.117697</td>\n",
              "      <td>0.291603</td>\n",
              "      <td>0.017722</td>\n",
              "      <td>1.127623</td>\n",
              "      <td>0.604108</td>\n",
              "      <td>0.323786</td>\n",
              "      <td>-0.004390</td>\n",
              "      <td>0.000033</td>\n",
              "    </tr>\n",
              "    <tr>\n",
              "      <th>std</th>\n",
              "      <td>10.635730</td>\n",
              "      <td>3.275565</td>\n",
              "      <td>0.606847</td>\n",
              "      <td>0.747235</td>\n",
              "      <td>0.131942</td>\n",
              "      <td>3048.800123</td>\n",
              "      <td>0.496873</td>\n",
              "      <td>0.367938</td>\n",
              "      <td>0.897612</td>\n",
              "      <td>8.310961</td>\n",
              "      <td>3.008660</td>\n",
              "      <td>257.998088</td>\n",
              "      <td>3.102015</td>\n",
              "      <td>99.593701</td>\n",
              "      <td>1.914291</td>\n",
              "      <td>0.986392</td>\n",
              "      <td>0.322254</td>\n",
              "      <td>0.0</td>\n",
              "      <td>0.322254</td>\n",
              "      <td>0.454507</td>\n",
              "      <td>0.131942</td>\n",
              "      <td>0.617899</td>\n",
              "      <td>0.489048</td>\n",
              "      <td>0.467926</td>\n",
              "      <td>0.831066</td>\n",
              "      <td>1.001300</td>\n",
              "    </tr>\n",
              "    <tr>\n",
              "      <th>min</th>\n",
              "      <td>18.000000</td>\n",
              "      <td>0.000000</td>\n",
              "      <td>0.000000</td>\n",
              "      <td>0.000000</td>\n",
              "      <td>0.000000</td>\n",
              "      <td>-8019.000000</td>\n",
              "      <td>0.000000</td>\n",
              "      <td>0.000000</td>\n",
              "      <td>0.000000</td>\n",
              "      <td>1.000000</td>\n",
              "      <td>0.000000</td>\n",
              "      <td>0.000000</td>\n",
              "      <td>1.000000</td>\n",
              "      <td>-1.000000</td>\n",
              "      <td>0.000000</td>\n",
              "      <td>0.000000</td>\n",
              "      <td>0.000000</td>\n",
              "      <td>1.0</td>\n",
              "      <td>0.000000</td>\n",
              "      <td>0.000000</td>\n",
              "      <td>0.000000</td>\n",
              "      <td>0.000000</td>\n",
              "      <td>0.000000</td>\n",
              "      <td>0.000000</td>\n",
              "      <td>-0.251940</td>\n",
              "      <td>-0.569351</td>\n",
              "    </tr>\n",
              "    <tr>\n",
              "      <th>25%</th>\n",
              "      <td>33.000000</td>\n",
              "      <td>1.000000</td>\n",
              "      <td>1.000000</td>\n",
              "      <td>1.000000</td>\n",
              "      <td>0.000000</td>\n",
              "      <td>73.000000</td>\n",
              "      <td>0.000000</td>\n",
              "      <td>0.000000</td>\n",
              "      <td>0.000000</td>\n",
              "      <td>8.000000</td>\n",
              "      <td>3.000000</td>\n",
              "      <td>103.000000</td>\n",
              "      <td>1.000000</td>\n",
              "      <td>-1.000000</td>\n",
              "      <td>0.000000</td>\n",
              "      <td>3.000000</td>\n",
              "      <td>0.000000</td>\n",
              "      <td>1.0</td>\n",
              "      <td>0.000000</td>\n",
              "      <td>0.000000</td>\n",
              "      <td>0.000000</td>\n",
              "      <td>1.000000</td>\n",
              "      <td>0.000000</td>\n",
              "      <td>0.000000</td>\n",
              "      <td>-0.251940</td>\n",
              "      <td>-0.569351</td>\n",
              "    </tr>\n",
              "    <tr>\n",
              "      <th>50%</th>\n",
              "      <td>39.000000</td>\n",
              "      <td>4.000000</td>\n",
              "      <td>1.000000</td>\n",
              "      <td>1.000000</td>\n",
              "      <td>0.000000</td>\n",
              "      <td>447.000000</td>\n",
              "      <td>1.000000</td>\n",
              "      <td>0.000000</td>\n",
              "      <td>0.000000</td>\n",
              "      <td>16.000000</td>\n",
              "      <td>6.000000</td>\n",
              "      <td>180.000000</td>\n",
              "      <td>2.000000</td>\n",
              "      <td>-1.000000</td>\n",
              "      <td>0.000000</td>\n",
              "      <td>3.000000</td>\n",
              "      <td>0.000000</td>\n",
              "      <td>1.0</td>\n",
              "      <td>0.000000</td>\n",
              "      <td>0.000000</td>\n",
              "      <td>0.000000</td>\n",
              "      <td>1.000000</td>\n",
              "      <td>1.000000</td>\n",
              "      <td>0.000000</td>\n",
              "      <td>-0.251940</td>\n",
              "      <td>-0.246560</td>\n",
              "    </tr>\n",
              "    <tr>\n",
              "      <th>75%</th>\n",
              "      <td>48.000000</td>\n",
              "      <td>7.000000</td>\n",
              "      <td>2.000000</td>\n",
              "      <td>2.000000</td>\n",
              "      <td>0.000000</td>\n",
              "      <td>1430.000000</td>\n",
              "      <td>1.000000</td>\n",
              "      <td>0.000000</td>\n",
              "      <td>2.000000</td>\n",
              "      <td>21.000000</td>\n",
              "      <td>8.000000</td>\n",
              "      <td>319.000000</td>\n",
              "      <td>3.000000</td>\n",
              "      <td>-1.000000</td>\n",
              "      <td>0.000000</td>\n",
              "      <td>3.000000</td>\n",
              "      <td>0.000000</td>\n",
              "      <td>1.0</td>\n",
              "      <td>0.000000</td>\n",
              "      <td>1.000000</td>\n",
              "      <td>0.000000</td>\n",
              "      <td>1.000000</td>\n",
              "      <td>1.000000</td>\n",
              "      <td>1.000000</td>\n",
              "      <td>-0.251940</td>\n",
              "      <td>0.076230</td>\n",
              "    </tr>\n",
              "    <tr>\n",
              "      <th>max</th>\n",
              "      <td>95.000000</td>\n",
              "      <td>11.000000</td>\n",
              "      <td>2.000000</td>\n",
              "      <td>3.000000</td>\n",
              "      <td>1.000000</td>\n",
              "      <td>98417.000000</td>\n",
              "      <td>1.000000</td>\n",
              "      <td>1.000000</td>\n",
              "      <td>2.000000</td>\n",
              "      <td>31.000000</td>\n",
              "      <td>11.000000</td>\n",
              "      <td>4918.000000</td>\n",
              "      <td>58.000000</td>\n",
              "      <td>871.000000</td>\n",
              "      <td>58.000000</td>\n",
              "      <td>3.000000</td>\n",
              "      <td>1.000000</td>\n",
              "      <td>1.0</td>\n",
              "      <td>1.000000</td>\n",
              "      <td>1.000000</td>\n",
              "      <td>1.000000</td>\n",
              "      <td>3.000000</td>\n",
              "      <td>1.000000</td>\n",
              "      <td>1.000000</td>\n",
              "      <td>24.928058</td>\n",
              "      <td>17.829696</td>\n",
              "    </tr>\n",
              "  </tbody>\n",
              "</table>\n",
              "</div>"
            ],
            "text/plain": [
              "                age           job  ...  previous_norm  campaign_norm\n",
              "count  36169.000000  36169.000000  ...   36169.000000   36169.000000\n",
              "mean      40.959993      4.334900  ...      -0.004390       0.000033\n",
              "std       10.635730      3.275565  ...       0.831066       1.001300\n",
              "min       18.000000      0.000000  ...      -0.251940      -0.569351\n",
              "25%       33.000000      1.000000  ...      -0.251940      -0.569351\n",
              "50%       39.000000      4.000000  ...      -0.251940      -0.246560\n",
              "75%       48.000000      7.000000  ...      -0.251940       0.076230\n",
              "max       95.000000     11.000000  ...      24.928058      17.829696\n",
              "\n",
              "[8 rows x 26 columns]"
            ]
          },
          "metadata": {
            "tags": []
          },
          "execution_count": 561
        }
      ]
    },
    {
      "cell_type": "code",
      "metadata": {
        "id": "f1tHZn2QQfcJ"
      },
      "source": [
        "#Put your predictors here, separated by commas. Each predictor needs to be enclosed in single quotes\n",
        "## # line 63 in HWK1\n",
        "trn = bank_pd_trn.loc[:,[ 'y', 'Married2', 'OnTimePayer', 'Age', 'Savings', 'CollegeEducation', 'poutcome']]\n",
        "tst = bank_pd_tst.loc[:,[ 'y', 'Married2', 'OnTimePayer', 'Age', 'Savings', 'CollegeEducation', 'poutcome']]"
      ],
      "execution_count": null,
      "outputs": []
    },
    {
      "cell_type": "code",
      "metadata": {
        "id": "XsJRB81cos4f",
        "colab": {
          "base_uri": "https://localhost:8080/"
        },
        "outputId": "810905a0-0bc4-4285-90b1-e3825bafbcd1"
      },
      "source": [
        "#Load data into h2o\n",
        "trn_h = h2o.H2OFrame(trn)\n",
        "tst_h = h2o.H2OFrame(tst)\n",
        "\n",
        "x = trn_h.columns\n",
        "y = \"y\"\n",
        "x.remove(y)"
      ],
      "execution_count": null,
      "outputs": [
        {
          "output_type": "stream",
          "text": [
            "Parse progress: |█████████████████████████████████████████████████████████| 100%\n",
            "Parse progress: |█████████████████████████████████████████████████████████| 100%\n"
          ],
          "name": "stdout"
        }
      ]
    },
    {
      "cell_type": "markdown",
      "metadata": {
        "id": "HgslC9q3aGWQ"
      },
      "source": [
        "#### 6. Response variable MUST be a factor variable\n",
        "##### > PCA helps identifies variables with predictor-set variation without\n",
        "##### > regard to any further understanding of the predictors\n",
        "##### >  (i.e., measurement scales or distributions) or  important \n",
        "##### > relationships within dataset and model.  As a result, it is important \n",
        "##### > for an analyst to know this about PCA, in order to avoid the\n",
        "##### > characteristics of the data to be modeled in a way that is irrelevant\n",
        "##### >to the underlying structure.\n",
        "\n",
        "##### > Also, PCA does not consider the modeling objective or response variable\n",
        "##### > when summarizing variability.It is blind or unsuperivised technique.\n",
        "##### > As a result the predictive relationship between the predictors and the\n",
        "##### > response is not connected to the predictors’ variability.  Then the\n",
        "##### > derived PCs will not provide a suitable relationship for the analysis. \n",
        "##### > (Kuhn 2018 p. 37)\n",
        "\n",
        "##### > Factor variables are not binary. Factor variables are used because\n",
        "##### > binary variables are treated as numerical data and the model will \n",
        "##### > estimate the probability density function  Pr[X] from a continuous \n",
        "##### > distribution, like Gaussian.\n"
      ]
    },
    {
      "cell_type": "code",
      "metadata": {
        "id": "V0JWqB2Ioz0P"
      },
      "source": [],
      "execution_count": null,
      "outputs": []
    },
    {
      "cell_type": "markdown",
      "metadata": {
        "id": "q2LCZVYCVX5y"
      },
      "source": [
        "# More Questions"
      ]
    },
    {
      "cell_type": "markdown",
      "metadata": {
        "id": "o5ezkqXZp50M"
      },
      "source": [
        "##### 1. What are tuning parameters?\n"
      ]
    },
    {
      "cell_type": "code",
      "metadata": {
        "id": "XRXxW733BsPr"
      },
      "source": [
        "## Tuning is a way of optimizing your model. After an analyst splits the data \n",
        "## ## into test and train datasets, there is phase of setup where you make sure\n",
        "## ##  data is random, as well as balanced data and that the analyst calibrate \n",
        "## ##  the model with a baseline performance.\n",
        "\n",
        "## ## Then the analyst will seek to tune the model.\n",
        "## ## The tuning is conducted in the modeling phase, where the analyst applies\n",
        "## ## algorithms to determine beneficial relationships in the data.\n",
        "## ## The goal in this modeling phase is the make sure the model outperforms\n",
        "## ## the baseline models. The tuning part is the identifing algorithms that\n",
        "## ## optimize the model's performance. This is necessary because an analyst \n",
        "## ## cannot estimate the important parameters of the model just from the data.\n",
        "## ## A tuning parameter is used because an analyst needs to control \n",
        "## ## the complexity of the model and avoid poor value choices and\n",
        "## ##  reduce overfitting. \n",
        "## ## According to Kuhn et.al (2016, p 65) there are different approaches to\n",
        "## ## searching for the best parameters. A general approach that can be\n",
        "## ## applied to almost any model is to define a set of candidate values,\n",
        "## ## generate reliable estimates of model utility across the candidates values,\n",
        "## ## then choose the optimal settings. A flowchart of this process is shown in\n",
        "## ## class.\n",
        "\n",
        "## ## The model tuning seeks to identify realistic predictive performance\n",
        "## ##  in an iterative process. For example, if the analyst uses neural\n",
        "## ##  networks are there hidden layers accounted for. They also set parameters\n",
        "## ##  on how long the data can run with output on the predictions, AUC and ROCR.\n",
        "\n",
        "## ## In this class, students have been introduced to the use on the training\n",
        "## ## sets of data on models with  H20,\n",
        "## ##  like Naive Bayes using H20, Random Forests, Neural Nets and others.\n",
        "## ## Another approach is resampling. \n",
        "## ## Khan (2016) cites that k-fold cross-validation can be effective\n",
        "## ## in increasing the precision of the estimates of the model.\n",
        "## ## Generalized Cross-Validation, Repeated Training/Test Splits \n",
        "## ## (also known \"leave-group-out cross validation\" or\n",
        "## ## \"Monte Carlo cross-validation\" are used.  Also, there is the Bootstrap,\n",
        "## ## in which a random sample of the data taken with replacement that i\n",
        "## ## same size as the original data set.\n"
      ],
      "execution_count": null,
      "outputs": []
    },
    {
      "cell_type": "markdown",
      "metadata": {
        "id": "zBM37Xyy9994"
      },
      "source": [
        "## 2. How do they impact the prediction outcomes of the model?\n",
        "\n"
      ]
    },
    {
      "cell_type": "code",
      "metadata": {
        "id": "bVA-Rm5_C2j0"
      },
      "source": [
        "# Tuning parameters when use properly enable the model to flex to find the \n",
        "## ## structure in the data.\n",
        "## ## The analyst must identify settings for the model’s parameters that\n",
        "## ## yield the best and most realistic predictive performance.  \n",
        "## ## Traditionally, the data is split into train and test datasets. \n",
        "## ## The train dataset is used to tune the model. \n",
        "## ## The test dataset is used to estimate the model's predictive performance.\n",
        "\n",
        "## ## Modern analytic approaches still split the data, but use multiple training\n",
        "## ## datasets and multiple test datasets to provide a more accurate representation\n",
        "## ## of the model's predictive performance. This is approach helps to prevent\n",
        "## ## overfitting. \n",
        "## ##  \n",
        "## ## Emphasis in this class is the need for “a lot” of data to create a\n",
        "## ## model that makes accurate or close to accurate predictions.\n",
        "## ## In the modeling phase it is important to  identify or at\n",
        "## ## least understand that underlying algorithms can make predictions,\n",
        "## ##  assess the error of those predictions, and then \n",
        "## ## adjust to improve the prediction. This is done automatically and must be \n",
        "## ## iterative\n",
        "## ## b. The more data that is fed into the model, the more accurately\n",
        "## ## the model will predict.\n",
        "## ## "
      ],
      "execution_count": null,
      "outputs": []
    },
    {
      "cell_type": "markdown",
      "metadata": {
        "id": "F7XhwUG_-BGh"
      },
      "source": [
        "## 3. What is grid search and why is it advantageous to use? \n",
        "\n"
      ]
    },
    {
      "cell_type": "code",
      "metadata": {
        "id": "OBFFBGi8hjVH"
      },
      "source": [
        "# Grid Search\n",
        "## ## Apparently, a grid search provides an analyst all the possible \n",
        "## ## parameters and intersection of parameters that are modeled.  \n",
        "## ## According to TowardDataScience.com blog post, a model has external\n",
        "## ## characteristics that cannot be estimated from the data. \n",
        "## ## It is referred to as the hyperparameter and to be a good, thorough analyst,\n",
        "## ## it important to set the hyperparameter before the machine learning is run. \n",
        "## ## These include, but are not limited to c in Support Vector Machines, and\n",
        "## ## k in k-Nearest Neighbors, the number of hidden layers in Neural Networks. \n",
        "\n",
        "## ## In Rohan Joseph’s (2018) article, a grid-search can be used to find \n",
        "## ## the optimal hyperparameters of a model which results in the most ‘accurate’\n",
        "## ##  predictions.\n",
        "\n",
        "## ## In a recent lecture by Professor Guinta, a grid search is advantageous\n",
        "## ## because all possible parameters and intersection of parameters are\n",
        "## ## modeled. The disadvantage is that it takes an extremely long time to \n",
        "## ## complete a ‘grid search’, which is nearly impossible.(\"you will have\n",
        "## ## grandchildren\")\n",
        "## ## There is a random grid seach alternative. A random grid search can be\n",
        "## ## effective and will lead to a set of tuning parameters that provide\n",
        "## ## an “average” of the best prediction. \n",
        "## ## The disadvantage to random grid seach is complete lack of control\n",
        "## ## of which parameters are modeled, because it is random.  \n",
        "## ## This may lead to instability of the model when parameters are in conflict.\n",
        "\n",
        "## ## Rohan Joseph’s article:  Grid Search for model tuning\n",
        "## ## https://towardsdatascience.com/grid-search-for-model-tuning-3319b259367e\n"
      ],
      "execution_count": null,
      "outputs": []
    },
    {
      "cell_type": "markdown",
      "metadata": {
        "id": "2WMN8MNU-Dcx"
      },
      "source": [
        "### 4. If you choose to, please adjust the below parameters to your choosing. \n",
        "###  Next to each parameter you can add additional options for the grid to\n",
        "### search on.  Please review the documentation on h2o before doing so. \n",
        "\n",
        "### For example, 'ntrees':[10,50,100,1000],"
      ]
    },
    {
      "cell_type": "code",
      "metadata": {
        "id": "OOsy61phxaBj"
      },
      "source": [
        "#B. Tuning Parameters   Original code from professor  keep\n",
        "# Random Forest hyperparameters\n",
        "# hyper_params_rf = {'ntrees': [100],\n",
        "#                   'max_depth': [20],\n",
        "#                   'min_rows': [5],\n",
        "#                   'sample_rate': [.95,1],\n",
        "#                   'col_sample_rate_per_tree': [.9,1],\n",
        "#                   'nbins': [2,5],\n",
        "#                   'mtries': [-1,-2,1,2,5,10],\n",
        "#                   'nbins_cats': [64, 128, 256, 512]\n",
        "#                    }\n",
        "\n",
        "# hyper_params_glm = {\n",
        "#     'alpha': [0]\n",
        "# }                   \n",
        "\n",
        "#Do not adjust this\n",
        "# search_criteria = {'strategy': 'RandomDiscrete', 'max_models': 5, 'seed': 1}"
      ],
      "execution_count": null,
      "outputs": []
    },
    {
      "cell_type": "code",
      "metadata": {
        "id": "jkPYGXpDo1qM"
      },
      "source": [
        "#B. Tuning Parameters\n",
        "# Random Forest hyperparameters\n",
        "hyper_params_rf = {'ntrees': [10, 25, 50, 75, 100],\n",
        "                  'max_depth': [20],\n",
        "                  'min_rows': [5],\n",
        "                  'sample_rate': [.95,1],\n",
        "                  'col_sample_rate_per_tree': [.9,1],\n",
        "                  'nbins': [2,5],\n",
        "                  'mtries': [-1,-2,1,2,5,10],\n",
        "                  'nbins_cats': [64, 128, 256, 512]\n",
        "                   }\n",
        "\n",
        "hyper_params_glm = {\n",
        "    'alpha': [0]\n",
        "}                   \n",
        "\n",
        "#Do not adjust this\n",
        "search_criteria = {'strategy': 'RandomDiscrete', 'max_models': 5, 'seed': 1}"
      ],
      "execution_count": null,
      "outputs": []
    },
    {
      "cell_type": "markdown",
      "metadata": {
        "id": "xdw5n6IwYSZB"
      },
      "source": [
        "1. ##5 Explain what features you are using and why?"
      ]
    },
    {
      "cell_type": "code",
      "metadata": {
        "id": "us-ZxBnmYodR"
      },
      "source": [
        "## The variables I am running in my model meet the requirements of not being too\n",
        "### highly correlated, but have a relationship to the desireable \n",
        "### outcomes of potential bank customers.\n",
        "### 1. Distinguished those who are college educated from customers, who are not \n",
        "### reported as college educated.\n",
        "### 2. Distinguish those in different age ranges. Approached the ages different\n",
        "###  than last go around with this data.\n",
        "### Those in the lower age range and the higher age range indicated a likelihood \n",
        "###  say yes to bank account offer. \n",
        "### 3. Distinguished the category of default as folks who are or have defaulted on \n",
        "### payments and those who have not defaulted in a new category, \"OnTimePayers.\"\n",
        "### 4. Distinguish those who are married into \"Married\" and \"Not Married\" status.  \n",
        "###  Married people make decisions together, typically. Not married people \n",
        "###  would seem to be able to make a decision without seeking the advice of another.  "
      ],
      "execution_count": null,
      "outputs": []
    },
    {
      "cell_type": "markdown",
      "metadata": {
        "id": "ys4uyikjyC6Y"
      },
      "source": [
        "2. Explain the new features you developed.  Why do you think they are important?"
      ]
    },
    {
      "cell_type": "code",
      "metadata": {
        "id": "Vrdx4kPOsClV"
      },
      "source": [
        "## 2\n",
        "## 1. ##  College folks would seem to have a higher earning potential and \n",
        "## more likely to have interest in the bank offering. Yet, the correlation from\n",
        "## previous calls they were not likely to say yes.  This might because they are \n",
        "## more educated and likely to be skeptical to an offer coming from a phone \n",
        "## call.  Either way, this group could be eliminated from the \"calling\" \n",
        "## campaign and the target could be narrowed down to others in the dataset, \n",
        "## who might be likely so say 'yes.'\n",
        "\n",
        "## 2 Distinguish those in different age ranges, because this variable showed \n",
        "## high rate of yes, at younger ages and older ages. Age by itself is not that\n",
        "## significant, but I thought from preliminary outcome this variable and other \n",
        "## variables together may be able to identify a successful target for saying\n",
        "##   \"yes.\"\n",
        "\n",
        "##  3. Distinguished the category of \"default\" as those who have defaulted on \n",
        "### payments and those who have not defaulted in a new category, \"OnTimePayers.\"\n",
        "##  This allow me to consider a directly tied financial variable to the model, \n",
        "## which I yet to add.  Financial responsibility is not determine by a one time\n",
        "## default.  In this model, it provide a variable that could be run with another \n",
        "## to determine if it could be a better predictor. \n",
        "\n",
        "##  4. Distinguish  married category into \"Married\" and \"Not Married\" status, a\n",
        "## binary variable by combining variables to create just 2 categories.  Everyone \n",
        "## not married by status of single, divorced, were not married, while the rest \n",
        "## categorized as married.  \n",
        "###  As mentioned, married people make decisions together, typically. \n",
        "##  While not married people \n",
        "## would seem to be able to make a decision without seeking the advice of another\n"
      ],
      "execution_count": null,
      "outputs": []
    },
    {
      "cell_type": "markdown",
      "metadata": {
        "id": "TQyEJOSVqzlp"
      },
      "source": [
        "# Prepare Random Forest"
      ]
    },
    {
      "cell_type": "code",
      "metadata": {
        "id": "O5M_LGZMo9lP",
        "colab": {
          "base_uri": "https://localhost:8080/"
        },
        "outputId": "4d0f3e04-68ef-4fc6-8b84-3699b55e3e4f"
      },
      "source": [
        "#C. Train Random Forest\n",
        "from h2o.estimators import H2ORandomForestEstimator\n",
        "from h2o.grid.grid_search import H2OGridSearch\n",
        "\n",
        "rf_grid1 = H2OGridSearch(model=H2ORandomForestEstimator,\n",
        "                          grid_id='rf_grid1',\n",
        "                          hyper_params=hyper_params_rf,\n",
        "                          search_criteria=search_criteria\n",
        "                         )\n",
        "rf_grid1.train(x=x, y=y,\n",
        "                training_frame=trn_h,\n",
        "                stopping_metric = \"misclassification\", stopping_tolerance = 1e-3, \n",
        "\t\t\t\t\t\t\t  stopping_rounds = 3,\n",
        "\t\t\t\t\t\t\t  nfolds = 5, fold_assignment = \"Modulo\", \n",
        "\t\t\t\t\t\t\t  distribution = \"AUTO\",\n",
        "                balance_classes = True,\n",
        "\t\t\t\t\t\t\t  keep_cross_validation_predictions = True,\n",
        "                seed=1\n",
        "               )\n",
        "# Get the grid results, sorted by validation error\n",
        "rf_gridperf1 = rf_grid1.get_grid(sort_by='err', decreasing=True)"
      ],
      "execution_count": null,
      "outputs": [
        {
          "output_type": "stream",
          "text": [
            "drf Grid Build progress: |████████████████████████████████████████████████| 100%\n"
          ],
          "name": "stdout"
        }
      ]
    },
    {
      "cell_type": "markdown",
      "metadata": {
        "id": "ol1qNxXL19cG"
      },
      "source": [
        "## Random Forest"
      ]
    },
    {
      "cell_type": "code",
      "metadata": {
        "id": "co54GLSsYxz-"
      },
      "source": [],
      "execution_count": null,
      "outputs": []
    },
    {
      "cell_type": "code",
      "metadata": {
        "id": "e_ARSR_cNm7d",
        "colab": {
          "base_uri": "https://localhost:8080/"
        },
        "outputId": "79884de7-821b-453e-e07c-04f356d619f3"
      },
      "source": [
        "#D. Evaluate\n",
        "best_rf1 = rf_gridperf1.models[0]\n",
        "\n",
        "#1. AUC\n",
        "best_rf_perf1 = best_rf1.model_performance(tst_h)\n",
        "best_rf_perf1.auc()\n"
      ],
      "execution_count": null,
      "outputs": [
        {
          "output_type": "execute_result",
          "data": {
            "text/plain": [
              "0.6937178817176204"
            ]
          },
          "metadata": {
            "tags": []
          },
          "execution_count": 570
        }
      ]
    },
    {
      "cell_type": "markdown",
      "metadata": {
        "id": "aqqIW0kt2Bq8"
      },
      "source": [
        "## Random Forest"
      ]
    },
    {
      "cell_type": "code",
      "metadata": {
        "id": "FpdlrBt4ODEN",
        "colab": {
          "base_uri": "https://localhost:8080/",
          "height": 1574
        },
        "outputId": "485acbba-3f55-4abb-c60f-d80435c69a03"
      },
      "source": [
        "#2. Confusion Matrix (Overall Performance metrics)\n",
        "best_rf_perf1"
      ],
      "execution_count": null,
      "outputs": [
        {
          "output_type": "stream",
          "text": [
            "\n",
            "ModelMetricsBinomial: drf\n",
            "** Reported on test data. **\n",
            "\n",
            "MSE: 0.09098712505385886\n",
            "RMSE: 0.3016407218096702\n",
            "LogLoss: 0.32019825465006396\n",
            "Mean Per-Class Error: 0.35839394071364283\n",
            "AUC: 0.6937178817176204\n",
            "AUCPR: 0.31132853417739687\n",
            "Gini: 0.3874357634352408\n",
            "\n",
            "Confusion Matrix (Act/Pred) for max f1 @ threshold = 0.1911444999339148: \n"
          ],
          "name": "stdout"
        },
        {
          "output_type": "display_data",
          "data": {
            "text/html": [
              "<div>\n",
              "<style scoped>\n",
              "    .dataframe tbody tr th:only-of-type {\n",
              "        vertical-align: middle;\n",
              "    }\n",
              "\n",
              "    .dataframe tbody tr th {\n",
              "        vertical-align: top;\n",
              "    }\n",
              "\n",
              "    .dataframe thead th {\n",
              "        text-align: right;\n",
              "    }\n",
              "</style>\n",
              "<table border=\"1\" class=\"dataframe\">\n",
              "  <thead>\n",
              "    <tr style=\"text-align: right;\">\n",
              "      <th></th>\n",
              "      <th></th>\n",
              "      <th>0</th>\n",
              "      <th>1</th>\n",
              "      <th>Error</th>\n",
              "      <th>Rate</th>\n",
              "    </tr>\n",
              "  </thead>\n",
              "  <tbody>\n",
              "    <tr>\n",
              "      <th>0</th>\n",
              "      <td>0</td>\n",
              "      <td>7587.0</td>\n",
              "      <td>423.0</td>\n",
              "      <td>0.0528</td>\n",
              "      <td>(423.0/8010.0)</td>\n",
              "    </tr>\n",
              "    <tr>\n",
              "      <th>1</th>\n",
              "      <td>1</td>\n",
              "      <td>721.0</td>\n",
              "      <td>311.0</td>\n",
              "      <td>0.6986</td>\n",
              "      <td>(721.0/1032.0)</td>\n",
              "    </tr>\n",
              "    <tr>\n",
              "      <th>2</th>\n",
              "      <td>Total</td>\n",
              "      <td>8308.0</td>\n",
              "      <td>734.0</td>\n",
              "      <td>0.1265</td>\n",
              "      <td>(1144.0/9042.0)</td>\n",
              "    </tr>\n",
              "  </tbody>\n",
              "</table>\n",
              "</div>"
            ],
            "text/plain": [
              "               0      1   Error              Rate\n",
              "0      0  7587.0  423.0  0.0528    (423.0/8010.0)\n",
              "1      1   721.0  311.0  0.6986    (721.0/1032.0)\n",
              "2  Total  8308.0  734.0  0.1265   (1144.0/9042.0)"
            ]
          },
          "metadata": {
            "tags": []
          }
        },
        {
          "output_type": "stream",
          "text": [
            "\n",
            "Maximum Metrics: Maximum metrics at their respective thresholds\n"
          ],
          "name": "stdout"
        },
        {
          "output_type": "display_data",
          "data": {
            "text/html": [
              "<div>\n",
              "<style scoped>\n",
              "    .dataframe tbody tr th:only-of-type {\n",
              "        vertical-align: middle;\n",
              "    }\n",
              "\n",
              "    .dataframe tbody tr th {\n",
              "        vertical-align: top;\n",
              "    }\n",
              "\n",
              "    .dataframe thead th {\n",
              "        text-align: right;\n",
              "    }\n",
              "</style>\n",
              "<table border=\"1\" class=\"dataframe\">\n",
              "  <thead>\n",
              "    <tr style=\"text-align: right;\">\n",
              "      <th></th>\n",
              "      <th>metric</th>\n",
              "      <th>threshold</th>\n",
              "      <th>value</th>\n",
              "      <th>idx</th>\n",
              "    </tr>\n",
              "  </thead>\n",
              "  <tbody>\n",
              "    <tr>\n",
              "      <th>0</th>\n",
              "      <td>max f1</td>\n",
              "      <td>0.191144</td>\n",
              "      <td>0.352208</td>\n",
              "      <td>59.0</td>\n",
              "    </tr>\n",
              "    <tr>\n",
              "      <th>1</th>\n",
              "      <td>max f2</td>\n",
              "      <td>0.081653</td>\n",
              "      <td>0.429506</td>\n",
              "      <td>105.0</td>\n",
              "    </tr>\n",
              "    <tr>\n",
              "      <th>2</th>\n",
              "      <td>max f0point5</td>\n",
              "      <td>0.270320</td>\n",
              "      <td>0.420153</td>\n",
              "      <td>46.0</td>\n",
              "    </tr>\n",
              "    <tr>\n",
              "      <th>3</th>\n",
              "      <td>max accuracy</td>\n",
              "      <td>0.458154</td>\n",
              "      <td>0.890290</td>\n",
              "      <td>20.0</td>\n",
              "    </tr>\n",
              "    <tr>\n",
              "      <th>4</th>\n",
              "      <td>max precision</td>\n",
              "      <td>0.704468</td>\n",
              "      <td>0.736842</td>\n",
              "      <td>0.0</td>\n",
              "    </tr>\n",
              "    <tr>\n",
              "      <th>5</th>\n",
              "      <td>max recall</td>\n",
              "      <td>0.025745</td>\n",
              "      <td>1.000000</td>\n",
              "      <td>126.0</td>\n",
              "    </tr>\n",
              "    <tr>\n",
              "      <th>6</th>\n",
              "      <td>max specificity</td>\n",
              "      <td>0.704468</td>\n",
              "      <td>0.999376</td>\n",
              "      <td>0.0</td>\n",
              "    </tr>\n",
              "    <tr>\n",
              "      <th>7</th>\n",
              "      <td>max absolute_mcc</td>\n",
              "      <td>0.270320</td>\n",
              "      <td>0.298850</td>\n",
              "      <td>46.0</td>\n",
              "    </tr>\n",
              "    <tr>\n",
              "      <th>8</th>\n",
              "      <td>max min_per_class_accuracy</td>\n",
              "      <td>0.102101</td>\n",
              "      <td>0.609863</td>\n",
              "      <td>97.0</td>\n",
              "    </tr>\n",
              "    <tr>\n",
              "      <th>9</th>\n",
              "      <td>max mean_per_class_accuracy</td>\n",
              "      <td>0.120776</td>\n",
              "      <td>0.641606</td>\n",
              "      <td>86.0</td>\n",
              "    </tr>\n",
              "    <tr>\n",
              "      <th>10</th>\n",
              "      <td>max tns</td>\n",
              "      <td>0.704468</td>\n",
              "      <td>8005.000000</td>\n",
              "      <td>0.0</td>\n",
              "    </tr>\n",
              "    <tr>\n",
              "      <th>11</th>\n",
              "      <td>max fns</td>\n",
              "      <td>0.704468</td>\n",
              "      <td>1018.000000</td>\n",
              "      <td>0.0</td>\n",
              "    </tr>\n",
              "    <tr>\n",
              "      <th>12</th>\n",
              "      <td>max fps</td>\n",
              "      <td>0.000000</td>\n",
              "      <td>8010.000000</td>\n",
              "      <td>132.0</td>\n",
              "    </tr>\n",
              "    <tr>\n",
              "      <th>13</th>\n",
              "      <td>max tps</td>\n",
              "      <td>0.025745</td>\n",
              "      <td>1032.000000</td>\n",
              "      <td>126.0</td>\n",
              "    </tr>\n",
              "    <tr>\n",
              "      <th>14</th>\n",
              "      <td>max tnr</td>\n",
              "      <td>0.704468</td>\n",
              "      <td>0.999376</td>\n",
              "      <td>0.0</td>\n",
              "    </tr>\n",
              "    <tr>\n",
              "      <th>15</th>\n",
              "      <td>max fnr</td>\n",
              "      <td>0.704468</td>\n",
              "      <td>0.986434</td>\n",
              "      <td>0.0</td>\n",
              "    </tr>\n",
              "    <tr>\n",
              "      <th>16</th>\n",
              "      <td>max fpr</td>\n",
              "      <td>0.000000</td>\n",
              "      <td>1.000000</td>\n",
              "      <td>132.0</td>\n",
              "    </tr>\n",
              "    <tr>\n",
              "      <th>17</th>\n",
              "      <td>max tpr</td>\n",
              "      <td>0.025745</td>\n",
              "      <td>1.000000</td>\n",
              "      <td>126.0</td>\n",
              "    </tr>\n",
              "  </tbody>\n",
              "</table>\n",
              "</div>"
            ],
            "text/plain": [
              "                         metric  threshold        value    idx\n",
              "0                        max f1   0.191144     0.352208   59.0\n",
              "1                        max f2   0.081653     0.429506  105.0\n",
              "2                  max f0point5   0.270320     0.420153   46.0\n",
              "3                  max accuracy   0.458154     0.890290   20.0\n",
              "4                 max precision   0.704468     0.736842    0.0\n",
              "5                    max recall   0.025745     1.000000  126.0\n",
              "6               max specificity   0.704468     0.999376    0.0\n",
              "7              max absolute_mcc   0.270320     0.298850   46.0\n",
              "8    max min_per_class_accuracy   0.102101     0.609863   97.0\n",
              "9   max mean_per_class_accuracy   0.120776     0.641606   86.0\n",
              "10                      max tns   0.704468  8005.000000    0.0\n",
              "11                      max fns   0.704468  1018.000000    0.0\n",
              "12                      max fps   0.000000  8010.000000  132.0\n",
              "13                      max tps   0.025745  1032.000000  126.0\n",
              "14                      max tnr   0.704468     0.999376    0.0\n",
              "15                      max fnr   0.704468     0.986434    0.0\n",
              "16                      max fpr   0.000000     1.000000  132.0\n",
              "17                      max tpr   0.025745     1.000000  126.0"
            ]
          },
          "metadata": {
            "tags": []
          }
        },
        {
          "output_type": "stream",
          "text": [
            "\n",
            "Gains/Lift Table: Avg response rate: 11.41 %, avg score: 11.49 %\n"
          ],
          "name": "stdout"
        },
        {
          "output_type": "display_data",
          "data": {
            "text/html": [
              "<div>\n",
              "<style scoped>\n",
              "    .dataframe tbody tr th:only-of-type {\n",
              "        vertical-align: middle;\n",
              "    }\n",
              "\n",
              "    .dataframe tbody tr th {\n",
              "        vertical-align: top;\n",
              "    }\n",
              "\n",
              "    .dataframe thead th {\n",
              "        text-align: right;\n",
              "    }\n",
              "</style>\n",
              "<table border=\"1\" class=\"dataframe\">\n",
              "  <thead>\n",
              "    <tr style=\"text-align: right;\">\n",
              "      <th></th>\n",
              "      <th>group</th>\n",
              "      <th>cumulative_data_fraction</th>\n",
              "      <th>lower_threshold</th>\n",
              "      <th>lift</th>\n",
              "      <th>cumulative_lift</th>\n",
              "      <th>response_rate</th>\n",
              "      <th>score</th>\n",
              "      <th>cumulative_response_rate</th>\n",
              "      <th>cumulative_score</th>\n",
              "      <th>capture_rate</th>\n",
              "      <th>cumulative_capture_rate</th>\n",
              "      <th>gain</th>\n",
              "      <th>cumulative_gain</th>\n",
              "      <th>kolmogorov_smirnov</th>\n",
              "    </tr>\n",
              "  </thead>\n",
              "  <tbody>\n",
              "    <tr>\n",
              "      <th>0</th>\n",
              "      <td>1</td>\n",
              "      <td>0.010175</td>\n",
              "      <td>0.605605</td>\n",
              "      <td>5.714105</td>\n",
              "      <td>5.714105</td>\n",
              "      <td>0.652174</td>\n",
              "      <td>0.646902</td>\n",
              "      <td>0.652174</td>\n",
              "      <td>0.646902</td>\n",
              "      <td>0.058140</td>\n",
              "      <td>0.058140</td>\n",
              "      <td>471.410516</td>\n",
              "      <td>471.410516</td>\n",
              "      <td>0.054145</td>\n",
              "    </tr>\n",
              "    <tr>\n",
              "      <th>1</th>\n",
              "      <td>2</td>\n",
              "      <td>0.020571</td>\n",
              "      <td>0.474299</td>\n",
              "      <td>4.846858</td>\n",
              "      <td>5.275819</td>\n",
              "      <td>0.553191</td>\n",
              "      <td>0.544330</td>\n",
              "      <td>0.602151</td>\n",
              "      <td>0.595064</td>\n",
              "      <td>0.050388</td>\n",
              "      <td>0.108527</td>\n",
              "      <td>384.685799</td>\n",
              "      <td>427.581895</td>\n",
              "      <td>0.099289</td>\n",
              "    </tr>\n",
              "    <tr>\n",
              "      <th>2</th>\n",
              "      <td>3</td>\n",
              "      <td>0.030856</td>\n",
              "      <td>0.399279</td>\n",
              "      <td>3.862653</td>\n",
              "      <td>4.804764</td>\n",
              "      <td>0.440860</td>\n",
              "      <td>0.435744</td>\n",
              "      <td>0.548387</td>\n",
              "      <td>0.541958</td>\n",
              "      <td>0.039729</td>\n",
              "      <td>0.148256</td>\n",
              "      <td>286.265316</td>\n",
              "      <td>380.476369</td>\n",
              "      <td>0.132525</td>\n",
              "    </tr>\n",
              "    <tr>\n",
              "      <th>3</th>\n",
              "      <td>4</td>\n",
              "      <td>0.040920</td>\n",
              "      <td>0.307973</td>\n",
              "      <td>3.851265</td>\n",
              "      <td>4.570255</td>\n",
              "      <td>0.439560</td>\n",
              "      <td>0.337097</td>\n",
              "      <td>0.521622</td>\n",
              "      <td>0.491573</td>\n",
              "      <td>0.038760</td>\n",
              "      <td>0.187016</td>\n",
              "      <td>285.126501</td>\n",
              "      <td>357.025456</td>\n",
              "      <td>0.164918</td>\n",
              "    </tr>\n",
              "    <tr>\n",
              "      <th>4</th>\n",
              "      <td>5</td>\n",
              "      <td>0.050210</td>\n",
              "      <td>0.277221</td>\n",
              "      <td>4.693729</td>\n",
              "      <td>4.593100</td>\n",
              "      <td>0.535714</td>\n",
              "      <td>0.286191</td>\n",
              "      <td>0.524229</td>\n",
              "      <td>0.453573</td>\n",
              "      <td>0.043605</td>\n",
              "      <td>0.230620</td>\n",
              "      <td>369.372924</td>\n",
              "      <td>359.310009</td>\n",
              "      <td>0.203654</td>\n",
              "    </tr>\n",
              "    <tr>\n",
              "      <th>5</th>\n",
              "      <td>6</td>\n",
              "      <td>0.111701</td>\n",
              "      <td>0.176314</td>\n",
              "      <td>1.749174</td>\n",
              "      <td>3.027533</td>\n",
              "      <td>0.199640</td>\n",
              "      <td>0.201688</td>\n",
              "      <td>0.345545</td>\n",
              "      <td>0.314911</td>\n",
              "      <td>0.107558</td>\n",
              "      <td>0.338178</td>\n",
              "      <td>74.917392</td>\n",
              "      <td>202.753281</td>\n",
              "      <td>0.255656</td>\n",
              "    </tr>\n",
              "    <tr>\n",
              "      <th>6</th>\n",
              "      <td>7</td>\n",
              "      <td>0.163238</td>\n",
              "      <td>0.157131</td>\n",
              "      <td>1.278521</td>\n",
              "      <td>2.475338</td>\n",
              "      <td>0.145923</td>\n",
              "      <td>0.161543</td>\n",
              "      <td>0.282520</td>\n",
              "      <td>0.266490</td>\n",
              "      <td>0.065891</td>\n",
              "      <td>0.404070</td>\n",
              "      <td>27.852081</td>\n",
              "      <td>147.533797</td>\n",
              "      <td>0.271860</td>\n",
              "    </tr>\n",
              "    <tr>\n",
              "      <th>7</th>\n",
              "      <td>8</td>\n",
              "      <td>0.202721</td>\n",
              "      <td>0.148168</td>\n",
              "      <td>1.202576</td>\n",
              "      <td>2.227452</td>\n",
              "      <td>0.137255</td>\n",
              "      <td>0.155479</td>\n",
              "      <td>0.254228</td>\n",
              "      <td>0.244869</td>\n",
              "      <td>0.047481</td>\n",
              "      <td>0.451550</td>\n",
              "      <td>20.257638</td>\n",
              "      <td>122.745150</td>\n",
              "      <td>0.280889</td>\n",
              "    </tr>\n",
              "    <tr>\n",
              "      <th>8</th>\n",
              "      <td>9</td>\n",
              "      <td>0.316191</td>\n",
              "      <td>0.112262</td>\n",
              "      <td>0.973514</td>\n",
              "      <td>1.777455</td>\n",
              "      <td>0.111111</td>\n",
              "      <td>0.120073</td>\n",
              "      <td>0.202868</td>\n",
              "      <td>0.200084</td>\n",
              "      <td>0.110465</td>\n",
              "      <td>0.562016</td>\n",
              "      <td>-2.648579</td>\n",
              "      <td>77.745512</td>\n",
              "      <td>0.277496</td>\n",
              "    </tr>\n",
              "    <tr>\n",
              "      <th>9</th>\n",
              "      <td>10</td>\n",
              "      <td>0.420482</td>\n",
              "      <td>0.102101</td>\n",
              "      <td>0.901249</td>\n",
              "      <td>1.560132</td>\n",
              "      <td>0.102863</td>\n",
              "      <td>0.102932</td>\n",
              "      <td>0.178064</td>\n",
              "      <td>0.175988</td>\n",
              "      <td>0.093992</td>\n",
              "      <td>0.656008</td>\n",
              "      <td>-9.875089</td>\n",
              "      <td>56.013206</td>\n",
              "      <td>0.265870</td>\n",
              "    </tr>\n",
              "    <tr>\n",
              "      <th>10</th>\n",
              "      <td>11</td>\n",
              "      <td>0.511502</td>\n",
              "      <td>0.092901</td>\n",
              "      <td>0.734571</td>\n",
              "      <td>1.413227</td>\n",
              "      <td>0.083840</td>\n",
              "      <td>0.096271</td>\n",
              "      <td>0.161297</td>\n",
              "      <td>0.161802</td>\n",
              "      <td>0.066860</td>\n",
              "      <td>0.722868</td>\n",
              "      <td>-26.542852</td>\n",
              "      <td>41.322690</td>\n",
              "      <td>0.238599</td>\n",
              "    </tr>\n",
              "    <tr>\n",
              "      <th>11</th>\n",
              "      <td>12</td>\n",
              "      <td>0.634705</td>\n",
              "      <td>0.081368</td>\n",
              "      <td>0.715716</td>\n",
              "      <td>1.277833</td>\n",
              "      <td>0.081688</td>\n",
              "      <td>0.082767</td>\n",
              "      <td>0.145844</td>\n",
              "      <td>0.146461</td>\n",
              "      <td>0.088178</td>\n",
              "      <td>0.811047</td>\n",
              "      <td>-28.428354</td>\n",
              "      <td>27.783282</td>\n",
              "      <td>0.199061</td>\n",
              "    </tr>\n",
              "    <tr>\n",
              "      <th>12</th>\n",
              "      <td>13</td>\n",
              "      <td>0.704490</td>\n",
              "      <td>0.072679</td>\n",
              "      <td>0.652609</td>\n",
              "      <td>1.215899</td>\n",
              "      <td>0.074485</td>\n",
              "      <td>0.076285</td>\n",
              "      <td>0.138776</td>\n",
              "      <td>0.139509</td>\n",
              "      <td>0.045543</td>\n",
              "      <td>0.856589</td>\n",
              "      <td>-34.739063</td>\n",
              "      <td>21.589938</td>\n",
              "      <td>0.171695</td>\n",
              "    </tr>\n",
              "    <tr>\n",
              "      <th>13</th>\n",
              "      <td>14</td>\n",
              "      <td>0.823712</td>\n",
              "      <td>0.063409</td>\n",
              "      <td>0.503916</td>\n",
              "      <td>1.112849</td>\n",
              "      <td>0.057514</td>\n",
              "      <td>0.066578</td>\n",
              "      <td>0.127014</td>\n",
              "      <td>0.128954</td>\n",
              "      <td>0.060078</td>\n",
              "      <td>0.916667</td>\n",
              "      <td>-49.608448</td>\n",
              "      <td>11.284909</td>\n",
              "      <td>0.104931</td>\n",
              "    </tr>\n",
              "    <tr>\n",
              "      <th>14</th>\n",
              "      <td>15</td>\n",
              "      <td>0.988388</td>\n",
              "      <td>0.050325</td>\n",
              "      <td>0.470739</td>\n",
              "      <td>1.005867</td>\n",
              "      <td>0.053727</td>\n",
              "      <td>0.050341</td>\n",
              "      <td>0.114804</td>\n",
              "      <td>0.115856</td>\n",
              "      <td>0.077519</td>\n",
              "      <td>0.994186</td>\n",
              "      <td>-52.926109</td>\n",
              "      <td>0.586665</td>\n",
              "      <td>0.006546</td>\n",
              "    </tr>\n",
              "    <tr>\n",
              "      <th>15</th>\n",
              "      <td>16</td>\n",
              "      <td>1.000000</td>\n",
              "      <td>0.000000</td>\n",
              "      <td>0.500664</td>\n",
              "      <td>1.000000</td>\n",
              "      <td>0.057143</td>\n",
              "      <td>0.030763</td>\n",
              "      <td>0.114134</td>\n",
              "      <td>0.114868</td>\n",
              "      <td>0.005814</td>\n",
              "      <td>1.000000</td>\n",
              "      <td>-49.933555</td>\n",
              "      <td>0.000000</td>\n",
              "      <td>0.000000</td>\n",
              "    </tr>\n",
              "  </tbody>\n",
              "</table>\n",
              "</div>"
            ],
            "text/plain": [
              "    group  cumulative_data_fraction  ...  cumulative_gain  kolmogorov_smirnov\n",
              "0       1                  0.010175  ...       471.410516            0.054145\n",
              "1       2                  0.020571  ...       427.581895            0.099289\n",
              "2       3                  0.030856  ...       380.476369            0.132525\n",
              "3       4                  0.040920  ...       357.025456            0.164918\n",
              "4       5                  0.050210  ...       359.310009            0.203654\n",
              "5       6                  0.111701  ...       202.753281            0.255656\n",
              "6       7                  0.163238  ...       147.533797            0.271860\n",
              "7       8                  0.202721  ...       122.745150            0.280889\n",
              "8       9                  0.316191  ...        77.745512            0.277496\n",
              "9      10                  0.420482  ...        56.013206            0.265870\n",
              "10     11                  0.511502  ...        41.322690            0.238599\n",
              "11     12                  0.634705  ...        27.783282            0.199061\n",
              "12     13                  0.704490  ...        21.589938            0.171695\n",
              "13     14                  0.823712  ...        11.284909            0.104931\n",
              "14     15                  0.988388  ...         0.586665            0.006546\n",
              "15     16                  1.000000  ...         0.000000            0.000000\n",
              "\n",
              "[16 rows x 14 columns]"
            ]
          },
          "metadata": {
            "tags": []
          }
        },
        {
          "output_type": "stream",
          "text": [
            "\n"
          ],
          "name": "stdout"
        },
        {
          "output_type": "execute_result",
          "data": {
            "text/plain": [
              ""
            ]
          },
          "metadata": {
            "tags": []
          },
          "execution_count": 571
        }
      ]
    },
    {
      "cell_type": "markdown",
      "metadata": {
        "id": "OoS-06Cj2Eh7"
      },
      "source": [
        "## Random Forest"
      ]
    },
    {
      "cell_type": "code",
      "metadata": {
        "id": "JcHmniGwzTE6",
        "colab": {
          "base_uri": "https://localhost:8080/",
          "height": 296
        },
        "outputId": "17e0eb5f-e9fb-4be8-e0ef-660840a8657a"
      },
      "source": [
        "#3. ROC\n",
        "best_rf_perf1.plot(type='roc')"
      ],
      "execution_count": null,
      "outputs": [
        {
          "output_type": "display_data",
          "data": {
            "image/png": "[encoded data removed]",
            "text/plain": [
              "<Figure size 432x288 with 1 Axes>"
            ]
          },
          "metadata": {
            "tags": [],
            "needs_background": "light"
          }
        }
      ]
    },
    {
      "cell_type": "markdown",
      "metadata": {
        "id": "_y_gBFaq2KeJ"
      },
      "source": [
        "## Random Forest"
      ]
    },
    {
      "cell_type": "code",
      "metadata": {
        "id": "MKpgrVaazTE8",
        "colab": {
          "base_uri": "https://localhost:8080/",
          "height": 438
        },
        "outputId": "6ea70525-e759-456f-bab8-e083ae12ede4"
      },
      "source": [
        "#4. Variable Importance\n",
        "best_rf1.varimp_plot(num_of_features=12)"
      ],
      "execution_count": null,
      "outputs": [
        {
          "output_type": "display_data",
          "data": {
            "image/png": "[encoded data removed]",
            "text/plain": [
              "<Figure size 1008x720 with 1 Axes>"
            ]
          },
          "metadata": {
            "tags": [],
            "needs_background": "light"
          }
        }
      ]
    },
    {
      "cell_type": "markdown",
      "metadata": {
        "id": "iPFWWHQcq2po"
      },
      "source": [
        "## Logistic Regression  (GLM)\n",
        "#####  Prepare Logistic Regression  (GLM) a different method argument of \"glm\" (for generalized  linear models) is used.  A logistic Regression doesn't have turning parameters.  So, in GLM resampling can be used to characterize the performance of the model. \n",
        "######  Kuhn, Max; Johnson, Kjell. Applied Predictive Modeling (p. 87). "
      ]
    },
    {
      "cell_type": "code",
      "metadata": {
        "id": "Tu7d2mt-qfya",
        "colab": {
          "base_uri": "https://localhost:8080/"
        },
        "outputId": "149b25c3-5590-40df-c326-c95bc8691309"
      },
      "source": [
        "#D. Train Logistic Regression\n",
        "from h2o.estimators.glm import H2OGeneralizedLinearEstimator\n",
        "from h2o.grid.grid_search import H2OGridSearch\n",
        "\n",
        "glm_grid1 = H2OGridSearch(model=H2OGeneralizedLinearEstimator,\n",
        "                          grid_id='glm_grid1',\n",
        "                          hyper_params=hyper_params_glm,\n",
        "                          search_criteria=search_criteria\n",
        "                         )\n",
        "glm_grid1.train(x=x, y=y,\n",
        "                training_frame=trn_h,\n",
        "                stopping_metric = \"misclassification\", stopping_tolerance = 1e-3, \n",
        "\t\t\t\t\t\t\t  stopping_rounds = 3,\n",
        "\t\t\t\t\t\t\t  nfolds = 5, fold_assignment = \"Modulo\", \n",
        "                balance_classes = True,\n",
        "\t\t\t\t\t\t\t  keep_cross_validation_predictions = True,\n",
        "                standardize = True,                   \n",
        "                family = \"binomial\",\n",
        "                lambda_search=False,\n",
        "                seed=1\n",
        "               )\n",
        "# Get the grid results, sorted by validation error\n",
        "#G. Evaluate\n",
        "glm_gridperf1 = glm_grid1.get_grid(sort_by='err', decreasing=True)\n",
        "\n",
        "# Grab the top GLM model, chosen by validation error\n",
        "best_glm1 = glm_gridperf1.models[0]"
      ],
      "execution_count": null,
      "outputs": [
        {
          "output_type": "stream",
          "text": [
            "glm Grid Build progress: |████████████████████████████████████████████████| 100%\n"
          ],
          "name": "stdout"
        },
        {
          "output_type": "stream",
          "text": [
            "/usr/local/lib/python3.7/dist-packages/h2o/job.py:72: UserWarning: Reached maximum number of iterations 50!\n",
            "  warnings.warn(w)\n"
          ],
          "name": "stderr"
        }
      ]
    },
    {
      "cell_type": "code",
      "metadata": {
        "id": "9lZuPdlBnUWo"
      },
      "source": [
        "## Get the grid results, sorted by validation error\n",
        "glm_gridperf1 = rf_grid1.get_grid(sort_by='err', decreasing=True)"
      ],
      "execution_count": null,
      "outputs": []
    },
    {
      "cell_type": "code",
      "metadata": {
        "id": "9-oXOFQ1qfyb",
        "colab": {
          "base_uri": "https://localhost:8080/"
        },
        "outputId": "10f75f18-091d-4809-9ba5-446161bde6c4"
      },
      "source": [
        "#D. Evaluate\n",
        "best_glm1 = glm_gridperf1.models[0]\n",
        "\n",
        "#1. AUC\n",
        "best_glm_perf1 = best_glm1.model_performance(tst_h)\n",
        "best_glm_perf1.auc()"
      ],
      "execution_count": null,
      "outputs": [
        {
          "output_type": "execute_result",
          "data": {
            "text/plain": [
              "0.6937178817176204"
            ]
          },
          "metadata": {
            "tags": []
          },
          "execution_count": 577
        }
      ]
    },
    {
      "cell_type": "code",
      "metadata": {
        "id": "moU_1I5tqfyb",
        "colab": {
          "base_uri": "https://localhost:8080/",
          "height": 1574
        },
        "outputId": "8741dbd7-1c97-48a2-b6c7-28e0db0c2b77"
      },
      "source": [
        "#2. Confusion Matrix\n",
        "best_glm_perf1"
      ],
      "execution_count": null,
      "outputs": [
        {
          "output_type": "stream",
          "text": [
            "\n",
            "ModelMetricsBinomial: drf\n",
            "** Reported on test data. **\n",
            "\n",
            "MSE: 0.09326711537898513\n",
            "RMSE: 0.3053966525340203\n",
            "LogLoss: 0.3362005121203129\n",
            "Mean Per-Class Error: 0.34198555048529733\n",
            "AUC: 0.7100942293044448\n",
            "AUCPR: 0.32712495040836853\n",
            "Gini: 0.42018845860888954\n",
            "\n",
            "Confusion Matrix (Act/Pred) for max f1 @ threshold = 0.14150914417679172: \n"
          ],
          "name": "stdout"
        },
        {
          "output_type": "display_data",
          "data": {
            "text/html": [
              "<div>\n",
              "<style scoped>\n",
              "    .dataframe tbody tr th:only-of-type {\n",
              "        vertical-align: middle;\n",
              "    }\n",
              "\n",
              "    .dataframe tbody tr th {\n",
              "        vertical-align: top;\n",
              "    }\n",
              "\n",
              "    .dataframe thead th {\n",
              "        text-align: right;\n",
              "    }\n",
              "</style>\n",
              "<table border=\"1\" class=\"dataframe\">\n",
              "  <thead>\n",
              "    <tr style=\"text-align: right;\">\n",
              "      <th></th>\n",
              "      <th></th>\n",
              "      <th>0</th>\n",
              "      <th>1</th>\n",
              "      <th>Error</th>\n",
              "      <th>Rate</th>\n",
              "    </tr>\n",
              "  </thead>\n",
              "  <tbody>\n",
              "    <tr>\n",
              "      <th>0</th>\n",
              "      <td>0</td>\n",
              "      <td>7027.0</td>\n",
              "      <td>942.0</td>\n",
              "      <td>0.1182</td>\n",
              "      <td>(942.0/7969.0)</td>\n",
              "    </tr>\n",
              "    <tr>\n",
              "      <th>1</th>\n",
              "      <td>1</td>\n",
              "      <td>623.0</td>\n",
              "      <td>450.0</td>\n",
              "      <td>0.5806</td>\n",
              "      <td>(623.0/1073.0)</td>\n",
              "    </tr>\n",
              "    <tr>\n",
              "      <th>2</th>\n",
              "      <td>Total</td>\n",
              "      <td>7650.0</td>\n",
              "      <td>1392.0</td>\n",
              "      <td>0.1731</td>\n",
              "      <td>(1565.0/9042.0)</td>\n",
              "    </tr>\n",
              "  </tbody>\n",
              "</table>\n",
              "</div>"
            ],
            "text/plain": [
              "               0       1   Error              Rate\n",
              "0      0  7027.0   942.0  0.1182    (942.0/7969.0)\n",
              "1      1   623.0   450.0  0.5806    (623.0/1073.0)\n",
              "2  Total  7650.0  1392.0  0.1731   (1565.0/9042.0)"
            ]
          },
          "metadata": {
            "tags": []
          }
        },
        {
          "output_type": "stream",
          "text": [
            "\n",
            "Maximum Metrics: Maximum metrics at their respective thresholds\n"
          ],
          "name": "stdout"
        },
        {
          "output_type": "display_data",
          "data": {
            "text/html": [
              "<div>\n",
              "<style scoped>\n",
              "    .dataframe tbody tr th:only-of-type {\n",
              "        vertical-align: middle;\n",
              "    }\n",
              "\n",
              "    .dataframe tbody tr th {\n",
              "        vertical-align: top;\n",
              "    }\n",
              "\n",
              "    .dataframe thead th {\n",
              "        text-align: right;\n",
              "    }\n",
              "</style>\n",
              "<table border=\"1\" class=\"dataframe\">\n",
              "  <thead>\n",
              "    <tr style=\"text-align: right;\">\n",
              "      <th></th>\n",
              "      <th>metric</th>\n",
              "      <th>threshold</th>\n",
              "      <th>value</th>\n",
              "      <th>idx</th>\n",
              "    </tr>\n",
              "  </thead>\n",
              "  <tbody>\n",
              "    <tr>\n",
              "      <th>0</th>\n",
              "      <td>max f1</td>\n",
              "      <td>0.141509</td>\n",
              "      <td>0.365112</td>\n",
              "      <td>80.0</td>\n",
              "    </tr>\n",
              "    <tr>\n",
              "      <th>1</th>\n",
              "      <td>max f2</td>\n",
              "      <td>0.103423</td>\n",
              "      <td>0.456256</td>\n",
              "      <td>105.0</td>\n",
              "    </tr>\n",
              "    <tr>\n",
              "      <th>2</th>\n",
              "      <td>max f0point5</td>\n",
              "      <td>0.350140</td>\n",
              "      <td>0.413821</td>\n",
              "      <td>40.0</td>\n",
              "    </tr>\n",
              "    <tr>\n",
              "      <th>3</th>\n",
              "      <td>max accuracy</td>\n",
              "      <td>0.394332</td>\n",
              "      <td>0.888963</td>\n",
              "      <td>32.0</td>\n",
              "    </tr>\n",
              "    <tr>\n",
              "      <th>4</th>\n",
              "      <td>max precision</td>\n",
              "      <td>0.638416</td>\n",
              "      <td>0.703226</td>\n",
              "      <td>17.0</td>\n",
              "    </tr>\n",
              "    <tr>\n",
              "      <th>5</th>\n",
              "      <td>max recall</td>\n",
              "      <td>0.000000</td>\n",
              "      <td>1.000000</td>\n",
              "      <td>140.0</td>\n",
              "    </tr>\n",
              "    <tr>\n",
              "      <th>6</th>\n",
              "      <td>max specificity</td>\n",
              "      <td>1.000000</td>\n",
              "      <td>0.999749</td>\n",
              "      <td>0.0</td>\n",
              "    </tr>\n",
              "    <tr>\n",
              "      <th>7</th>\n",
              "      <td>max absolute_mcc</td>\n",
              "      <td>0.233722</td>\n",
              "      <td>0.290375</td>\n",
              "      <td>52.0</td>\n",
              "    </tr>\n",
              "    <tr>\n",
              "      <th>8</th>\n",
              "      <td>max min_per_class_accuracy</td>\n",
              "      <td>0.103423</td>\n",
              "      <td>0.655172</td>\n",
              "      <td>105.0</td>\n",
              "    </tr>\n",
              "    <tr>\n",
              "      <th>9</th>\n",
              "      <td>max mean_per_class_accuracy</td>\n",
              "      <td>0.107021</td>\n",
              "      <td>0.658014</td>\n",
              "      <td>102.0</td>\n",
              "    </tr>\n",
              "    <tr>\n",
              "      <th>10</th>\n",
              "      <td>max tns</td>\n",
              "      <td>1.000000</td>\n",
              "      <td>7967.000000</td>\n",
              "      <td>0.0</td>\n",
              "    </tr>\n",
              "    <tr>\n",
              "      <th>11</th>\n",
              "      <td>max fns</td>\n",
              "      <td>1.000000</td>\n",
              "      <td>1073.000000</td>\n",
              "      <td>0.0</td>\n",
              "    </tr>\n",
              "    <tr>\n",
              "      <th>12</th>\n",
              "      <td>max fps</td>\n",
              "      <td>0.000000</td>\n",
              "      <td>7969.000000</td>\n",
              "      <td>140.0</td>\n",
              "    </tr>\n",
              "    <tr>\n",
              "      <th>13</th>\n",
              "      <td>max tps</td>\n",
              "      <td>0.000000</td>\n",
              "      <td>1073.000000</td>\n",
              "      <td>140.0</td>\n",
              "    </tr>\n",
              "    <tr>\n",
              "      <th>14</th>\n",
              "      <td>max tnr</td>\n",
              "      <td>1.000000</td>\n",
              "      <td>0.999749</td>\n",
              "      <td>0.0</td>\n",
              "    </tr>\n",
              "    <tr>\n",
              "      <th>15</th>\n",
              "      <td>max fnr</td>\n",
              "      <td>1.000000</td>\n",
              "      <td>1.000000</td>\n",
              "      <td>0.0</td>\n",
              "    </tr>\n",
              "    <tr>\n",
              "      <th>16</th>\n",
              "      <td>max fpr</td>\n",
              "      <td>0.000000</td>\n",
              "      <td>1.000000</td>\n",
              "      <td>140.0</td>\n",
              "    </tr>\n",
              "    <tr>\n",
              "      <th>17</th>\n",
              "      <td>max tpr</td>\n",
              "      <td>0.000000</td>\n",
              "      <td>1.000000</td>\n",
              "      <td>140.0</td>\n",
              "    </tr>\n",
              "  </tbody>\n",
              "</table>\n",
              "</div>"
            ],
            "text/plain": [
              "                         metric  threshold        value    idx\n",
              "0                        max f1   0.141509     0.365112   80.0\n",
              "1                        max f2   0.103423     0.456256  105.0\n",
              "2                  max f0point5   0.350140     0.413821   40.0\n",
              "3                  max accuracy   0.394332     0.888963   32.0\n",
              "4                 max precision   0.638416     0.703226   17.0\n",
              "5                    max recall   0.000000     1.000000  140.0\n",
              "6               max specificity   1.000000     0.999749    0.0\n",
              "7              max absolute_mcc   0.233722     0.290375   52.0\n",
              "8    max min_per_class_accuracy   0.103423     0.655172  105.0\n",
              "9   max mean_per_class_accuracy   0.107021     0.658014  102.0\n",
              "10                      max tns   1.000000  7967.000000    0.0\n",
              "11                      max fns   1.000000  1073.000000    0.0\n",
              "12                      max fps   0.000000  7969.000000  140.0\n",
              "13                      max tps   0.000000  1073.000000  140.0\n",
              "14                      max tnr   1.000000     0.999749    0.0\n",
              "15                      max fnr   1.000000     1.000000    0.0\n",
              "16                      max fpr   0.000000     1.000000  140.0\n",
              "17                      max tpr   0.000000     1.000000  140.0"
            ]
          },
          "metadata": {
            "tags": []
          }
        },
        {
          "output_type": "stream",
          "text": [
            "\n",
            "Gains/Lift Table: Avg response rate: 11.87 %, avg score: 11.54 %\n"
          ],
          "name": "stdout"
        },
        {
          "output_type": "display_data",
          "data": {
            "text/html": [
              "<div>\n",
              "<style scoped>\n",
              "    .dataframe tbody tr th:only-of-type {\n",
              "        vertical-align: middle;\n",
              "    }\n",
              "\n",
              "    .dataframe tbody tr th {\n",
              "        vertical-align: top;\n",
              "    }\n",
              "\n",
              "    .dataframe thead th {\n",
              "        text-align: right;\n",
              "    }\n",
              "</style>\n",
              "<table border=\"1\" class=\"dataframe\">\n",
              "  <thead>\n",
              "    <tr style=\"text-align: right;\">\n",
              "      <th></th>\n",
              "      <th>group</th>\n",
              "      <th>cumulative_data_fraction</th>\n",
              "      <th>lower_threshold</th>\n",
              "      <th>lift</th>\n",
              "      <th>cumulative_lift</th>\n",
              "      <th>response_rate</th>\n",
              "      <th>score</th>\n",
              "      <th>cumulative_response_rate</th>\n",
              "      <th>cumulative_score</th>\n",
              "      <th>capture_rate</th>\n",
              "      <th>cumulative_capture_rate</th>\n",
              "      <th>gain</th>\n",
              "      <th>cumulative_gain</th>\n",
              "      <th>kolmogorov_smirnov</th>\n",
              "    </tr>\n",
              "  </thead>\n",
              "  <tbody>\n",
              "    <tr>\n",
              "      <th>0</th>\n",
              "      <td>1</td>\n",
              "      <td>0.010728</td>\n",
              "      <td>0.676979</td>\n",
              "      <td>5.386228</td>\n",
              "      <td>5.386228</td>\n",
              "      <td>0.639175</td>\n",
              "      <td>0.731371</td>\n",
              "      <td>0.639175</td>\n",
              "      <td>0.731371</td>\n",
              "      <td>0.057782</td>\n",
              "      <td>0.057782</td>\n",
              "      <td>438.622803</td>\n",
              "      <td>438.622803</td>\n",
              "      <td>0.053390</td>\n",
              "    </tr>\n",
              "    <tr>\n",
              "      <th>1</th>\n",
              "      <td>2</td>\n",
              "      <td>0.020349</td>\n",
              "      <td>0.637656</td>\n",
              "      <td>5.908474</td>\n",
              "      <td>5.633160</td>\n",
              "      <td>0.701149</td>\n",
              "      <td>0.646812</td>\n",
              "      <td>0.668478</td>\n",
              "      <td>0.691389</td>\n",
              "      <td>0.056850</td>\n",
              "      <td>0.114632</td>\n",
              "      <td>490.847447</td>\n",
              "      <td>463.315977</td>\n",
              "      <td>0.106977</td>\n",
              "    </tr>\n",
              "    <tr>\n",
              "      <th>2</th>\n",
              "      <td>3</td>\n",
              "      <td>0.030082</td>\n",
              "      <td>0.447915</td>\n",
              "      <td>4.213420</td>\n",
              "      <td>5.173832</td>\n",
              "      <td>0.500000</td>\n",
              "      <td>0.557659</td>\n",
              "      <td>0.613971</td>\n",
              "      <td>0.648124</td>\n",
              "      <td>0.041007</td>\n",
              "      <td>0.155638</td>\n",
              "      <td>321.342032</td>\n",
              "      <td>417.383230</td>\n",
              "      <td>0.142462</td>\n",
              "    </tr>\n",
              "    <tr>\n",
              "      <th>3</th>\n",
              "      <td>4</td>\n",
              "      <td>0.042247</td>\n",
              "      <td>0.347783</td>\n",
              "      <td>3.447344</td>\n",
              "      <td>4.676676</td>\n",
              "      <td>0.409091</td>\n",
              "      <td>0.367000</td>\n",
              "      <td>0.554974</td>\n",
              "      <td>0.567172</td>\n",
              "      <td>0.041938</td>\n",
              "      <td>0.197577</td>\n",
              "      <td>244.734390</td>\n",
              "      <td>367.667595</td>\n",
              "      <td>0.176244</td>\n",
              "    </tr>\n",
              "    <tr>\n",
              "      <th>4</th>\n",
              "      <td>5</td>\n",
              "      <td>0.051758</td>\n",
              "      <td>0.254127</td>\n",
              "      <td>3.037582</td>\n",
              "      <td>4.375475</td>\n",
              "      <td>0.360465</td>\n",
              "      <td>0.282775</td>\n",
              "      <td>0.519231</td>\n",
              "      <td>0.514911</td>\n",
              "      <td>0.028891</td>\n",
              "      <td>0.226468</td>\n",
              "      <td>203.758209</td>\n",
              "      <td>337.547494</td>\n",
              "      <td>0.198233</td>\n",
              "    </tr>\n",
              "    <tr>\n",
              "      <th>5</th>\n",
              "      <td>6</td>\n",
              "      <td>0.110927</td>\n",
              "      <td>0.164981</td>\n",
              "      <td>2.047644</td>\n",
              "      <td>3.133810</td>\n",
              "      <td>0.242991</td>\n",
              "      <td>0.184901</td>\n",
              "      <td>0.371884</td>\n",
              "      <td>0.338883</td>\n",
              "      <td>0.121156</td>\n",
              "      <td>0.347623</td>\n",
              "      <td>104.764352</td>\n",
              "      <td>213.381013</td>\n",
              "      <td>0.268567</td>\n",
              "    </tr>\n",
              "    <tr>\n",
              "      <th>6</th>\n",
              "      <td>7</td>\n",
              "      <td>0.153948</td>\n",
              "      <td>0.141509</td>\n",
              "      <td>1.668038</td>\n",
              "      <td>2.724194</td>\n",
              "      <td>0.197943</td>\n",
              "      <td>0.147190</td>\n",
              "      <td>0.323276</td>\n",
              "      <td>0.285314</td>\n",
              "      <td>0.071761</td>\n",
              "      <td>0.419385</td>\n",
              "      <td>66.803786</td>\n",
              "      <td>172.419417</td>\n",
              "      <td>0.301177</td>\n",
              "    </tr>\n",
              "    <tr>\n",
              "      <th>7</th>\n",
              "      <td>8</td>\n",
              "      <td>0.235789</td>\n",
              "      <td>0.118242</td>\n",
              "      <td>1.036274</td>\n",
              "      <td>2.138331</td>\n",
              "      <td>0.122973</td>\n",
              "      <td>0.122100</td>\n",
              "      <td>0.253752</td>\n",
              "      <td>0.228664</td>\n",
              "      <td>0.084809</td>\n",
              "      <td>0.504194</td>\n",
              "      <td>3.627365</td>\n",
              "      <td>113.833057</td>\n",
              "      <td>0.304545</td>\n",
              "    </tr>\n",
              "    <tr>\n",
              "      <th>8</th>\n",
              "      <td>9</td>\n",
              "      <td>0.332117</td>\n",
              "      <td>0.108619</td>\n",
              "      <td>1.073914</td>\n",
              "      <td>1.829604</td>\n",
              "      <td>0.127440</td>\n",
              "      <td>0.112387</td>\n",
              "      <td>0.217116</td>\n",
              "      <td>0.194939</td>\n",
              "      <td>0.103448</td>\n",
              "      <td>0.607642</td>\n",
              "      <td>7.391425</td>\n",
              "      <td>82.960376</td>\n",
              "      <td>0.312624</td>\n",
              "    </tr>\n",
              "    <tr>\n",
              "      <th>9</th>\n",
              "      <td>10</td>\n",
              "      <td>0.415505</td>\n",
              "      <td>0.103348</td>\n",
              "      <td>0.894094</td>\n",
              "      <td>1.641854</td>\n",
              "      <td>0.106101</td>\n",
              "      <td>0.103868</td>\n",
              "      <td>0.194836</td>\n",
              "      <td>0.176661</td>\n",
              "      <td>0.074557</td>\n",
              "      <td>0.682199</td>\n",
              "      <td>-10.590550</td>\n",
              "      <td>64.185450</td>\n",
              "      <td>0.302604</td>\n",
              "    </tr>\n",
              "    <tr>\n",
              "      <th>10</th>\n",
              "      <td>11</td>\n",
              "      <td>0.535280</td>\n",
              "      <td>0.092960</td>\n",
              "      <td>0.653605</td>\n",
              "      <td>1.420724</td>\n",
              "      <td>0.077562</td>\n",
              "      <td>0.093520</td>\n",
              "      <td>0.168595</td>\n",
              "      <td>0.158058</td>\n",
              "      <td>0.078285</td>\n",
              "      <td>0.760485</td>\n",
              "      <td>-34.639463</td>\n",
              "      <td>42.072354</td>\n",
              "      <td>0.255528</td>\n",
              "    </tr>\n",
              "    <tr>\n",
              "      <th>11</th>\n",
              "      <td>12</td>\n",
              "      <td>0.612475</td>\n",
              "      <td>0.088845</td>\n",
              "      <td>0.422549</td>\n",
              "      <td>1.294915</td>\n",
              "      <td>0.050143</td>\n",
              "      <td>0.089153</td>\n",
              "      <td>0.153666</td>\n",
              "      <td>0.149373</td>\n",
              "      <td>0.032619</td>\n",
              "      <td>0.793103</td>\n",
              "      <td>-57.745068</td>\n",
              "      <td>29.491538</td>\n",
              "      <td>0.204949</td>\n",
              "    </tr>\n",
              "    <tr>\n",
              "      <th>12</th>\n",
              "      <td>13</td>\n",
              "      <td>0.738553</td>\n",
              "      <td>0.074530</td>\n",
              "      <td>0.680061</td>\n",
              "      <td>1.189954</td>\n",
              "      <td>0.080702</td>\n",
              "      <td>0.079326</td>\n",
              "      <td>0.141210</td>\n",
              "      <td>0.137415</td>\n",
              "      <td>0.085741</td>\n",
              "      <td>0.878844</td>\n",
              "      <td>-31.993918</td>\n",
              "      <td>18.995369</td>\n",
              "      <td>0.159181</td>\n",
              "    </tr>\n",
              "    <tr>\n",
              "      <th>13</th>\n",
              "      <td>14</td>\n",
              "      <td>0.816523</td>\n",
              "      <td>0.057276</td>\n",
              "      <td>0.573742</td>\n",
              "      <td>1.131112</td>\n",
              "      <td>0.068085</td>\n",
              "      <td>0.058707</td>\n",
              "      <td>0.134227</td>\n",
              "      <td>0.129900</td>\n",
              "      <td>0.044734</td>\n",
              "      <td>0.923579</td>\n",
              "      <td>-42.625766</td>\n",
              "      <td>13.111189</td>\n",
              "      <td>0.121471</td>\n",
              "    </tr>\n",
              "    <tr>\n",
              "      <th>14</th>\n",
              "      <td>15</td>\n",
              "      <td>0.989825</td>\n",
              "      <td>0.052035</td>\n",
              "      <td>0.419460</td>\n",
              "      <td>1.006513</td>\n",
              "      <td>0.049777</td>\n",
              "      <td>0.052133</td>\n",
              "      <td>0.119441</td>\n",
              "      <td>0.116284</td>\n",
              "      <td>0.072693</td>\n",
              "      <td>0.996272</td>\n",
              "      <td>-58.054016</td>\n",
              "      <td>0.651314</td>\n",
              "      <td>0.007315</td>\n",
              "    </tr>\n",
              "    <tr>\n",
              "      <th>15</th>\n",
              "      <td>16</td>\n",
              "      <td>1.000000</td>\n",
              "      <td>0.000000</td>\n",
              "      <td>0.366384</td>\n",
              "      <td>1.000000</td>\n",
              "      <td>0.043478</td>\n",
              "      <td>0.032392</td>\n",
              "      <td>0.118668</td>\n",
              "      <td>0.115430</td>\n",
              "      <td>0.003728</td>\n",
              "      <td>1.000000</td>\n",
              "      <td>-63.361562</td>\n",
              "      <td>0.000000</td>\n",
              "      <td>0.000000</td>\n",
              "    </tr>\n",
              "  </tbody>\n",
              "</table>\n",
              "</div>"
            ],
            "text/plain": [
              "    group  cumulative_data_fraction  ...  cumulative_gain  kolmogorov_smirnov\n",
              "0       1                  0.010728  ...       438.622803            0.053390\n",
              "1       2                  0.020349  ...       463.315977            0.106977\n",
              "2       3                  0.030082  ...       417.383230            0.142462\n",
              "3       4                  0.042247  ...       367.667595            0.176244\n",
              "4       5                  0.051758  ...       337.547494            0.198233\n",
              "5       6                  0.110927  ...       213.381013            0.268567\n",
              "6       7                  0.153948  ...       172.419417            0.301177\n",
              "7       8                  0.235789  ...       113.833057            0.304545\n",
              "8       9                  0.332117  ...        82.960376            0.312624\n",
              "9      10                  0.415505  ...        64.185450            0.302604\n",
              "10     11                  0.535280  ...        42.072354            0.255528\n",
              "11     12                  0.612475  ...        29.491538            0.204949\n",
              "12     13                  0.738553  ...        18.995369            0.159181\n",
              "13     14                  0.816523  ...        13.111189            0.121471\n",
              "14     15                  0.989825  ...         0.651314            0.007315\n",
              "15     16                  1.000000  ...         0.000000            0.000000\n",
              "\n",
              "[16 rows x 14 columns]"
            ]
          },
          "metadata": {
            "tags": []
          }
        },
        {
          "output_type": "stream",
          "text": [
            "\n"
          ],
          "name": "stdout"
        },
        {
          "output_type": "execute_result",
          "data": {
            "text/plain": [
              ""
            ]
          },
          "metadata": {
            "tags": []
          },
          "execution_count": 448
        }
      ]
    },
    {
      "cell_type": "code",
      "metadata": {
        "id": "0sv2wP4Uqfyb",
        "colab": {
          "base_uri": "https://localhost:8080/",
          "height": 296
        },
        "outputId": "387cffbf-d5ec-4186-a948-b5d72d3c629f"
      },
      "source": [
        "#3. ROC\n",
        "best_glm_perf1.plot(type='roc')"
      ],
      "execution_count": null,
      "outputs": [
        {
          "output_type": "display_data",
          "data": {
            "image/png": "[encoded data removed]",
            "text/plain": [
              "<Figure size 432x288 with 1 Axes>"
            ]
          },
          "metadata": {
            "tags": [],
            "needs_background": "light"
          }
        }
      ]
    },
    {
      "cell_type": "code",
      "metadata": {
        "id": "unqACVZjqfyb",
        "colab": {
          "base_uri": "https://localhost:8080/",
          "height": 438
        },
        "outputId": "28e5033e-97d1-493e-bece-4294212d07cf"
      },
      "source": [
        "#4. Variable Importance\n",
        "best_glm1.varimp_plot(num_of_features=12)"
      ],
      "execution_count": null,
      "outputs": [
        {
          "output_type": "display_data",
          "data": {
            "image/png": "[encoded data removed]",
            "text/plain": [
              "<Figure size 1008x720 with 1 Axes>"
            ]
          },
          "metadata": {
            "tags": [],
            "needs_background": "light"
          }
        }
      ]
    },
    {
      "cell_type": "markdown",
      "metadata": {
        "id": "j625H7jjX9p7"
      },
      "source": [
        "# More Questions"
      ]
    },
    {
      "cell_type": "markdown",
      "metadata": {
        "id": "xikOEkRun9o-"
      },
      "source": [
        "## 1. ## Which features are NOT important in the model? Why do you think that is?\n"
      ]
    },
    {
      "cell_type": "code",
      "metadata": {
        "id": "odgUosRSlRGU"
      },
      "source": [
        "## ## The variables created as new features that were NOT very important are\n",
        "## ##  OnTime Payer and College Education. \n",
        "## ##  Martial attritube was grouped as a new feature, Married and Not Married,\n",
        "## ##  and it ranked very close to the bottom with College Education &\n",
        "## ##  OnTime Payer. \n",
        "## ##  \n",
        "\n",
        "## ##  According to this run of the model poutcome is important to the model at\n",
        "## ##  100%. "
      ],
      "execution_count": null,
      "outputs": []
    },
    {
      "cell_type": "markdown",
      "metadata": {
        "id": "HSM2PZIPlRlq"
      },
      "source": [
        "### 2. ##   Were any of the features you developed important in either model?\n"
      ]
    },
    {
      "cell_type": "code",
      "metadata": {
        "id": "X4AJNCrylV7P"
      },
      "source": [
        "## ## The variables, Age and Savings ranked higher in importance compared\n",
        "## ##  On Time Payer, and College Education. \n",
        "## ##\n",
        "## ##  In next go around, I plan to learn how to make features that are\n",
        "## ##  \"group\" together.  These new features combined with each\n",
        "## ##  other and the original variables will hopefully show importance.\n",
        "## ## "
      ],
      "execution_count": null,
      "outputs": []
    },
    {
      "cell_type": "markdown",
      "metadata": {
        "id": "hlT3ErPGlWl3"
      },
      "source": [
        "### 3. ##  Why do you think they were (or where not)?\n",
        "\n"
      ]
    },
    {
      "cell_type": "code",
      "metadata": {
        "id": "bwOAKKoYlc6n"
      },
      "source": [
        "## ##  There are usually a variety of reasons variables demonstrate importance.\n",
        "## ##  The OnTime Payer attribute is a new feature created by folks who are\n",
        "## ##  recognized as default / or late on payments.  Previously, it was higher\n",
        "## ##  in importance.  In the new feature, OnTimePayer, less than a 1000  \n",
        "## ##  of the more than 45K of the dataset were recognized as default /\n",
        "## ##  or late on payments.  So, the low importance makes sense in this feature\n",
        "## ##  could contribute to the low performance in this model. \n",
        "## ##   \n",
        "## ##  The College Educated group was disproportional amount in the dataset. \n",
        "## ##  Only 13K of the 45K were categorized as 'yes' on college educated.   \n",
        "## ##  In my next go around, College Educated group combined with a variable \n",
        "## ##  like job type or another higher performing would possibly improve the \n",
        "## ##  outcome or predictive capability\n",
        "## ##   \n",
        "## ##  Age continues to be an important variable and would like improve other\n",
        "## ##  variables when combined with other variables for my next go at this.\n",
        "## ##  Savings and Married attritubes may improve when combined with higher \n",
        "## ##  important variables in new features created in the future. \n",
        "## ##\n",
        "## ##  ## ## "
      ],
      "execution_count": null,
      "outputs": []
    },
    {
      "cell_type": "markdown",
      "metadata": {
        "id": "w93xZek_ldkv"
      },
      "source": [
        "### 4. ## Did the importance change between the modeling algorithms?\n"
      ]
    },
    {
      "cell_type": "code",
      "metadata": {
        "id": "_NtR6s3Elyi-"
      },
      "source": [
        "## ##  This exercise did show an important change in the modeling algorithms. \n",
        "## ##\n",
        "## ##  H2O was used this time and it has advantages in tuning parameters.  \n",
        "## ##  The H20 used in classification models allows provide important metrics, \n",
        "## ##  measures and outcome when the model is run like returns on error rate\n",
        "## ##  for each iteration of the training process. A score for the model at each\n",
        "## ##  iteration is calculated and can be stopped, so the process does not go on\n",
        "## ##  and on.  This can be helpful when models are especially complex. Also, it \n",
        "## ##  provides information about the importance of each feature in the \n",
        "## ##  overall model. \n",
        "\n",
        "## ##  Additional change in this analysis includes, but are limited to the\n",
        "## ##  results are\"comprised of a model key and a confusion matrix. \n",
        "## ##  According to the H20 Documentation, the model key specifies \n",
        "## ### the full forest of trees to be used for predicting classifications.  \n",
        "## ##  As a result it is more comprehensive in its outcomes and reassuring to \n",
        "## ## an analyst. "
      ],
      "execution_count": null,
      "outputs": []
    },
    {
      "cell_type": "markdown",
      "metadata": {
        "id": "Z6suKlZylzGm"
      },
      "source": [
        "## 5. ## Calculate the overall Accuracy of each model?\n",
        "\n"
      ]
    },
    {
      "cell_type": "code",
      "metadata": {
        "id": "nURN8Kiel3uw"
      },
      "source": [
        "## ##  My model is okay. The rate achieved represents improvement in the AUC \n",
        "## ##  higher than last time which was 0.50 (50%).\n",
        "## ##  The overall AUC of each model is improvement from previous runs.  \n",
        "## ##  \n",
        "## ##  Accuracy is good.  But it is important for the model to reliable.  These\n",
        "## ##  are improving.  And with time and experience they may be able to get \n",
        "## ##  a little higher. "
      ],
      "execution_count": null,
      "outputs": []
    },
    {
      "cell_type": "markdown",
      "metadata": {
        "id": "FEDBl4aLl4TZ"
      },
      "source": [
        "### 6. ##  Do you think your model has a reliable prediction? Why or Why Not?\n"
      ]
    },
    {
      "cell_type": "code",
      "metadata": {
        "id": "N-Xw-w9ImGbZ"
      },
      "source": [
        " This time both models showed a \n",
        "## ##  rate of 69% - 71% reliability.  I would like to see it get higher.  \n",
        "## ##  \n",
        "## ##  More features and research on the variables created by others would be \n",
        "## ## beneficial. "
      ],
      "execution_count": null,
      "outputs": []
    },
    {
      "cell_type": "markdown",
      "metadata": {
        "id": "e6K-ynDemFqn"
      },
      "source": [
        "### 7. ###   Which model would you choose and why?"
      ]
    },
    {
      "cell_type": "code",
      "metadata": {
        "id": "CaP5H8bbmcZ1"
      },
      "source": [
        "## ## For this case and if I had opportunity to work with a computer that could \n",
        "## ## handle big data, I would like to try this with neural networks.  Neural \n",
        "## ## seems right for this model because there is not yet a \"silverbullet\" to the\n",
        "## ## right set of variables to make a bank problem a easy one to solve by\n",
        "## ## identifying the perfect mix of characteristics to predict at a high\n",
        "## ## rate the right potential customer for the account they are promoting. \n",
        "## ## Neural networks works like a human brain, of sorts, and continues to \n",
        "## ## learn about the variables to seek better outcomes, predictions. \n",
        "## ## \n",
        "## ## Neural nets works like a human, especially how a human can try, fail, try again. \n",
        "## ## The failures are logged and a new way is attempted until success is \n",
        "## ## achieved.  It works with binary data and logistic regression models as it \n",
        "## ## seeks success trhough binary data outcomes, like \"yes\", \"no\", or “Correct” \n",
        "## ##  or“Incorrect.\" \n",
        "## ##  Many folks have used this dataset, but it is unknown to me if it has been \n",
        "## ## run through a neural network to optimize the predictive qualities.  Yet, \n",
        "## ## it has, the bank would be a quite success in identifying targeted customers.\n",
        "## ## Neural networks eventually, through supervision, how to discern the correct\n",
        "## ## response, outcome or prediction in every instance because the machine learns\n",
        "## ##  by feeding the “no” or the error back through each layer (or step).\n",
        "## ## The process gradually learns, and adapts, to the correct response.\n",
        "## ##  Neural network also has layers. The layers, work with many neurons together\n",
        "## ## According to the lecture it works the same way, but in parallel\n",
        "## ##  Each neuron evaluates based on the weighted sum and only one fires to 1,\n",
        "## ## while  the rest fire 0.  Although Bayes is better and cleaner. Yet, it \n",
        "## ## would interesting to see the results, especially \n",
        "## ##   because the human factors in this dataset and\n",
        "## ## and trying eliminate the uncertainity prevailant and hard to predict in \n",
        "## ## humans, especially in a dataset.  :) "
      ],
      "execution_count": null,
      "outputs": []
    }
  ]
}